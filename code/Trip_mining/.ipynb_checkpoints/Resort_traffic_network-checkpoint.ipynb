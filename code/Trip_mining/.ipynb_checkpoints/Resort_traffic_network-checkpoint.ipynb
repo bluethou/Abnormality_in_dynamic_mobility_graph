{
 "cells": [
  {
   "cell_type": "code",
   "execution_count": 2,
   "metadata": {},
   "outputs": [],
   "source": [
    "import pickle\n",
    "import matplotlib.pyplot as plt\n",
    "import numpy as np\n",
    "import copy"
   ]
  },
  {
   "cell_type": "code",
   "execution_count": 15,
   "metadata": {},
   "outputs": [],
   "source": [
    "with open('../pkl/global_weekly_tensor2.pkl', 'rb') as f:\n",
    "    travel_tensors_raw = pickle.load(f) "
   ]
  },
  {
   "cell_type": "code",
   "execution_count": 16,
   "metadata": {},
   "outputs": [],
   "source": [
    "def f2(x): \n",
    "    return x[1] \n",
    "\n",
    "def get_new_order(tensor):\n",
    "    traffic_dict = dict(zip(range(226), np.mean(np.sum(tensor, axis=0)[:226,:226], axis=0)))\n",
    "    res = sorted(traffic_dict.items(), key=f2, reverse = True)\n",
    "    new_order = np.array(res)[:,0].astype(int)\n",
    "    return new_order"
   ]
  },
  {
   "cell_type": "code",
   "execution_count": 17,
   "metadata": {},
   "outputs": [],
   "source": [
    "new_order = get_new_order(travel_tensors_raw)"
   ]
  },
  {
   "cell_type": "code",
   "execution_count": 18,
   "metadata": {},
   "outputs": [],
   "source": [
    "def save_object(obj, filename):\n",
    "    with open(filename, 'wb') as output:  # Overwrites any existing file.\n",
    "        pickle.dump(obj, output, pickle.HIGHEST_PROTOCOL)"
   ]
  },
  {
   "cell_type": "code",
   "execution_count": 19,
   "metadata": {},
   "outputs": [],
   "source": [
    "# save_object(new_order, '../pkl/new_country_order.pkl')"
   ]
  },
  {
   "cell_type": "code",
   "execution_count": 20,
   "metadata": {},
   "outputs": [],
   "source": [
    "# with open('../pkl/new_country_order.pkl', 'rb') as f:\n",
    "#     new_order = pickle.load(f) "
   ]
  },
  {
   "cell_type": "code",
   "execution_count": 21,
   "metadata": {},
   "outputs": [],
   "source": [
    "new_tensor = copy.deepcopy(travel_tensors_raw)"
   ]
  },
  {
   "cell_type": "code",
   "execution_count": 22,
   "metadata": {},
   "outputs": [],
   "source": [
    "for i in range(len(travel_tensors_raw)):\n",
    "    adjmat = travel_tensors_raw[i][:226,:226][:,new_order][new_order,:]\n",
    "    new_tensor[i] = np.concatenate((adjmat, adjmat.T),axis=1)"
   ]
  },
  {
   "cell_type": "code",
   "execution_count": 23,
   "metadata": {},
   "outputs": [],
   "source": [
    "# save_object(new_tensor, '../pkl/global_weekly_sorted_tensor2.pkl')"
   ]
  },
  {
   "cell_type": "code",
   "execution_count": 24,
   "metadata": {},
   "outputs": [
    {
     "data": {
      "text/plain": [
       "200"
      ]
     },
     "execution_count": 24,
     "metadata": {},
     "output_type": "execute_result"
    }
   ],
   "source": [
    "len(new_tensor)"
   ]
  },
  {
   "cell_type": "code",
   "execution_count": 25,
   "metadata": {},
   "outputs": [
    {
     "data": {
      "text/plain": [
       "Text(0.5, 0, 'Country numbering')"
      ]
     },
     "execution_count": 25,
     "metadata": {},
     "output_type": "execute_result"
    },
    {
     "data": {
      "image/png": "[encoded data removed]",
      "text/plain": [
       "<Figure size 720x288 with 1 Axes>"
      ]
     },
     "metadata": {
      "needs_background": "light"
     },
     "output_type": "display_data"
    }
   ],
   "source": [
    "# How to set a cutline\n",
    "plt.figure(figsize=(10,4))\n",
    "plt.scatter(range(226), np.mean(np.sum(new_tensor, axis=0)[:226,:226], axis=0))\n",
    "plt.axvline(x=20, linestyle='--', color='red')\n",
    "plt.axvline(x=30, linestyle='--', color='green')\n",
    "plt.axvline(x=70, linestyle='--', color='purple')\n",
    "plt.ylabel(\"Average of total traffic by country\")\n",
    "plt.xlabel(\"Country numbering\")"
   ]
  },
  {
   "cell_type": "code",
   "execution_count": 26,
   "metadata": {},
   "outputs": [
    {
     "data": {
      "text/plain": [
       "array([  0,  12,   4,  17,  24,   2,  14,  22,  10,  32,   7,  26,   9,\n",
       "        44,  45,  59,  60,  21,   3,  16,  54,  57,  30,  25,  27,  33,\n",
       "        29,  37,  18,  64,  67,  40,  41,   6,  38,  11,  20,  53,  70,\n",
       "        42,  35,  36,  62,  28,  49,  56,  46,  55,  50,  23,  58,  61,\n",
       "        19,  15, 105, 114,  81,  85,  48,  66,   5,  89,  52,  94,   1,\n",
       "        80,  72,  13,  43,  31,  82,  96,  78,  87,  88,  65,  73,  91,\n",
       "       123,  95, 109,  83, 127,  79,  92, 116, 137,  90, 150, 131, 100,\n",
       "        84, 113, 103,  77, 107, 154, 145,   8,  98, 108, 110,  47,  69,\n",
       "        68, 111, 161,  86,  99, 136,  63, 141, 101, 126, 129, 138,  93,\n",
       "        51, 104, 148, 160, 119, 120, 115, 106, 158, 135, 118, 121, 159,\n",
       "       173,  74, 124, 134, 144, 169, 177, 152, 172, 176, 130, 157, 189,\n",
       "       125, 147, 102,  76, 122, 117, 165, 178, 187,  97, 153, 191, 209,\n",
       "       139, 146, 151, 194, 132, 142, 204, 214, 143, 174, 180, 193, 170,\n",
       "       182, 190, 140, 155, 156, 196, 199, 205, 211,  39, 171, 183, 198,\n",
       "       216, 128, 167, 203, 213, 201, 221,  71, 112, 164, 175, 179, 184,\n",
       "       195, 220, 202, 206, 212, 217, 219, 224, 168, 188, 192, 197, 200,\n",
       "       208, 210, 215,  75, 133, 181, 185, 186, 222, 225, 149, 162, 163,\n",
       "       166, 207, 218,  34, 223])"
      ]
     },
     "execution_count": 26,
     "metadata": {},
     "output_type": "execute_result"
    }
   ],
   "source": [
    "new_order"
   ]
  },
  {
   "cell_type": "markdown",
   "metadata": {},
   "source": [
    "# home resort"
   ]
  },
  {
   "cell_type": "code",
   "execution_count": 10,
   "metadata": {},
   "outputs": [],
   "source": [
    "with open('../pkl/[weekly]home_adj_from20180107_2.pkl', 'rb') as f:\n",
    "    home_raw = pickle.load(f) "
   ]
  },
  {
   "cell_type": "code",
   "execution_count": 11,
   "metadata": {},
   "outputs": [],
   "source": [
    "with open('../pkl/new_country_order.pkl', 'rb') as f:\n",
    "    new_order = pickle.load(f) "
   ]
  },
  {
   "cell_type": "code",
   "execution_count": 12,
   "metadata": {},
   "outputs": [],
   "source": [
    "new_tensor = copy.deepcopy(home_raw)"
   ]
  },
  {
   "cell_type": "code",
   "execution_count": 13,
   "metadata": {},
   "outputs": [],
   "source": [
    "for i in range(len(home_raw)):\n",
    "    adjmat = home_raw[i][:226,:226][:,new_order][new_order,:]\n",
    "    new_tensor[i] = np.concatenate((adjmat, adjmat.T),axis=1)"
   ]
  },
  {
   "cell_type": "code",
   "execution_count": 15,
   "metadata": {},
   "outputs": [],
   "source": [
    "def save_object(obj, filename):\n",
    "    with open(filename, 'wb') as output:  # Overwrites any existing file.\n",
    "        pickle.dump(obj, output, pickle.HIGHEST_PROTOCOL)"
   ]
  },
  {
   "cell_type": "code",
   "execution_count": 16,
   "metadata": {},
   "outputs": [],
   "source": [
    "save_object(new_tensor, '../pkl/[weekly]home_adj_from20180107_sorted_2.pkl')"
   ]
  },
  {
   "cell_type": "code",
   "execution_count": null,
   "metadata": {},
   "outputs": [],
   "source": []
  }
 ],
 "metadata": {
  "kernelspec": {
   "display_name": "Python 3",
   "language": "python",
   "name": "python3"
  },
  "language_info": {
   "codemirror_mode": {
    "name": "ipython",
    "version": 3
   },
   "file_extension": ".py",
   "mimetype": "text/x-python",
   "name": "python",
   "nbconvert_exporter": "python",
   "pygments_lexer": "ipython3",
   "version": "3.7.6"
  }
 },
 "nbformat": 4,
 "nbformat_minor": 4
}

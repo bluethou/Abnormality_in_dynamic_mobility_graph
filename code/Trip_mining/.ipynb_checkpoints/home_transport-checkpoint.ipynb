{
 "cells": [
  {
   "cell_type": "code",
   "execution_count": 1,
   "metadata": {},
   "outputs": [],
   "source": [
    "import numpy as np\n",
    "# from cdlib import algorithms, viz, evaluation\n",
    "import networkx as nx\n",
    "import pickle\n",
    "import pandas as pd\n",
    "import matplotlib.pyplot as plt\n",
    "from scipy.stats import entropy"
   ]
  },
  {
   "cell_type": "code",
   "execution_count": 2,
   "metadata": {},
   "outputs": [],
   "source": [
    "with open('../pkl/global_weekly_tensor2.pkl', 'rb') as f:\n",
    "    travel_tensors = pickle.load(f) \n",
    "    \n",
    "# with open('../pkl/global_serial_graphs.pkl', 'rb') as f:\n",
    "#     serial_graphs = pickle.load(f) "
   ]
  },
  {
   "cell_type": "code",
   "execution_count": 3,
   "metadata": {},
   "outputs": [
    {
     "data": {
      "text/plain": [
       "(200, 226, 452)"
      ]
     },
     "execution_count": 3,
     "metadata": {},
     "output_type": "execute_result"
    }
   ],
   "source": [
    "travel_tensors.shape"
   ]
  },
  {
   "cell_type": "code",
   "execution_count": 4,
   "metadata": {},
   "outputs": [
    {
     "data": {
      "text/plain": [
       "0.003931004777194769"
      ]
     },
     "execution_count": 4,
     "metadata": {},
     "output_type": "execute_result"
    }
   ],
   "source": [
    "np.sum(travel_tensors>0) / (200*226*226*2)"
   ]
  },
  {
   "cell_type": "code",
   "execution_count": 5,
   "metadata": {},
   "outputs": [
    {
     "data": {
      "text/plain": [
       "204"
      ]
     },
     "execution_count": 5,
     "metadata": {},
     "output_type": "execute_result"
    }
   ],
   "source": [
    "aj = travel_tensors[16]\n",
    "np.sum(aj>0)"
   ]
  },
  {
   "cell_type": "code",
   "execution_count": 6,
   "metadata": {},
   "outputs": [],
   "source": [
    "df = pd.read_csv('../csv/global_travel_df.csv')\n",
    "df = df.iloc[:,1:]"
   ]
  },
  {
   "cell_type": "code",
   "execution_count": 7,
   "metadata": {},
   "outputs": [],
   "source": [
    "df['First_checkin'] = pd.to_datetime(df['First_checkin'])\n",
    "df['Last_checkin'] = pd.to_datetime(df['Last_checkin'])"
   ]
  },
  {
   "cell_type": "code",
   "execution_count": 8,
   "metadata": {},
   "outputs": [
    {
     "name": "stderr",
     "output_type": "stream",
     "text": [
      "/Users/gimpuleumoe/opt/anaconda3/lib/python3.7/site-packages/pandas/core/frame.py:4133: SettingWithCopyWarning: \n",
      "A value is trying to be set on a copy of a slice from a DataFrame\n",
      "\n",
      "See the caveats in the documentation: https://pandas.pydata.org/pandas-docs/stable/user_guide/indexing.html#returning-a-view-versus-a-copy\n",
      "  errors=errors,\n"
     ]
    }
   ],
   "source": [
    "home_df = df.groupby('trip_id').head(1)\n",
    "home_df.rename(columns={'node':'home'}, inplace=True)"
   ]
  },
  {
   "cell_type": "code",
   "execution_count": 9,
   "metadata": {},
   "outputs": [
    {
     "data": {
      "text/html": [
       "<div>\n",
       "<style scoped>\n",
       "    .dataframe tbody tr th:only-of-type {\n",
       "        vertical-align: middle;\n",
       "    }\n",
       "\n",
       "    .dataframe tbody tr th {\n",
       "        vertical-align: top;\n",
       "    }\n",
       "\n",
       "    .dataframe thead th {\n",
       "        text-align: right;\n",
       "    }\n",
       "</style>\n",
       "<table border=\"1\" class=\"dataframe\">\n",
       "  <thead>\n",
       "    <tr style=\"text-align: right;\">\n",
       "      <th></th>\n",
       "      <th>trip_number</th>\n",
       "      <th>trip_id</th>\n",
       "      <th>home</th>\n",
       "      <th>First_checkin</th>\n",
       "      <th>Last_checkin</th>\n",
       "    </tr>\n",
       "  </thead>\n",
       "  <tbody>\n",
       "    <tr>\n",
       "      <th>0</th>\n",
       "      <td>1</td>\n",
       "      <td>d8799616e3</td>\n",
       "      <td>US</td>\n",
       "      <td>2018-10-03 07:18:32</td>\n",
       "      <td>2018-10-06 05:33:12</td>\n",
       "    </tr>\n",
       "    <tr>\n",
       "      <th>1</th>\n",
       "      <td>1</td>\n",
       "      <td>7dee487f12</td>\n",
       "      <td>US</td>\n",
       "      <td>2018-07-11 21:09:27</td>\n",
       "      <td>2018-07-12 00:23:41</td>\n",
       "    </tr>\n",
       "    <tr>\n",
       "      <th>4</th>\n",
       "      <td>2</td>\n",
       "      <td>512a66d10e</td>\n",
       "      <td>EC</td>\n",
       "      <td>2017-07-08 15:32:39</td>\n",
       "      <td>2017-07-09 18:05:26</td>\n",
       "    </tr>\n",
       "    <tr>\n",
       "      <th>6</th>\n",
       "      <td>3</td>\n",
       "      <td>d3c75249d3</td>\n",
       "      <td>US</td>\n",
       "      <td>2019-04-18 16:57:58</td>\n",
       "      <td>2019-04-20 16:40:10</td>\n",
       "    </tr>\n",
       "    <tr>\n",
       "      <th>9</th>\n",
       "      <td>4</td>\n",
       "      <td>8da79163fc</td>\n",
       "      <td>DE</td>\n",
       "      <td>2017-06-24 21:38:12</td>\n",
       "      <td>2017-07-01 09:43:10</td>\n",
       "    </tr>\n",
       "    <tr>\n",
       "      <th>...</th>\n",
       "      <td>...</td>\n",
       "      <td>...</td>\n",
       "      <td>...</td>\n",
       "      <td>...</td>\n",
       "      <td>...</td>\n",
       "    </tr>\n",
       "    <tr>\n",
       "      <th>1364012</th>\n",
       "      <td>29994</td>\n",
       "      <td>10ca9a2259</td>\n",
       "      <td>IT</td>\n",
       "      <td>2016-09-07 08:17:50</td>\n",
       "      <td>2016-09-08 19:08:28</td>\n",
       "    </tr>\n",
       "    <tr>\n",
       "      <th>1364016</th>\n",
       "      <td>29995</td>\n",
       "      <td>cd302411cf</td>\n",
       "      <td>PH</td>\n",
       "      <td>2018-06-09 23:39:00</td>\n",
       "      <td>2018-06-13 09:52:59</td>\n",
       "    </tr>\n",
       "    <tr>\n",
       "      <th>1364018</th>\n",
       "      <td>29996</td>\n",
       "      <td>8d07c043e6</td>\n",
       "      <td>US</td>\n",
       "      <td>2017-03-03 17:21:22</td>\n",
       "      <td>2017-03-04 14:57:41</td>\n",
       "    </tr>\n",
       "    <tr>\n",
       "      <th>1364060</th>\n",
       "      <td>29999</td>\n",
       "      <td>4c2d0c689e</td>\n",
       "      <td>US</td>\n",
       "      <td>2018-02-07 22:13:58</td>\n",
       "      <td>2018-02-08 00:55:40</td>\n",
       "    </tr>\n",
       "    <tr>\n",
       "      <th>1364063</th>\n",
       "      <td>30000</td>\n",
       "      <td>a124677fc3</td>\n",
       "      <td>MX</td>\n",
       "      <td>2018-12-10 16:39:44</td>\n",
       "      <td>2018-12-12 20:14:24</td>\n",
       "    </tr>\n",
       "  </tbody>\n",
       "</table>\n",
       "<p>240533 rows × 5 columns</p>\n",
       "</div>"
      ],
      "text/plain": [
       "         trip_number     trip_id home       First_checkin        Last_checkin\n",
       "0                  1  d8799616e3   US 2018-10-03 07:18:32 2018-10-06 05:33:12\n",
       "1                  1  7dee487f12   US 2018-07-11 21:09:27 2018-07-12 00:23:41\n",
       "4                  2  512a66d10e   EC 2017-07-08 15:32:39 2017-07-09 18:05:26\n",
       "6                  3  d3c75249d3   US 2019-04-18 16:57:58 2019-04-20 16:40:10\n",
       "9                  4  8da79163fc   DE 2017-06-24 21:38:12 2017-07-01 09:43:10\n",
       "...              ...         ...  ...                 ...                 ...\n",
       "1364012        29994  10ca9a2259   IT 2016-09-07 08:17:50 2016-09-08 19:08:28\n",
       "1364016        29995  cd302411cf   PH 2018-06-09 23:39:00 2018-06-13 09:52:59\n",
       "1364018        29996  8d07c043e6   US 2017-03-03 17:21:22 2017-03-04 14:57:41\n",
       "1364060        29999  4c2d0c689e   US 2018-02-07 22:13:58 2018-02-08 00:55:40\n",
       "1364063        30000  a124677fc3   MX 2018-12-10 16:39:44 2018-12-12 20:14:24\n",
       "\n",
       "[240533 rows x 5 columns]"
      ]
     },
     "execution_count": 9,
     "metadata": {},
     "output_type": "execute_result"
    }
   ],
   "source": [
    "home_df"
   ]
  },
  {
   "cell_type": "code",
   "execution_count": 10,
   "metadata": {},
   "outputs": [],
   "source": [
    "merged_df = pd.merge(df, home_df[['trip_id','home']], how='inner',left_on=['trip_id'],right_on=['trip_id'])"
   ]
  },
  {
   "cell_type": "code",
   "execution_count": 11,
   "metadata": {},
   "outputs": [
    {
     "data": {
      "text/html": [
       "<div>\n",
       "<style scoped>\n",
       "    .dataframe tbody tr th:only-of-type {\n",
       "        vertical-align: middle;\n",
       "    }\n",
       "\n",
       "    .dataframe tbody tr th {\n",
       "        vertical-align: top;\n",
       "    }\n",
       "\n",
       "    .dataframe thead th {\n",
       "        text-align: right;\n",
       "    }\n",
       "</style>\n",
       "<table border=\"1\" class=\"dataframe\">\n",
       "  <thead>\n",
       "    <tr style=\"text-align: right;\">\n",
       "      <th></th>\n",
       "      <th>trip_number</th>\n",
       "      <th>trip_id</th>\n",
       "      <th>node</th>\n",
       "      <th>First_checkin</th>\n",
       "      <th>Last_checkin</th>\n",
       "      <th>home</th>\n",
       "    </tr>\n",
       "  </thead>\n",
       "  <tbody>\n",
       "    <tr>\n",
       "      <th>0</th>\n",
       "      <td>1</td>\n",
       "      <td>d8799616e3</td>\n",
       "      <td>US</td>\n",
       "      <td>2018-10-03 07:18:32</td>\n",
       "      <td>2018-10-06 05:33:12</td>\n",
       "      <td>US</td>\n",
       "    </tr>\n",
       "    <tr>\n",
       "      <th>1</th>\n",
       "      <td>1</td>\n",
       "      <td>d8799616e3</td>\n",
       "      <td>US</td>\n",
       "      <td>2018-10-03 07:18:32</td>\n",
       "      <td>2018-10-06 05:33:12</td>\n",
       "      <td>US</td>\n",
       "    </tr>\n",
       "    <tr>\n",
       "      <th>2</th>\n",
       "      <td>1</td>\n",
       "      <td>d8799616e3</td>\n",
       "      <td>US</td>\n",
       "      <td>2018-10-03 07:18:32</td>\n",
       "      <td>2018-10-06 05:33:12</td>\n",
       "      <td>US</td>\n",
       "    </tr>\n",
       "    <tr>\n",
       "      <th>3</th>\n",
       "      <td>1</td>\n",
       "      <td>d8799616e3</td>\n",
       "      <td>US</td>\n",
       "      <td>2018-10-03 07:18:32</td>\n",
       "      <td>2018-10-06 05:33:12</td>\n",
       "      <td>US</td>\n",
       "    </tr>\n",
       "    <tr>\n",
       "      <th>4</th>\n",
       "      <td>1</td>\n",
       "      <td>d8799616e3</td>\n",
       "      <td>US</td>\n",
       "      <td>2018-10-03 07:18:32</td>\n",
       "      <td>2018-10-06 05:33:12</td>\n",
       "      <td>US</td>\n",
       "    </tr>\n",
       "    <tr>\n",
       "      <th>...</th>\n",
       "      <td>...</td>\n",
       "      <td>...</td>\n",
       "      <td>...</td>\n",
       "      <td>...</td>\n",
       "      <td>...</td>\n",
       "      <td>...</td>\n",
       "    </tr>\n",
       "    <tr>\n",
       "      <th>1819576</th>\n",
       "      <td>30000</td>\n",
       "      <td>a124677fc3</td>\n",
       "      <td>MX</td>\n",
       "      <td>2018-12-10 16:39:44</td>\n",
       "      <td>2018-12-12 20:14:24</td>\n",
       "      <td>MX</td>\n",
       "    </tr>\n",
       "    <tr>\n",
       "      <th>1819577</th>\n",
       "      <td>30000</td>\n",
       "      <td>a124677fc3</td>\n",
       "      <td>MX</td>\n",
       "      <td>2018-12-10 16:39:44</td>\n",
       "      <td>2018-12-10 17:20:27</td>\n",
       "      <td>MX</td>\n",
       "    </tr>\n",
       "    <tr>\n",
       "      <th>1819578</th>\n",
       "      <td>30000</td>\n",
       "      <td>a124677fc3</td>\n",
       "      <td>MX</td>\n",
       "      <td>2018-12-11 13:41:43</td>\n",
       "      <td>2018-12-11 13:41:43</td>\n",
       "      <td>MX</td>\n",
       "    </tr>\n",
       "    <tr>\n",
       "      <th>1819579</th>\n",
       "      <td>30000</td>\n",
       "      <td>a124677fc3</td>\n",
       "      <td>MX</td>\n",
       "      <td>2018-12-11 16:26:33</td>\n",
       "      <td>2018-12-11 16:38:33</td>\n",
       "      <td>MX</td>\n",
       "    </tr>\n",
       "    <tr>\n",
       "      <th>1819580</th>\n",
       "      <td>30000</td>\n",
       "      <td>a124677fc3</td>\n",
       "      <td>MX</td>\n",
       "      <td>2018-12-11 23:04:14</td>\n",
       "      <td>2018-12-12 20:14:24</td>\n",
       "      <td>MX</td>\n",
       "    </tr>\n",
       "  </tbody>\n",
       "</table>\n",
       "<p>1819581 rows × 6 columns</p>\n",
       "</div>"
      ],
      "text/plain": [
       "         trip_number     trip_id node       First_checkin        Last_checkin  \\\n",
       "0                  1  d8799616e3   US 2018-10-03 07:18:32 2018-10-06 05:33:12   \n",
       "1                  1  d8799616e3   US 2018-10-03 07:18:32 2018-10-06 05:33:12   \n",
       "2                  1  d8799616e3   US 2018-10-03 07:18:32 2018-10-06 05:33:12   \n",
       "3                  1  d8799616e3   US 2018-10-03 07:18:32 2018-10-06 05:33:12   \n",
       "4                  1  d8799616e3   US 2018-10-03 07:18:32 2018-10-06 05:33:12   \n",
       "...              ...         ...  ...                 ...                 ...   \n",
       "1819576        30000  a124677fc3   MX 2018-12-10 16:39:44 2018-12-12 20:14:24   \n",
       "1819577        30000  a124677fc3   MX 2018-12-10 16:39:44 2018-12-10 17:20:27   \n",
       "1819578        30000  a124677fc3   MX 2018-12-11 13:41:43 2018-12-11 13:41:43   \n",
       "1819579        30000  a124677fc3   MX 2018-12-11 16:26:33 2018-12-11 16:38:33   \n",
       "1819580        30000  a124677fc3   MX 2018-12-11 23:04:14 2018-12-12 20:14:24   \n",
       "\n",
       "        home  \n",
       "0         US  \n",
       "1         US  \n",
       "2         US  \n",
       "3         US  \n",
       "4         US  \n",
       "...      ...  \n",
       "1819576   MX  \n",
       "1819577   MX  \n",
       "1819578   MX  \n",
       "1819579   MX  \n",
       "1819580   MX  \n",
       "\n",
       "[1819581 rows x 6 columns]"
      ]
     },
     "execution_count": 11,
     "metadata": {},
     "output_type": "execute_result"
    }
   ],
   "source": [
    "merged_df "
   ]
  },
  {
   "cell_type": "code",
   "execution_count": 12,
   "metadata": {},
   "outputs": [],
   "source": [
    "travel_df = pd.read_csv('../csv/global_travel_df.csv')\n",
    "countries = travel_df['node'].unique().T\n",
    "label_dict = dict(zip(countries, range(226)))"
   ]
  },
  {
   "cell_type": "code",
   "execution_count": 13,
   "metadata": {
    "scrolled": true
   },
   "outputs": [
    {
     "name": "stdout",
     "output_type": "stream",
     "text": [
      "0\n",
      "1\n",
      "2\n",
      "3\n",
      "4\n",
      "5\n",
      "6\n",
      "7\n",
      "8\n",
      "9\n",
      "10\n",
      "11\n",
      "12\n",
      "13\n",
      "14\n",
      "15\n",
      "16\n",
      "17\n",
      "18\n",
      "19\n",
      "20\n",
      "21\n",
      "22\n",
      "23\n",
      "24\n",
      "25\n",
      "26\n",
      "27\n",
      "28\n",
      "29\n",
      "30\n",
      "31\n",
      "32\n",
      "33\n",
      "34\n",
      "35\n",
      "36\n",
      "37\n",
      "38\n",
      "39\n",
      "40\n",
      "41\n",
      "42\n",
      "43\n",
      "44\n",
      "45\n",
      "46\n",
      "47\n",
      "48\n",
      "49\n",
      "50\n",
      "51\n",
      "52\n",
      "53\n",
      "54\n",
      "55\n",
      "56\n",
      "57\n",
      "58\n",
      "59\n",
      "60\n",
      "61\n",
      "62\n",
      "63\n",
      "64\n",
      "65\n",
      "66\n",
      "67\n",
      "68\n",
      "69\n",
      "70\n",
      "71\n",
      "72\n",
      "73\n",
      "74\n",
      "75\n",
      "76\n",
      "77\n",
      "78\n",
      "79\n",
      "80\n",
      "81\n",
      "82\n",
      "83\n",
      "84\n",
      "85\n",
      "86\n",
      "87\n",
      "88\n",
      "89\n",
      "90\n",
      "91\n",
      "92\n",
      "93\n",
      "94\n"
     ]
    }
   ],
   "source": [
    "country_num = len(countries)\n",
    "week_slices = pd.date_range('2016-01-04', periods=200+1, freq='W')\n",
    "\n",
    "home_adj_list = []\n",
    "\n",
    "for i in range(95):\n",
    "    print(i)\n",
    "    home_adj = np.zeros([country_num,country_num])\n",
    "    start = week_slices[104 +i]\n",
    "    end = week_slices[105 +i]\n",
    "    df_intime = merged_df[(merged_df['First_checkin']>=start) & (merged_df['First_checkin'] < end)]\n",
    "    df_intime = df_intime[(df_intime['node']!=df_intime['home'])]\n",
    "    \n",
    "    for index, row in df_intime.iterrows():\n",
    "        r = label_dict[row['home']]\n",
    "        c = label_dict[row['node']]\n",
    "        if(r!=c):\n",
    "            home_adj[r,c] +=1\n",
    "    home_adj_list.append(home_adj)"
   ]
  },
  {
   "cell_type": "code",
   "execution_count": 14,
   "metadata": {},
   "outputs": [
    {
     "data": {
      "text/plain": [
       "Timestamp('2018-01-07 00:00:00', freq='W-SUN')"
      ]
     },
     "execution_count": 14,
     "metadata": {},
     "output_type": "execute_result"
    }
   ],
   "source": [
    "week_slices[156-52]"
   ]
  },
  {
   "cell_type": "code",
   "execution_count": 15,
   "metadata": {},
   "outputs": [],
   "source": [
    "def save_object(obj, filename):\n",
    "    with open(filename, 'wb') as output:  # Overwrites any existing file.\n",
    "        pickle.dump(obj, output, pickle.HIGHEST_PROTOCOL)\n",
    "\n",
    "save_object(home_adj_list, '../pkl/[weekly]home_adj_from20180107_2.pkl')"
   ]
  },
  {
   "cell_type": "code",
   "execution_count": 16,
   "metadata": {},
   "outputs": [
    {
     "data": {
      "text/plain": [
       "(95, 226, 226)"
      ]
     },
     "execution_count": 16,
     "metadata": {},
     "output_type": "execute_result"
    }
   ],
   "source": [
    "np.array(home_adj_list).shape"
   ]
  },
  {
   "cell_type": "code",
   "execution_count": null,
   "metadata": {},
   "outputs": [],
   "source": []
  }
 ],
 "metadata": {
  "kernelspec": {
   "display_name": "Python 3",
   "language": "python",
   "name": "python3"
  },
  "language_info": {
   "codemirror_mode": {
    "name": "ipython",
    "version": 3
   },
   "file_extension": ".py",
   "mimetype": "text/x-python",
   "name": "python",
   "nbconvert_exporter": "python",
   "pygments_lexer": "ipython3",
   "version": "3.7.6"
  }
 },
 "nbformat": 4,
 "nbformat_minor": 4
}

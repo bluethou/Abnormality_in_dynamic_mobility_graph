{
 "cells": [
  {
   "cell_type": "code",
   "execution_count": 1,
   "metadata": {},
   "outputs": [],
   "source": [
    "import os\n",
    "os.chdir('C:\\\\Users\\\\z0044pcu\\\\Downloads')"
   ]
  },
  {
   "cell_type": "code",
   "execution_count": 2,
   "metadata": {},
   "outputs": [
    {
     "name": "stdout",
     "output_type": "stream",
     "text": [
      "1139675\n",
      "{'trip_id': 'd8799616e3', 'traveler_id': 914731076, 'dataset': 'twitter', 'traveler_home_country': 'US', 'traveler_home_location_lat': 42.226541999999995, 'traveler_home_location_lng': -84.4289256, 'traveler_home_ratio': 0.7242798353909465, 'first_checkin': '2018-10-03 07:18:32', 'last_checkin': '2018-10-06 05:33:12', 'duration': 4, 'num_checkins': 6, 'blocks': [{'country_code': 'US', 'location_name': '', 'location_id': '8fa6d7a33b83ef26', 'location_latitude': 36.0609645, 'location_longitude': -115.13516489999999, 'first_checkin': '2018-10-03 07:18:32', 'last_checkin': '2018-10-06 05:33:12', 'duration': 4, 'num_checkins': 6}], 'checkin_density': 0.75, 'checkin_frequency': 1.5, 'num_distinct_countries': 1, 'num_blocks': 1, 'mean_checkin_distance': 0, 'median_checkin_distance': 0, 'mean_checkin_duration': 842.9333333333332, 'median_checkin_duration': 250.85, 'mean_displacement': 2725.2202481883646, 'median_displacement': 2725.2202481883646, 'radius_of_gyration': 0, 'tripmining_version': '0.2.7'}\n",
      "613687\n",
      "{'trip_id': 'b3702d24fc', 'traveler_id': 897335755, 'dataset': 'twitter', 'traveler_home_country': 'JP', 'traveler_home_location_lat': 35.566894, 'traveler_home_location_lng': 139.73951449999998, 'traveler_home_ratio': 0.2571428571428571, 'first_checkin': '2018-03-20 08:12:30', 'last_checkin': '2018-05-05 12:36:22', 'duration': 47, 'num_checkins': 20, 'blocks': [{'country_code': 'JP', 'location_name': '', 'location_id': '4ad3383e25ac98d9', 'location_latitude': 35.613060000000004, 'location_longitude': 139.734723, 'first_checkin': '2018-03-20 08:12:30', 'last_checkin': '2018-03-20 08:12:30', 'duration': 1, 'num_checkins': 1}, {'country_code': 'JP', 'location_name': '', 'location_id': '735b6f2b933efaf6', 'location_latitude': 35.670638, 'location_longitude': 139.77586200000002, 'first_checkin': '2018-03-21 07:58:19', 'last_checkin': '2018-03-21 07:58:19', 'duration': 1, 'num_checkins': 1}, {'country_code': 'JP', 'location_name': '', 'location_id': '0f31577fc3e76458', 'location_latitude': 36.1618735, 'location_longitude': 139.3689025, 'first_checkin': '2018-03-21 23:06:08', 'last_checkin': '2018-03-21 23:06:08', 'duration': 1, 'num_checkins': 1}, {'country_code': 'JP', 'location_name': '', 'location_id': '49db7d198c7fa47f', 'location_latitude': 36.177243000000004, 'location_longitude': 139.2585095, 'first_checkin': '2018-03-22 14:03:27', 'last_checkin': '2018-03-22 14:03:27', 'duration': 1, 'num_checkins': 1}, {'country_code': 'JP', 'location_name': '', 'location_id': '4ad3383e25ac98d9', 'location_latitude': 35.613060000000004, 'location_longitude': 139.734723, 'first_checkin': '2018-03-27 09:27:37', 'last_checkin': '2018-03-31 06:43:09', 'duration': 5, 'num_checkins': 5}, {'country_code': 'JP', 'location_name': '', 'location_id': '0f31577fc3e76458', 'location_latitude': 36.1618735, 'location_longitude': 139.3689025, 'first_checkin': '2018-04-04 23:06:03', 'last_checkin': '2018-04-09 01:59:13', 'duration': 6, 'num_checkins': 2}, {'country_code': 'JP', 'location_name': '', 'location_id': '49db7d198c7fa47f', 'location_latitude': 36.177243000000004, 'location_longitude': 139.2585095, 'first_checkin': '2018-04-09 10:36:29', 'last_checkin': '2018-04-09 10:36:29', 'duration': 1, 'num_checkins': 1}, {'country_code': 'JP', 'location_name': '', 'location_id': '0f31577fc3e76458', 'location_latitude': 36.1618735, 'location_longitude': 139.3689025, 'first_checkin': '2018-04-10 03:53:54', 'last_checkin': '2018-04-10 03:53:54', 'duration': 1, 'num_checkins': 1}, {'country_code': 'JP', 'location_name': '', 'location_id': '41d9dd520c812894', 'location_latitude': 35.6803885, 'location_longitude': 140.03578399999998, 'first_checkin': '2018-04-11 03:12:44', 'last_checkin': '2018-04-11 03:12:44', 'duration': 1, 'num_checkins': 1}, {'country_code': 'JP', 'location_name': '', 'location_id': 'ed61afd47a8bfd91', 'location_latitude': 35.53704999691265, 'location_longitude': 139.68145299893, 'first_checkin': '2018-04-11 07:41:34', 'last_checkin': '2018-04-11 07:41:34', 'duration': 1, 'num_checkins': 1}, {'country_code': 'JP', 'location_name': '', 'location_id': '0f31577fc3e76458', 'location_latitude': 36.1618735, 'location_longitude': 139.3689025, 'first_checkin': '2018-04-18 23:03:47', 'last_checkin': '2018-04-18 23:03:47', 'duration': 1, 'num_checkins': 1}, {'country_code': 'JP', 'location_name': '', 'location_id': '22a6c0d927e5489c', 'location_latitude': 35.121528999999995, 'location_longitude': 140.073334, 'first_checkin': '2018-04-22 13:16:11', 'last_checkin': '2018-04-22 13:16:11', 'duration': 1, 'num_checkins': 1}, {'country_code': 'JP', 'location_name': '', 'location_id': '4ad3383e25ac98d9', 'location_latitude': 35.613060000000004, 'location_longitude': 139.734723, 'first_checkin': '2018-04-28 04:42:15', 'last_checkin': '2018-04-28 04:42:15', 'duration': 1, 'num_checkins': 1}, {'country_code': 'JP', 'location_name': '', 'location_id': '0f31577fc3e76458', 'location_latitude': 36.1618735, 'location_longitude': 139.3689025, 'first_checkin': '2018-04-28 10:12:54', 'last_checkin': '2018-04-28 10:12:54', 'duration': 1, 'num_checkins': 1}, {'country_code': 'JP', 'location_name': '', 'location_id': '735b6f2b933efaf6', 'location_latitude': 35.670638, 'location_longitude': 139.77586200000002, 'first_checkin': '2018-05-05 12:36:22', 'last_checkin': '2018-05-05 12:36:22', 'duration': 1, 'num_checkins': 1}], 'checkin_density': 0.2978723404255319, 'checkin_frequency': 0.425531914893617, 'num_distinct_countries': 1, 'num_blocks': 15, 'mean_checkin_distance': 40.48648124366953, 'median_checkin_distance': 35.82800476582637, 'mean_checkin_duration': 3500.20350877193, 'median_checkin_duration': 1398.8333333333333, 'mean_displacement': 37.939964714924706, 'median_displacement': 20.80934841933728, 'radius_of_gyration': 40.483526032498105, 'tripmining_version': '0.2.7'}\n"
     ]
    }
   ],
   "source": [
    "import json\n",
    "import numpy as np\n",
    "import pandas as pd\n",
    "import networkx as nx\n",
    "from random import randint\n",
    "\n",
    "def random_json():\n",
    "    with open('result.json') as fp:\n",
    "        data = json.load(fp)\n",
    "        questions = data[\"letters\"][\"part one\"][\"meem\"][\"questions\"]\n",
    "        random_index = randint(0, len(questions)-1)\n",
    "        return questions[random_index]['question']\n",
    "\n",
    "\n",
    "jdata = json.loads(open ('christian.json').read())\n",
    "\n",
    "length = len(jdata)\n",
    "df = pd.DataFrame(np.zeros(shape=(1,4)))\n",
    "print(length)\n",
    "\n",
    "init_trip = jdata[0]\n",
    "random_index = randint(0, length-1)\n",
    "print(init_trip)\n",
    "print(random_index)\n",
    "print(jdata[random_index])"
   ]
  },
  {
   "cell_type": "code",
   "execution_count": 4,
   "metadata": {},
   "outputs": [
    {
     "name": "stdout",
     "output_type": "stream",
     "text": [
      "0\n",
      "1000\n",
      "2000\n",
      "3000\n",
      "4000\n",
      "5000\n",
      "6000\n",
      "7000\n",
      "8000\n",
      "9000\n",
      "10000\n",
      "11000\n",
      "12000\n",
      "13000\n",
      "14000\n",
      "15000\n",
      "16000\n",
      "17000\n",
      "18000\n",
      "19000\n",
      "20000\n",
      "21000\n",
      "22000\n",
      "23000\n",
      "24000\n",
      "25000\n",
      "26000\n",
      "27000\n",
      "28000\n",
      "29000\n",
      "30000\n",
      "31000\n",
      "32000\n",
      "33000\n",
      "34000\n",
      "35000\n",
      "36000\n",
      "37000\n",
      "38000\n",
      "39000\n",
      "40000\n",
      "41000\n",
      "42000\n",
      "43000\n",
      "44000\n",
      "45000\n",
      "46000\n",
      "47000\n",
      "48000\n",
      "49000\n",
      "50000\n",
      "51000\n",
      "52000\n",
      "53000\n",
      "54000\n",
      "55000\n",
      "56000\n",
      "57000\n",
      "58000\n",
      "59000\n"
     ]
    }
   ],
   "source": [
    "ind = 1\n",
    "init_trip = jdata[0]\n",
    "df = pd.DataFrame([ind,init_trip[\"trip_id\"],init_trip[\"traveler_home_country\"],init_trip[\"first_checkin\"],init_trip[\"last_checkin\"]]).T\n",
    "\n",
    "for i in range(60000):\n",
    "    if i % 1000 == 0:\n",
    "        print(i)\n",
    "    random_index = randint(0, length-1)\n",
    "    trip = jdata[random_index]\n",
    "    temp_df = pd.DataFrame([ind,trip[\"trip_id\"],trip[\"traveler_home_country\"],trip[\"first_checkin\"],trip[\"last_checkin\"]]).T\n",
    "    df = df.append(temp_df, ignore_index=True)\n",
    "    for c in trip[\"blocks\"]:\n",
    "        temp_df2 = pd.DataFrame([ind,trip[\"trip_id\"],c.get(\"country_code\"), c.get(\"first_checkin\"), c.get(\"last_checkin\")]).T\n",
    "        df=df.append(temp_df2, ignore_index=True)\n",
    "    ind = ind+1\n",
    "    \n",
    "df.to_csv('from_to_date10.csv', index = False)"
   ]
  }
 ],
 "metadata": {
  "kernelspec": {
   "display_name": "Python 3",
   "language": "python",
   "name": "python3"
  },
  "language_info": {
   "codemirror_mode": {
    "name": "ipython",
    "version": 3
   },
   "file_extension": ".py",
   "mimetype": "text/x-python",
   "name": "python",
   "nbconvert_exporter": "python",
   "pygments_lexer": "ipython3",
   "version": "3.7.6"
  }
 },
 "nbformat": 4,
 "nbformat_minor": 4
}

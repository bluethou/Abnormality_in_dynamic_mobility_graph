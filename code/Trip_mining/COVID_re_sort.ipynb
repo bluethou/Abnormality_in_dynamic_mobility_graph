{
 "cells": [
  {
   "cell_type": "code",
   "execution_count": 38,
   "metadata": {},
   "outputs": [],
   "source": [
    "import pickle\n",
    "import matplotlib.pyplot as plt\n",
    "import numpy as np\n",
    "import copy"
   ]
  },
  {
   "cell_type": "code",
   "execution_count": 39,
   "metadata": {},
   "outputs": [],
   "source": [
    "with open('../pkl/COVID_weekly_tensor_ver2.pkl', 'rb') as f:\n",
    "    travel_tensors_raw = pickle.load(f) "
   ]
  },
  {
   "cell_type": "code",
   "execution_count": 40,
   "metadata": {},
   "outputs": [],
   "source": [
    "# with open('../pkl/COVID_sorted_home_weekly.pkl', 'rb') as f:\n",
    "#     home_adj = pickle.load(f) "
   ]
  },
  {
   "cell_type": "code",
   "execution_count": 41,
   "metadata": {},
   "outputs": [],
   "source": [
    "def f2(x): \n",
    "    return x[1] \n",
    "\n",
    "def get_new_order(tensor):\n",
    "    traffic_dict = dict(zip(range(54), np.sum(np.sum(tensor, axis=0)[:54,:54], axis=0)))\n",
    "    res = sorted(traffic_dict.items(), key=f2, reverse = True)\n",
    "    new_order = np.array(res)[:,0].astype(int)\n",
    "    return new_order"
   ]
  },
  {
   "cell_type": "code",
   "execution_count": 42,
   "metadata": {},
   "outputs": [],
   "source": [
    "new_order = get_new_order(travel_tensors_raw)"
   ]
  },
  {
   "cell_type": "code",
   "execution_count": 43,
   "metadata": {},
   "outputs": [
    {
     "data": {
      "text/plain": [
       "array([ 5, 21, 32, 19,  6,  1,  7, 15, 33, 24,  4, 10,  3, 29, 34, 16, 11,\n",
       "       37, 23, 31, 12, 40,  2,  8,  9, 18, 20, 22, 30, 35, 48, 26, 28, 46,\n",
       "        0, 51, 36, 13, 17, 25, 27, 42, 43, 44, 14, 38, 39, 41, 45, 47, 49,\n",
       "       50, 52, 53])"
      ]
     },
     "execution_count": 43,
     "metadata": {},
     "output_type": "execute_result"
    }
   ],
   "source": [
    "new_order"
   ]
  },
  {
   "cell_type": "code",
   "execution_count": 25,
   "metadata": {},
   "outputs": [],
   "source": [
    "def save_object(obj, filename):\n",
    "    with open(filename, 'wb') as output:  # Overwrites any existing file.\n",
    "        pickle.dump(obj, output, pickle.HIGHEST_PROTOCOL)"
   ]
  },
  {
   "cell_type": "code",
   "execution_count": 26,
   "metadata": {},
   "outputs": [],
   "source": [
    "new_tensor = copy.deepcopy(travel_tensors_raw)"
   ]
  },
  {
   "cell_type": "code",
   "execution_count": 27,
   "metadata": {},
   "outputs": [],
   "source": [
    "for i in range(len(travel_tensors_raw)):\n",
    "    adjmat = travel_tensors_raw[i][:54,:54][:,new_order][new_order,:]\n",
    "    new_tensor[i] = np.concatenate((adjmat, adjmat.T),axis=1)"
   ]
  },
  {
   "cell_type": "code",
   "execution_count": 28,
   "metadata": {},
   "outputs": [
    {
     "data": {
      "text/plain": [
       "22"
      ]
     },
     "execution_count": 28,
     "metadata": {},
     "output_type": "execute_result"
    }
   ],
   "source": [
    "len(new_tensor)"
   ]
  },
  {
   "cell_type": "code",
   "execution_count": 29,
   "metadata": {},
   "outputs": [
    {
     "data": {
      "text/plain": [
       "(54, 54)"
      ]
     },
     "execution_count": 29,
     "metadata": {},
     "output_type": "execute_result"
    }
   ],
   "source": [
    "np.sum(new_tensor, axis=0)[:54,:54].shape"
   ]
  },
  {
   "cell_type": "code",
   "execution_count": 53,
   "metadata": {},
   "outputs": [
    {
     "data": {
      "image/png": "[encoded data removed]",
      "text/plain": [
       "<Figure size 864x360 with 1 Axes>"
      ]
     },
     "metadata": {
      "needs_background": "light"
     },
     "output_type": "display_data"
    }
   ],
   "source": [
    "# How to set a cutline\n",
    "plt.figure(figsize=(12,5))\n",
    "plt.scatter(range(54), np.sum(np.sum(new_tensor, axis=0)[:54,:54], axis=0))\n",
    "plt.axvline(x=10, linestyle='--', color='red',label = \"Top 10 nodes\")\n",
    "plt.axvline(x=20, linestyle='--', color='green',label = \"Top 20 nodes\")\n",
    "plt.axvline(x=30, linestyle='--', color='purple', label = \"Top 30 nodes\")\n",
    "\n",
    "plt.ylabel(\"Average of total traffic by country\")\n",
    "plt.xlabel(\"Country numbering\")\n",
    "plt.legend()\n",
    "plt.show()"
   ]
  },
  {
   "cell_type": "code",
   "execution_count": 31,
   "metadata": {},
   "outputs": [
    {
     "data": {
      "text/plain": [
       "array([ 5, 21, 32, 19,  6,  1,  7, 15, 33, 24,  4, 10,  3, 29, 34, 16, 11,\n",
       "       37, 23, 31, 12, 40,  2,  8,  9, 18, 20, 22, 30, 35, 48, 26, 28, 46,\n",
       "        0, 51, 36, 13, 17, 25, 27, 42, 43, 44, 14, 38, 39, 41, 45, 47, 49,\n",
       "       50, 52, 53])"
      ]
     },
     "execution_count": 31,
     "metadata": {},
     "output_type": "execute_result"
    }
   ],
   "source": [
    "new_order"
   ]
  },
  {
   "cell_type": "code",
   "execution_count": 62,
   "metadata": {},
   "outputs": [
    {
     "data": {
      "text/plain": [
       "0.8441091954022989"
      ]
     },
     "execution_count": 62,
     "metadata": {},
     "output_type": "execute_result"
    }
   ],
   "source": [
    "a= np.sum(np.sum(new_tensor, axis=0)[:54,:54], axis=0)\n",
    "np.sum(a[:20])/np.sum(a)"
   ]
  },
  {
   "cell_type": "code",
   "execution_count": 32,
   "metadata": {},
   "outputs": [
    {
     "name": "stdout",
     "output_type": "stream",
     "text": [
      "0.0\n",
      "0.0\n",
      "0.0\n",
      "0.0\n",
      "0.0\n",
      "0.0\n",
      "0.0\n",
      "0.0\n",
      "0.0\n",
      "0.0\n",
      "0.0\n",
      "0.0\n",
      "0.0\n",
      "0.0\n",
      "0.0\n",
      "0.0\n",
      "0.0\n",
      "0.0\n",
      "0.0\n",
      "0.0\n"
     ]
    }
   ],
   "source": [
    "for t in range(20):\n",
    "    a = np.sum(new_tensor[t][0,:54] - travel_tensors_raw[t][5,new_order])\n",
    "    print(a)"
   ]
  },
  {
   "cell_type": "code",
   "execution_count": 33,
   "metadata": {},
   "outputs": [],
   "source": [
    "save_object(new_tensor, '../pkl/COVID_sorted_W_tensors_ver2.pkl')"
   ]
  },
  {
   "cell_type": "code",
   "execution_count": 34,
   "metadata": {},
   "outputs": [],
   "source": [
    "save_object(new_order, '../pkl/new_COVID_order_ver2.pkl')"
   ]
  }
 ],
 "metadata": {
  "kernelspec": {
   "display_name": "Python 3",
   "language": "python",
   "name": "python3"
  },
  "language_info": {
   "codemirror_mode": {
    "name": "ipython",
    "version": 3
   },
   "file_extension": ".py",
   "mimetype": "text/x-python",
   "name": "python",
   "nbconvert_exporter": "python",
   "pygments_lexer": "ipython3",
   "version": "3.7.6"
  }
 },
 "nbformat": 4,
 "nbformat_minor": 4
}

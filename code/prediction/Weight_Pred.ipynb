{
 "cells": [
  {
   "cell_type": "code",
   "execution_count": 266,
   "metadata": {},
   "outputs": [],
   "source": [
    "import pickle\n",
    "import numpy as np\n",
    "import pandas as pd\n",
    "import matplotlib.pyplot as plt\n",
    "import networkx as nx\n",
    "from cdlib import algorithms, viz, evaluation\n",
    "# import tensorflow as tf\n",
    "import os"
   ]
  },
  {
   "cell_type": "code",
   "execution_count": 245,
   "metadata": {},
   "outputs": [],
   "source": [
    "with open('../pkl/global_travel_tensor_sorted.pkl', 'rb') as f:\n",
    "    travel_tensors_raw= pickle.load(f) "
   ]
  },
  {
   "cell_type": "code",
   "execution_count": 246,
   "metadata": {},
   "outputs": [
    {
     "data": {
      "text/plain": [
       "(200, 226, 452)"
      ]
     },
     "execution_count": 246,
     "metadata": {},
     "output_type": "execute_result"
    }
   ],
   "source": [
    "travel_tensors_raw.shape"
   ]
  },
  {
   "cell_type": "code",
   "execution_count": 247,
   "metadata": {},
   "outputs": [],
   "source": [
    "country_cutline = 30 # 69, 70 give None homogeneity\n",
    "travel_tensors = travel_tensors_raw[:,0:country_cutline,0:country_cutline]"
   ]
  },
  {
   "cell_type": "code",
   "execution_count": 248,
   "metadata": {},
   "outputs": [
    {
     "data": {
      "text/plain": [
       "(200, 30, 30)"
      ]
     },
     "execution_count": 248,
     "metadata": {},
     "output_type": "execute_result"
    }
   ],
   "source": [
    "travel_tensors.shape"
   ]
  },
  {
   "cell_type": "code",
   "execution_count": 249,
   "metadata": {},
   "outputs": [],
   "source": [
    "mat = np.sum(travel_tensors, 0)\n",
    "v = np.reshape(mat, (len(mat)*len(mat), 1))"
   ]
  },
  {
   "cell_type": "code",
   "execution_count": 250,
   "metadata": {},
   "outputs": [
    {
     "data": {
      "text/plain": [
       "(array([584., 110.,  51.,  36.,  27.,  11.,  12.,   8.,   4.,   7.,   3.,\n",
       "          6.,   5.,   1.,   3.,   3.,   0.,   2.,   1.,   2.,   3.,   2.,\n",
       "          1.,   2.,   1.,   1.,   0.,   2.,   0.,   0.,   0.,   1.,   0.,\n",
       "          0.,   2.,   0.,   0.,   0.,   0.,   1.,   0.,   0.,   0.,   0.,\n",
       "          1.,   0.,   0.,   0.,   0.,   0.,   0.,   0.,   0.,   0.,   0.,\n",
       "          0.,   1.,   0.,   0.,   0.,   0.,   0.,   0.,   0.,   0.,   0.,\n",
       "          0.,   0.,   0.,   0.,   1.,   0.,   0.,   1.,   0.,   0.,   0.,\n",
       "          0.,   0.,   0.,   0.,   0.,   0.,   0.,   0.,   0.,   0.,   0.,\n",
       "          0.,   0.,   1.,   0.,   0.,   0.,   1.,   1.,   0.,   0.,   0.,\n",
       "          1.]),\n",
       " array([   0.  ,   19.62,   39.24,   58.86,   78.48,   98.1 ,  117.72,\n",
       "         137.34,  156.96,  176.58,  196.2 ,  215.82,  235.44,  255.06,\n",
       "         274.68,  294.3 ,  313.92,  333.54,  353.16,  372.78,  392.4 ,\n",
       "         412.02,  431.64,  451.26,  470.88,  490.5 ,  510.12,  529.74,\n",
       "         549.36,  568.98,  588.6 ,  608.22,  627.84,  647.46,  667.08,\n",
       "         686.7 ,  706.32,  725.94,  745.56,  765.18,  784.8 ,  804.42,\n",
       "         824.04,  843.66,  863.28,  882.9 ,  902.52,  922.14,  941.76,\n",
       "         961.38,  981.  , 1000.62, 1020.24, 1039.86, 1059.48, 1079.1 ,\n",
       "        1098.72, 1118.34, 1137.96, 1157.58, 1177.2 , 1196.82, 1216.44,\n",
       "        1236.06, 1255.68, 1275.3 , 1294.92, 1314.54, 1334.16, 1353.78,\n",
       "        1373.4 , 1393.02, 1412.64, 1432.26, 1451.88, 1471.5 , 1491.12,\n",
       "        1510.74, 1530.36, 1549.98, 1569.6 , 1589.22, 1608.84, 1628.46,\n",
       "        1648.08, 1667.7 , 1687.32, 1706.94, 1726.56, 1746.18, 1765.8 ,\n",
       "        1785.42, 1805.04, 1824.66, 1844.28, 1863.9 , 1883.52, 1903.14,\n",
       "        1922.76, 1942.38, 1962.  ]),\n",
       " <a list of 100 Patch objects>)"
      ]
     },
     "execution_count": 250,
     "metadata": {},
     "output_type": "execute_result"
    },
    {
     "data": {
      "image/png": "[encoded data removed]",
      "text/plain": [
       "<Figure size 432x288 with 1 Axes>"
      ]
     },
     "metadata": {
      "needs_background": "light"
     },
     "output_type": "display_data"
    }
   ],
   "source": [
    "plt.hist(v, bins=100)"
   ]
  },
  {
   "cell_type": "code",
   "execution_count": 251,
   "metadata": {},
   "outputs": [
    {
     "data": {
      "text/plain": [
       "(array([167.,   0.,   0.,   0.,   0.,   0.,   0.,   0.,   0., 733.]),\n",
       " array([0. , 0.1, 0.2, 0.3, 0.4, 0.5, 0.6, 0.7, 0.8, 0.9, 1. ]),\n",
       " <a list of 10 Patch objects>)"
      ]
     },
     "execution_count": 251,
     "metadata": {},
     "output_type": "execute_result"
    },
    {
     "data": {
      "image/png": "[encoded data removed]",
      "text/plain": [
       "<Figure size 432x288 with 1 Axes>"
      ]
     },
     "metadata": {
      "needs_background": "light"
     },
     "output_type": "display_data"
    }
   ],
   "source": [
    "plt.hist(1*(v>0))"
   ]
  },
  {
   "cell_type": "code",
   "execution_count": 252,
   "metadata": {},
   "outputs": [],
   "source": [
    "adj = 1*(mat>0)"
   ]
  },
  {
   "cell_type": "code",
   "execution_count": 253,
   "metadata": {},
   "outputs": [],
   "source": [
    "# pd.DataFrame(adj).to_csv(\"../../T-GCN-master/data/travel/travel_adj.csv\", index=False, header=False)"
   ]
  },
  {
   "cell_type": "code",
   "execution_count": 254,
   "metadata": {},
   "outputs": [],
   "source": [
    "adj_list = []\n",
    "interval = 50 # 26 * 4 weeks = 2 year,\n",
    "for i in range(interval):\n",
    "    ajm = np.sum(travel_tensors[4*i:4+4*i][:,0:country_cutline,0:country_cutline], axis=0)\n",
    "    adj_list.append(ajm)\n",
    "\n",
    "adj_list = np.array(adj_list)"
   ]
  },
  {
   "cell_type": "code",
   "execution_count": 255,
   "metadata": {},
   "outputs": [
    {
     "data": {
      "text/plain": [
       "(50, 30)"
      ]
     },
     "execution_count": 255,
     "metadata": {},
     "output_type": "execute_result"
    }
   ],
   "source": [
    "np.sum(adj_list,1).shape"
   ]
  },
  {
   "cell_type": "code",
   "execution_count": 256,
   "metadata": {},
   "outputs": [
    {
     "data": {
      "text/plain": [
       "(50, 30)"
      ]
     },
     "execution_count": 256,
     "metadata": {},
     "output_type": "execute_result"
    }
   ],
   "source": [
    "np.sum(adj_list,2).shape"
   ]
  },
  {
   "cell_type": "code",
   "execution_count": 257,
   "metadata": {},
   "outputs": [
    {
     "data": {
      "text/html": [
       "<div>\n",
       "<style scoped>\n",
       "    .dataframe tbody tr th:only-of-type {\n",
       "        vertical-align: middle;\n",
       "    }\n",
       "\n",
       "    .dataframe tbody tr th {\n",
       "        vertical-align: top;\n",
       "    }\n",
       "\n",
       "    .dataframe thead th {\n",
       "        text-align: right;\n",
       "    }\n",
       "</style>\n",
       "<table border=\"1\" class=\"dataframe\">\n",
       "  <thead>\n",
       "    <tr style=\"text-align: right;\">\n",
       "      <th></th>\n",
       "      <th>0</th>\n",
       "    </tr>\n",
       "  </thead>\n",
       "  <tbody>\n",
       "    <tr>\n",
       "      <th>count</th>\n",
       "      <td>1500.000000</td>\n",
       "    </tr>\n",
       "    <tr>\n",
       "      <th>mean</th>\n",
       "      <td>31.146667</td>\n",
       "    </tr>\n",
       "    <tr>\n",
       "      <th>std</th>\n",
       "      <td>45.898267</td>\n",
       "    </tr>\n",
       "    <tr>\n",
       "      <th>min</th>\n",
       "      <td>0.000000</td>\n",
       "    </tr>\n",
       "    <tr>\n",
       "      <th>25%</th>\n",
       "      <td>8.000000</td>\n",
       "    </tr>\n",
       "    <tr>\n",
       "      <th>50%</th>\n",
       "      <td>17.000000</td>\n",
       "    </tr>\n",
       "    <tr>\n",
       "      <th>75%</th>\n",
       "      <td>33.000000</td>\n",
       "    </tr>\n",
       "    <tr>\n",
       "      <th>max</th>\n",
       "      <td>476.000000</td>\n",
       "    </tr>\n",
       "  </tbody>\n",
       "</table>\n",
       "</div>"
      ],
      "text/plain": [
       "                 0\n",
       "count  1500.000000\n",
       "mean     31.146667\n",
       "std      45.898267\n",
       "min       0.000000\n",
       "25%       8.000000\n",
       "50%      17.000000\n",
       "75%      33.000000\n",
       "max     476.000000"
      ]
     },
     "execution_count": 257,
     "metadata": {},
     "output_type": "execute_result"
    }
   ],
   "source": [
    "v = np.sum(adj_list,1).reshape(1500)\n",
    "pd.DataFrame(v).describe()"
   ]
  },
  {
   "cell_type": "code",
   "execution_count": 258,
   "metadata": {},
   "outputs": [
    {
     "data": {
      "text/plain": [
       "(array([181., 252., 223., 175., 112., 117.,  69.,  54.,  33.,  32.,  32.,\n",
       "         20.,   9.,  16.,  17.,  14.,  18.,  16.,   6.,  15.,   3.,  13.,\n",
       "          1.,   3.,   4.,   3.,   6.,   5.,   2.,   4.,   4.,   0.,   3.,\n",
       "          2.,   0.,   4.,   0.,   2.,   6.,   1.,   0.,   1.,   3.,   1.,\n",
       "          0.,   0.,   2.,   1.,   0.,   0.,   1.,   1.,   0.,   0.,   0.,\n",
       "          0.,   1.,   0.,   0.,   0.,   1.,   0.,   2.,   0.,   0.,   0.,\n",
       "          0.,   1.,   0.,   0.,   0.,   0.,   0.,   2.,   0.,   1.,   0.,\n",
       "          0.,   0.,   0.,   2.,   0.,   0.,   0.,   2.,   0.,   0.,   0.,\n",
       "          0.,   0.,   0.,   0.,   0.,   0.,   0.,   0.,   0.,   0.,   0.,\n",
       "          1.]),\n",
       " array([  0.  ,   4.76,   9.52,  14.28,  19.04,  23.8 ,  28.56,  33.32,\n",
       "         38.08,  42.84,  47.6 ,  52.36,  57.12,  61.88,  66.64,  71.4 ,\n",
       "         76.16,  80.92,  85.68,  90.44,  95.2 ,  99.96, 104.72, 109.48,\n",
       "        114.24, 119.  , 123.76, 128.52, 133.28, 138.04, 142.8 , 147.56,\n",
       "        152.32, 157.08, 161.84, 166.6 , 171.36, 176.12, 180.88, 185.64,\n",
       "        190.4 , 195.16, 199.92, 204.68, 209.44, 214.2 , 218.96, 223.72,\n",
       "        228.48, 233.24, 238.  , 242.76, 247.52, 252.28, 257.04, 261.8 ,\n",
       "        266.56, 271.32, 276.08, 280.84, 285.6 , 290.36, 295.12, 299.88,\n",
       "        304.64, 309.4 , 314.16, 318.92, 323.68, 328.44, 333.2 , 337.96,\n",
       "        342.72, 347.48, 352.24, 357.  , 361.76, 366.52, 371.28, 376.04,\n",
       "        380.8 , 385.56, 390.32, 395.08, 399.84, 404.6 , 409.36, 414.12,\n",
       "        418.88, 423.64, 428.4 , 433.16, 437.92, 442.68, 447.44, 452.2 ,\n",
       "        456.96, 461.72, 466.48, 471.24, 476.  ]),\n",
       " <a list of 100 Patch objects>)"
      ]
     },
     "execution_count": 258,
     "metadata": {},
     "output_type": "execute_result"
    },
    {
     "data": {
      "image/png": "[encoded data removed]",
      "text/plain": [
       "<Figure size 432x288 with 1 Axes>"
      ]
     },
     "metadata": {
      "needs_background": "light"
     },
     "output_type": "display_data"
    }
   ],
   "source": [
    "plt.hist(v, bins=100)"
   ]
  },
  {
   "cell_type": "code",
   "execution_count": 259,
   "metadata": {},
   "outputs": [],
   "source": [
    "traffic_mat = (np.sum(adj_list,1) + np.sum(adj_list,2))"
   ]
  },
  {
   "cell_type": "code",
   "execution_count": 260,
   "metadata": {},
   "outputs": [],
   "source": [
    "# pd.DataFrame(traffic_mat).to_csv(\"../../T-GCN-master/data/travel/travel_traffic.csv\", index=False)"
   ]
  },
  {
   "cell_type": "code",
   "execution_count": 261,
   "metadata": {},
   "outputs": [
    {
     "data": {
      "text/plain": [
       "(50, 30)"
      ]
     },
     "execution_count": 261,
     "metadata": {},
     "output_type": "execute_result"
    }
   ],
   "source": [
    "traffic_mat.shape"
   ]
  },
  {
   "cell_type": "code",
   "execution_count": 262,
   "metadata": {},
   "outputs": [
    {
     "data": {
      "text/plain": [
       "array([[145.,  24.,  47., ...,   7.,   9.,   5.],\n",
       "       [197.,  29.,  46., ...,  17.,  11.,   9.],\n",
       "       [163.,  32.,  31., ...,   7.,  11.,   9.],\n",
       "       ...,\n",
       "       [148.,  20.,  45., ...,  43.,   2.,  25.],\n",
       "       [165.,  23.,  33., ...,  24.,   5.,  13.],\n",
       "       [107.,  33.,  32., ...,  26.,   1.,   3.]])"
      ]
     },
     "execution_count": 262,
     "metadata": {},
     "output_type": "execute_result"
    }
   ],
   "source": [
    "traffic_mat"
   ]
  },
  {
   "cell_type": "code",
   "execution_count": 274,
   "metadata": {},
   "outputs": [
    {
     "data": {
      "text/html": [
       "<div>\n",
       "<style scoped>\n",
       "    .dataframe tbody tr th:only-of-type {\n",
       "        vertical-align: middle;\n",
       "    }\n",
       "\n",
       "    .dataframe tbody tr th {\n",
       "        vertical-align: top;\n",
       "    }\n",
       "\n",
       "    .dataframe thead th {\n",
       "        text-align: right;\n",
       "    }\n",
       "</style>\n",
       "<table border=\"1\" class=\"dataframe\">\n",
       "  <thead>\n",
       "    <tr style=\"text-align: right;\">\n",
       "      <th></th>\n",
       "      <th>0</th>\n",
       "    </tr>\n",
       "  </thead>\n",
       "  <tbody>\n",
       "    <tr>\n",
       "      <th>count</th>\n",
       "      <td>1500.000000</td>\n",
       "    </tr>\n",
       "    <tr>\n",
       "      <th>mean</th>\n",
       "      <td>4.614000</td>\n",
       "    </tr>\n",
       "    <tr>\n",
       "      <th>std</th>\n",
       "      <td>8.757328</td>\n",
       "    </tr>\n",
       "    <tr>\n",
       "      <th>min</th>\n",
       "      <td>0.000000</td>\n",
       "    </tr>\n",
       "    <tr>\n",
       "      <th>25%</th>\n",
       "      <td>0.000000</td>\n",
       "    </tr>\n",
       "    <tr>\n",
       "      <th>50%</th>\n",
       "      <td>1.000000</td>\n",
       "    </tr>\n",
       "    <tr>\n",
       "      <th>75%</th>\n",
       "      <td>5.000000</td>\n",
       "    </tr>\n",
       "    <tr>\n",
       "      <th>max</th>\n",
       "      <td>90.000000</td>\n",
       "    </tr>\n",
       "  </tbody>\n",
       "</table>\n",
       "</div>"
      ],
      "text/plain": [
       "                 0\n",
       "count  1500.000000\n",
       "mean      4.614000\n",
       "std       8.757328\n",
       "min       0.000000\n",
       "25%       0.000000\n",
       "50%       1.000000\n",
       "75%       5.000000\n",
       "max      90.000000"
      ]
     },
     "execution_count": 274,
     "metadata": {},
     "output_type": "execute_result"
    }
   ],
   "source": [
    "pd.DataFrame(adj_list[:,12,:].reshape(50*30)).describe()"
   ]
  },
  {
   "cell_type": "code",
   "execution_count": 264,
   "metadata": {},
   "outputs": [],
   "source": [
    "v= [adj_list[:,:,28].reshape(50*30), adj_list[:,:,24].reshape(50*30), adj_list[:,:,12].reshape(50*30)]\n",
    "vdf = pd.DataFrame(v)\n",
    "vdf.to_csv(\"weight_dist.csv\")"
   ]
  },
  {
   "cell_type": "code",
   "execution_count": 301,
   "metadata": {},
   "outputs": [
    {
     "data": {
      "text/plain": [
       "<matplotlib.legend.Legend at 0x1a472aa410>"
      ]
     },
     "execution_count": 301,
     "metadata": {},
     "output_type": "execute_result"
    },
    {
     "data": {
      "image/png": "[encoded data removed]",
      "text/plain": [
       "<Figure size 864x360 with 1 Axes>"
      ]
     },
     "metadata": {
      "needs_background": "light"
     },
     "output_type": "display_data"
    }
   ],
   "source": [
    "# bn =10 # HK: 28, ID: 12, RU: 24\n",
    "plt.figure(figsize=(12,5))\n",
    "x=[adj_list[:,:,28].reshape(50*30), adj_list[:,:,24].reshape(50*30), adj_list[:,:,12].reshape(50*30)]\n",
    "x = np.array(x).T\n",
    "colors = ['red', 'tan', 'lime']\n",
    "plt.hist(x, bins=21, density=True, histtype='bar', color=colors, label=['Hong Kong','Russia','Indonesia'])\n",
    "# plt.hist(adj_list[:,:,28].reshape(50*30), bins =bn, alpha=0.8)\n",
    "# plt.hist(adj_list[:,:,24].reshape(50*30), bins =bn, alpha=0.5)\n",
    "# plt.hist(adj_list[:,:,12].reshape(50*30), bins =bn, alpha=0.5)\n",
    "# plt.axvline(2, linestyle='-', color='red')\n",
    "plt.xlabel(\"weight of edges\")\n",
    "plt.xlim(0, 12)\n",
    "plt.xticks(range(0,12))\n",
    "plt.ylabel(\"Density\")\n",
    "plt.title(\"Distribution of Weights\")\n",
    "plt.legend()\n",
    "# v = np.sum(adj_list,1).reshape(1500)"
   ]
  },
  {
   "cell_type": "code",
   "execution_count": 283,
   "metadata": {},
   "outputs": [],
   "source": [
    "x=[adj_list[:,:,28].reshape(50*30), adj_list[:,:,24].reshape(50*30), adj_list[:,:,12].reshape(50*30)]"
   ]
  },
  {
   "cell_type": "code",
   "execution_count": 288,
   "metadata": {},
   "outputs": [],
   "source": [
    "x = np.array(x).T"
   ]
  },
  {
   "cell_type": "code",
   "execution_count": 289,
   "metadata": {},
   "outputs": [
    {
     "data": {
      "image/png": "[encoded data removed]",
      "text/plain": [
       "<Figure size 432x288 with 4 Axes>"
      ]
     },
     "metadata": {
      "needs_background": "light"
     },
     "output_type": "display_data"
    }
   ],
   "source": [
    "import numpy as np\n",
    "import matplotlib.pyplot as plt\n",
    "\n",
    "np.random.seed(19680801)\n",
    "\n",
    "n_bins = 10\n",
    "# x = np.random.randn(1000, 3)\n",
    "\n",
    "fig, axes = plt.subplots(nrows=2, ncols=2)\n",
    "ax0, ax1, ax2, ax3 = axes.flatten()\n",
    "\n",
    "colors = ['red', 'tan', 'lime']\n",
    "ax0.hist(x, n_bins, density=True, histtype='bar', color=colors, label=colors)\n",
    "ax0.legend(prop={'size': 10})\n",
    "ax0.set_title('bars with legend')\n",
    "\n",
    "# ax1.hist(x, n_bins, density=True, histtype='bar', stacked=True)\n",
    "# ax1.set_title('stacked bar')\n",
    "\n",
    "# ax2.hist(x, n_bins, histtype='step', stacked=True, fill=False)\n",
    "# ax2.set_title('stack step (unfilled)')\n",
    "\n",
    "# # Make a multiple-histogram of data-sets with different length.\n",
    "# x_multi = [np.random.randn(n) for n in [10000, 5000, 2000]]\n",
    "# ax3.hist(x_multi, n_bins, histtype='bar')\n",
    "# ax3.set_title('different sample sizes')\n",
    "\n",
    "fig.tight_layout()\n",
    "plt.show()"
   ]
  },
  {
   "cell_type": "code",
   "execution_count": null,
   "metadata": {},
   "outputs": [],
   "source": []
  }
 ],
 "metadata": {
  "kernelspec": {
   "display_name": "Python 3",
   "language": "python",
   "name": "python3"
  },
  "language_info": {
   "codemirror_mode": {
    "name": "ipython",
    "version": 3
   },
   "file_extension": ".py",
   "mimetype": "text/x-python",
   "name": "python",
   "nbconvert_exporter": "python",
   "pygments_lexer": "ipython3",
   "version": "3.7.6"
  }
 },
 "nbformat": 4,
 "nbformat_minor": 4
}

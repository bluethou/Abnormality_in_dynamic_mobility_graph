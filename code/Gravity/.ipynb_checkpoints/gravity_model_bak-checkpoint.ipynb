{
 "cells": [
  {
   "cell_type": "markdown",
   "metadata": {},
   "source": [
    "# Data Source: GeoDist: The CEPII's distances and geographical database\n",
    "Bilateral distances between the largest cities of those two countries (in terms\n",
    "of population)"
   ]
  },
  {
   "cell_type": "code",
   "execution_count": 1,
   "metadata": {},
   "outputs": [],
   "source": [
    "import pandas as pd\n",
    "import pickle\n",
    "import numpy as np\n",
    "import sklearn"
   ]
  },
  {
   "cell_type": "code",
   "execution_count": 2,
   "metadata": {},
   "outputs": [],
   "source": [
    "dis_df = pd.read_stata('dist_cepii.dta')"
   ]
  },
  {
   "cell_type": "code",
   "execution_count": 3,
   "metadata": {},
   "outputs": [
    {
     "data": {
      "text/html": [
       "<div>\n",
       "<style scoped>\n",
       "    .dataframe tbody tr th:only-of-type {\n",
       "        vertical-align: middle;\n",
       "    }\n",
       "\n",
       "    .dataframe tbody tr th {\n",
       "        vertical-align: top;\n",
       "    }\n",
       "\n",
       "    .dataframe thead th {\n",
       "        text-align: right;\n",
       "    }\n",
       "</style>\n",
       "<table border=\"1\" class=\"dataframe\">\n",
       "  <thead>\n",
       "    <tr style=\"text-align: right;\">\n",
       "      <th></th>\n",
       "      <th>iso_o</th>\n",
       "      <th>iso_d</th>\n",
       "      <th>contig</th>\n",
       "      <th>comlang_off</th>\n",
       "      <th>comlang_ethno</th>\n",
       "      <th>colony</th>\n",
       "      <th>comcol</th>\n",
       "      <th>curcol</th>\n",
       "      <th>col45</th>\n",
       "      <th>smctry</th>\n",
       "      <th>dist</th>\n",
       "      <th>distcap</th>\n",
       "      <th>distw</th>\n",
       "      <th>distwces</th>\n",
       "    </tr>\n",
       "  </thead>\n",
       "  <tbody>\n",
       "    <tr>\n",
       "      <th>0</th>\n",
       "      <td>ABW</td>\n",
       "      <td>ABW</td>\n",
       "      <td>0</td>\n",
       "      <td>0</td>\n",
       "      <td>0</td>\n",
       "      <td>0</td>\n",
       "      <td>0</td>\n",
       "      <td>0</td>\n",
       "      <td>0</td>\n",
       "      <td>0</td>\n",
       "      <td>5.225315</td>\n",
       "      <td>5.225315</td>\n",
       "      <td>25.093539</td>\n",
       "      <td>23.047228</td>\n",
       "    </tr>\n",
       "    <tr>\n",
       "      <th>1</th>\n",
       "      <td>ABW</td>\n",
       "      <td>AFG</td>\n",
       "      <td>0</td>\n",
       "      <td>0</td>\n",
       "      <td>0</td>\n",
       "      <td>0</td>\n",
       "      <td>0</td>\n",
       "      <td>0</td>\n",
       "      <td>0</td>\n",
       "      <td>0</td>\n",
       "      <td>13257.814453</td>\n",
       "      <td>13257.814453</td>\n",
       "      <td>13168.223762</td>\n",
       "      <td>13166.366934</td>\n",
       "    </tr>\n",
       "    <tr>\n",
       "      <th>2</th>\n",
       "      <td>ABW</td>\n",
       "      <td>AGO</td>\n",
       "      <td>0</td>\n",
       "      <td>0</td>\n",
       "      <td>0</td>\n",
       "      <td>0</td>\n",
       "      <td>0</td>\n",
       "      <td>0</td>\n",
       "      <td>0</td>\n",
       "      <td>0</td>\n",
       "      <td>9516.913086</td>\n",
       "      <td>9516.913086</td>\n",
       "      <td>9587.315563</td>\n",
       "      <td>9584.193415</td>\n",
       "    </tr>\n",
       "    <tr>\n",
       "      <th>3</th>\n",
       "      <td>ABW</td>\n",
       "      <td>AIA</td>\n",
       "      <td>0</td>\n",
       "      <td>0</td>\n",
       "      <td>1</td>\n",
       "      <td>0</td>\n",
       "      <td>0</td>\n",
       "      <td>0</td>\n",
       "      <td>0</td>\n",
       "      <td>0</td>\n",
       "      <td>983.268250</td>\n",
       "      <td>983.268250</td>\n",
       "      <td>976.897355</td>\n",
       "      <td>976.891580</td>\n",
       "    </tr>\n",
       "    <tr>\n",
       "      <th>4</th>\n",
       "      <td>ABW</td>\n",
       "      <td>ALB</td>\n",
       "      <td>0</td>\n",
       "      <td>0</td>\n",
       "      <td>0</td>\n",
       "      <td>0</td>\n",
       "      <td>0</td>\n",
       "      <td>0</td>\n",
       "      <td>0</td>\n",
       "      <td>0</td>\n",
       "      <td>9091.742188</td>\n",
       "      <td>9091.742188</td>\n",
       "      <td>9091.575727</td>\n",
       "      <td>9091.465815</td>\n",
       "    </tr>\n",
       "    <tr>\n",
       "      <th>...</th>\n",
       "      <td>...</td>\n",
       "      <td>...</td>\n",
       "      <td>...</td>\n",
       "      <td>...</td>\n",
       "      <td>...</td>\n",
       "      <td>...</td>\n",
       "      <td>...</td>\n",
       "      <td>...</td>\n",
       "      <td>...</td>\n",
       "      <td>...</td>\n",
       "      <td>...</td>\n",
       "      <td>...</td>\n",
       "      <td>...</td>\n",
       "      <td>...</td>\n",
       "    </tr>\n",
       "    <tr>\n",
       "      <th>50171</th>\n",
       "      <td>ZWE</td>\n",
       "      <td>YUG</td>\n",
       "      <td>0</td>\n",
       "      <td>0</td>\n",
       "      <td>0</td>\n",
       "      <td>0</td>\n",
       "      <td>0</td>\n",
       "      <td>0</td>\n",
       "      <td>0</td>\n",
       "      <td>0</td>\n",
       "      <td>7056.401855</td>\n",
       "      <td>7056.401855</td>\n",
       "      <td>7046.432349</td>\n",
       "      <td>7042.830362</td>\n",
       "    </tr>\n",
       "    <tr>\n",
       "      <th>50172</th>\n",
       "      <td>ZWE</td>\n",
       "      <td>ZAF</td>\n",
       "      <td>1</td>\n",
       "      <td>1</td>\n",
       "      <td>1</td>\n",
       "      <td>0</td>\n",
       "      <td>0</td>\n",
       "      <td>0</td>\n",
       "      <td>0</td>\n",
       "      <td>0</td>\n",
       "      <td>2186.205811</td>\n",
       "      <td>926.174255</td>\n",
       "      <td>1258.552190</td>\n",
       "      <td>1101.437596</td>\n",
       "    </tr>\n",
       "    <tr>\n",
       "      <th>50173</th>\n",
       "      <td>ZWE</td>\n",
       "      <td>ZAR</td>\n",
       "      <td>0</td>\n",
       "      <td>0</td>\n",
       "      <td>0</td>\n",
       "      <td>0</td>\n",
       "      <td>0</td>\n",
       "      <td>0</td>\n",
       "      <td>0</td>\n",
       "      <td>0</td>\n",
       "      <td>2283.061035</td>\n",
       "      <td>2283.061035</td>\n",
       "      <td>1930.976364</td>\n",
       "      <td>1719.146688</td>\n",
       "    </tr>\n",
       "    <tr>\n",
       "      <th>50174</th>\n",
       "      <td>ZWE</td>\n",
       "      <td>ZMB</td>\n",
       "      <td>1</td>\n",
       "      <td>1</td>\n",
       "      <td>1</td>\n",
       "      <td>0</td>\n",
       "      <td>1</td>\n",
       "      <td>0</td>\n",
       "      <td>0</td>\n",
       "      <td>0</td>\n",
       "      <td>396.804077</td>\n",
       "      <td>396.804077</td>\n",
       "      <td>583.795373</td>\n",
       "      <td>525.073446</td>\n",
       "    </tr>\n",
       "    <tr>\n",
       "      <th>50175</th>\n",
       "      <td>ZWE</td>\n",
       "      <td>ZWE</td>\n",
       "      <td>0</td>\n",
       "      <td>0</td>\n",
       "      <td>0</td>\n",
       "      <td>0</td>\n",
       "      <td>0</td>\n",
       "      <td>0</td>\n",
       "      <td>0</td>\n",
       "      <td>0</td>\n",
       "      <td>235.119308</td>\n",
       "      <td>235.119308</td>\n",
       "      <td>199.820547</td>\n",
       "      <td>67.837891</td>\n",
       "    </tr>\n",
       "  </tbody>\n",
       "</table>\n",
       "<p>50176 rows × 14 columns</p>\n",
       "</div>"
      ],
      "text/plain": [
       "      iso_o iso_d  contig  comlang_off  comlang_ethno  colony  comcol  curcol  \\\n",
       "0       ABW   ABW       0            0              0       0       0       0   \n",
       "1       ABW   AFG       0            0              0       0       0       0   \n",
       "2       ABW   AGO       0            0              0       0       0       0   \n",
       "3       ABW   AIA       0            0              1       0       0       0   \n",
       "4       ABW   ALB       0            0              0       0       0       0   \n",
       "...     ...   ...     ...          ...            ...     ...     ...     ...   \n",
       "50171   ZWE   YUG       0            0              0       0       0       0   \n",
       "50172   ZWE   ZAF       1            1              1       0       0       0   \n",
       "50173   ZWE   ZAR       0            0              0       0       0       0   \n",
       "50174   ZWE   ZMB       1            1              1       0       1       0   \n",
       "50175   ZWE   ZWE       0            0              0       0       0       0   \n",
       "\n",
       "       col45  smctry          dist       distcap         distw      distwces  \n",
       "0          0       0      5.225315      5.225315     25.093539     23.047228  \n",
       "1          0       0  13257.814453  13257.814453  13168.223762  13166.366934  \n",
       "2          0       0   9516.913086   9516.913086   9587.315563   9584.193415  \n",
       "3          0       0    983.268250    983.268250    976.897355    976.891580  \n",
       "4          0       0   9091.742188   9091.742188   9091.575727   9091.465815  \n",
       "...      ...     ...           ...           ...           ...           ...  \n",
       "50171      0       0   7056.401855   7056.401855   7046.432349   7042.830362  \n",
       "50172      0       0   2186.205811    926.174255   1258.552190   1101.437596  \n",
       "50173      0       0   2283.061035   2283.061035   1930.976364   1719.146688  \n",
       "50174      0       0    396.804077    396.804077    583.795373    525.073446  \n",
       "50175      0       0    235.119308    235.119308    199.820547     67.837891  \n",
       "\n",
       "[50176 rows x 14 columns]"
      ]
     },
     "execution_count": 3,
     "metadata": {},
     "output_type": "execute_result"
    }
   ],
   "source": [
    "dis_df"
   ]
  },
  {
   "cell_type": "code",
   "execution_count": 4,
   "metadata": {},
   "outputs": [],
   "source": [
    "with open('../pkl/global_travel_tensor_sorted.pkl', 'rb') as f:\n",
    "    travel_tensor_raw = pickle.load(f) \n",
    "    \n",
    "with open('../pkl/new_country_order.pkl', 'rb') as f:\n",
    "    new_order = pickle.load(f) "
   ]
  },
  {
   "cell_type": "code",
   "execution_count": 5,
   "metadata": {},
   "outputs": [],
   "source": [
    "country_cutline = 70 # 69, 70 give None homogeneity\n",
    "travel_tensors = travel_tensor_raw[:,0:country_cutline,0:country_cutline]\n",
    "\n",
    "travel_df = pd.read_csv('../csv/global_travel_df.csv')\n",
    "countries = travel_df['node'].unique().T\n",
    "\n",
    "label_dict = dict(zip(np.char.mod('%d', range(226)), countries[new_order]))\n",
    "label_dict = dict(zip(range(country_cutline), countries[new_order]))\n",
    "\n",
    "adj_list = []\n",
    "interval = 50 # 26 * 4 weeks = 2 year,\n",
    "for i in range(interval):\n",
    "    ajm = np.sum(travel_tensors[4*i:4 + 4*i][:,0:country_cutline,0:country_cutline], axis=0)\n",
    "    adj_list.append(ajm)\n",
    "travel_tensors = np.array(adj_list)"
   ]
  },
  {
   "cell_type": "code",
   "execution_count": 6,
   "metadata": {
    "scrolled": true
   },
   "outputs": [
    {
     "data": {
      "text/plain": [
       "{0: 'US',\n",
       " 1: 'GB',\n",
       " 2: 'FR',\n",
       " 3: 'ES',\n",
       " 4: 'IT',\n",
       " 5: 'DE',\n",
       " 6: 'MX',\n",
       " 7: 'CA',\n",
       " 8: 'JP',\n",
       " 9: 'NL',\n",
       " 10: 'BR',\n",
       " 11: 'TH',\n",
       " 12: 'ID',\n",
       " 13: 'MY',\n",
       " 14: 'SG',\n",
       " 15: 'BE',\n",
       " 16: 'AE',\n",
       " 17: 'AU',\n",
       " 18: 'CH',\n",
       " 19: 'PH',\n",
       " 20: 'IE',\n",
       " 21: 'PT',\n",
       " 22: 'AR',\n",
       " 23: 'TR',\n",
       " 24: 'RU',\n",
       " 25: 'KW',\n",
       " 26: 'CN',\n",
       " 27: 'IN',\n",
       " 28: 'HK',\n",
       " 29: 'AT',\n",
       " 30: 'GR',\n",
       " 31: 'KR',\n",
       " 32: 'SA',\n",
       " 33: 'CO',\n",
       " 34: 'SE',\n",
       " 35: 'ZA',\n",
       " 36: 'TW',\n",
       " 37: 'CZ',\n",
       " 38: 'DK',\n",
       " 39: 'CL',\n",
       " 40: 'NO',\n",
       " 41: 'PE',\n",
       " 42: 'PL',\n",
       " 43: 'NZ',\n",
       " 44: 'EG',\n",
       " 45: 'VN',\n",
       " 46: 'QA',\n",
       " 47: 'HU',\n",
       " 48: 'DO',\n",
       " 49: 'MA',\n",
       " 50: 'IS',\n",
       " 51: 'FI',\n",
       " 52: 'HR',\n",
       " 53: 'CR',\n",
       " 54: 'BH',\n",
       " 55: 'LU',\n",
       " 56: 'BS',\n",
       " 57: 'IL',\n",
       " 58: 'UY',\n",
       " 59: 'CU',\n",
       " 60: 'VE',\n",
       " 61: 'UA',\n",
       " 62: 'JM',\n",
       " 63: 'VA',\n",
       " 64: 'EC',\n",
       " 65: 'PA',\n",
       " 66: 'CY',\n",
       " 67: 'NG',\n",
       " 68: 'JO',\n",
       " 69: 'RS'}"
      ]
     },
     "execution_count": 6,
     "metadata": {},
     "output_type": "execute_result"
    }
   ],
   "source": [
    "label_dict"
   ]
  },
  {
   "cell_type": "code",
   "execution_count": 7,
   "metadata": {},
   "outputs": [],
   "source": [
    "attract = np.sum(travel_tensors, 1) # attractiveness\n",
    "emit = np.sum(travel_tensors, 2) # emmisiveness\n",
    "mean_adj = np.mean(travel_tensors,0)"
   ]
  },
  {
   "cell_type": "code",
   "execution_count": 8,
   "metadata": {},
   "outputs": [],
   "source": [
    "avg_attract = np.mean(attract, 0)\n",
    "avg_emit = np.mean(emit, 0)"
   ]
  },
  {
   "cell_type": "code",
   "execution_count": 9,
   "metadata": {},
   "outputs": [],
   "source": [
    "ccode = pd.read_csv('countries_codes_and_coordinates.csv').replace('\"','', regex=True).replace(' ','', regex=True)"
   ]
  },
  {
   "cell_type": "code",
   "execution_count": 10,
   "metadata": {},
   "outputs": [],
   "source": [
    "label2 = list(label_dict.values())"
   ]
  },
  {
   "cell_type": "code",
   "execution_count": 11,
   "metadata": {},
   "outputs": [],
   "source": [
    "label3 = []\n",
    "for i in range(len(label2)):\n",
    "    for j in range(len(ccode)):\n",
    "        if(label2[i]==ccode.iloc[j,1]):\n",
    "            if(ccode.iloc[j,2] == ccode.iloc[j-1,2]):\n",
    "                continue\n",
    "            label3.append(ccode.iloc[j,2])"
   ]
  },
  {
   "cell_type": "code",
   "execution_count": 12,
   "metadata": {
    "scrolled": true
   },
   "outputs": [],
   "source": [
    "gravity_df = np.zeros([country_cutline*country_cutline,4])\n",
    "line = 0\n",
    "for i in range(country_cutline):\n",
    "    for j in range(country_cutline):\n",
    "        e = avg_emit[i]\n",
    "        a = avg_attract[j]\n",
    "        source = label3[i]\n",
    "        target = label3[j]\n",
    "        y = mean_adj[i,j]\n",
    "        d = dis_df[(dis_df['iso_o']==source) & (dis_df['iso_d']==target)]['dist']\n",
    "        if((source==target)\n",
    "           |(len(d)==0)\n",
    "           |(y<1)\n",
    "          ):\n",
    "            e,a,d,y = -1,-1,-1,0\n",
    "        gravity_df[line,0] = e\n",
    "        gravity_df[line,1] = a\n",
    "#         print(i,j,d)\n",
    "        gravity_df[line,2] = d\n",
    "        gravity_df[line,3] = y\n",
    "        line += 1"
   ]
  },
  {
   "cell_type": "code",
   "execution_count": 13,
   "metadata": {},
   "outputs": [],
   "source": [
    "gravity_df = pd.DataFrame(gravity_df)\n",
    "gravity_df.columns = ['emit','attract','distance','T']\n",
    "gravity_df = gravity_df[gravity_df['T']!=0]"
   ]
  },
  {
   "cell_type": "code",
   "execution_count": 14,
   "metadata": {},
   "outputs": [],
   "source": [
    "log_grav_df = np.log(gravity_df)"
   ]
  },
  {
   "cell_type": "code",
   "execution_count": 15,
   "metadata": {},
   "outputs": [
    {
     "data": {
      "text/plain": [
       "1       3.355502\n",
       "2       2.734368\n",
       "3       2.076938\n",
       "4       2.280339\n",
       "5       2.225704\n",
       "          ...   \n",
       "4484    0.418710\n",
       "4485    1.381282\n",
       "4620    0.587787\n",
       "4690    0.322083\n",
       "4691    0.850151\n",
       "Name: T, Length: 319, dtype: float64"
      ]
     },
     "execution_count": 15,
     "metadata": {},
     "output_type": "execute_result"
    }
   ],
   "source": [
    "log_grav_df['T']"
   ]
  },
  {
   "cell_type": "code",
   "execution_count": 16,
   "metadata": {},
   "outputs": [
    {
     "data": {
      "text/html": [
       "<div>\n",
       "<style scoped>\n",
       "    .dataframe tbody tr th:only-of-type {\n",
       "        vertical-align: middle;\n",
       "    }\n",
       "\n",
       "    .dataframe tbody tr th {\n",
       "        vertical-align: top;\n",
       "    }\n",
       "\n",
       "    .dataframe thead th {\n",
       "        text-align: right;\n",
       "    }\n",
       "</style>\n",
       "<table border=\"1\" class=\"dataframe\">\n",
       "  <thead>\n",
       "    <tr style=\"text-align: right;\">\n",
       "      <th></th>\n",
       "      <th>emit</th>\n",
       "      <th>attract</th>\n",
       "      <th>distance</th>\n",
       "      <th>T</th>\n",
       "    </tr>\n",
       "  </thead>\n",
       "  <tbody>\n",
       "    <tr>\n",
       "      <th>1</th>\n",
       "      <td>5.610716</td>\n",
       "      <td>4.880223</td>\n",
       "      <td>8.625179</td>\n",
       "      <td>3.355502</td>\n",
       "    </tr>\n",
       "    <tr>\n",
       "      <th>2</th>\n",
       "      <td>5.610716</td>\n",
       "      <td>4.454580</td>\n",
       "      <td>8.672170</td>\n",
       "      <td>2.734368</td>\n",
       "    </tr>\n",
       "    <tr>\n",
       "      <th>3</th>\n",
       "      <td>5.610716</td>\n",
       "      <td>4.323603</td>\n",
       "      <td>8.660473</td>\n",
       "      <td>2.076938</td>\n",
       "    </tr>\n",
       "    <tr>\n",
       "      <th>4</th>\n",
       "      <td>5.610716</td>\n",
       "      <td>4.040944</td>\n",
       "      <td>8.838567</td>\n",
       "      <td>2.280339</td>\n",
       "    </tr>\n",
       "    <tr>\n",
       "      <th>5</th>\n",
       "      <td>5.610716</td>\n",
       "      <td>4.086648</td>\n",
       "      <td>8.705387</td>\n",
       "      <td>2.225704</td>\n",
       "    </tr>\n",
       "    <tr>\n",
       "      <th>...</th>\n",
       "      <td>...</td>\n",
       "      <td>...</td>\n",
       "      <td>...</td>\n",
       "      <td>...</td>\n",
       "    </tr>\n",
       "    <tr>\n",
       "      <th>4484</th>\n",
       "      <td>2.528924</td>\n",
       "      <td>4.040944</td>\n",
       "      <td>9.221985</td>\n",
       "      <td>0.418710</td>\n",
       "    </tr>\n",
       "    <tr>\n",
       "      <th>4485</th>\n",
       "      <td>2.528924</td>\n",
       "      <td>4.086648</td>\n",
       "      <td>9.182381</td>\n",
       "      <td>1.381282</td>\n",
       "    </tr>\n",
       "    <tr>\n",
       "      <th>4620</th>\n",
       "      <td>1.258461</td>\n",
       "      <td>5.495692</td>\n",
       "      <td>9.081462</td>\n",
       "      <td>0.587787</td>\n",
       "    </tr>\n",
       "    <tr>\n",
       "      <th>4690</th>\n",
       "      <td>2.144761</td>\n",
       "      <td>5.495692</td>\n",
       "      <td>9.047013</td>\n",
       "      <td>0.322083</td>\n",
       "    </tr>\n",
       "    <tr>\n",
       "      <th>4691</th>\n",
       "      <td>2.144761</td>\n",
       "      <td>4.880223</td>\n",
       "      <td>8.522225</td>\n",
       "      <td>0.850151</td>\n",
       "    </tr>\n",
       "  </tbody>\n",
       "</table>\n",
       "<p>319 rows × 4 columns</p>\n",
       "</div>"
      ],
      "text/plain": [
       "          emit   attract  distance         T\n",
       "1     5.610716  4.880223  8.625179  3.355502\n",
       "2     5.610716  4.454580  8.672170  2.734368\n",
       "3     5.610716  4.323603  8.660473  2.076938\n",
       "4     5.610716  4.040944  8.838567  2.280339\n",
       "5     5.610716  4.086648  8.705387  2.225704\n",
       "...        ...       ...       ...       ...\n",
       "4484  2.528924  4.040944  9.221985  0.418710\n",
       "4485  2.528924  4.086648  9.182381  1.381282\n",
       "4620  1.258461  5.495692  9.081462  0.587787\n",
       "4690  2.144761  5.495692  9.047013  0.322083\n",
       "4691  2.144761  4.880223  8.522225  0.850151\n",
       "\n",
       "[319 rows x 4 columns]"
      ]
     },
     "execution_count": 16,
     "metadata": {},
     "output_type": "execute_result"
    }
   ],
   "source": [
    "log_grav_df#.to_csv('log_grav_df.csv')"
   ]
  },
  {
   "cell_type": "markdown",
   "metadata": {},
   "source": [
    "# Right skewed log(T)"
   ]
  },
  {
   "cell_type": "code",
   "execution_count": 17,
   "metadata": {},
   "outputs": [
    {
     "data": {
      "text/plain": [
       "Text(0.5, 1.0, 'Histogram of y = log(T) ')"
      ]
     },
     "execution_count": 17,
     "metadata": {},
     "output_type": "execute_result"
    },
    {
     "data": {
      "image/png": "[encoded data removed]",
      "text/plain": [
       "<Figure size 432x288 with 1 Axes>"
      ]
     },
     "metadata": {
      "needs_background": "light"
     },
     "output_type": "display_data"
    }
   ],
   "source": [
    "import matplotlib.pyplot as plt\n",
    "# plt.figure(figsize=(12,12))\n",
    "# plt.scatter(log_grav_df['attract'], log_grav_df['y'])\n",
    "plt.hist(log_grav_df['T'])\n",
    "plt.ylabel('Count')\n",
    "plt.xlabel('Number of trips')\n",
    "plt.title('Histogram of y = log(T) ')"
   ]
  },
  {
   "cell_type": "code",
   "execution_count": 18,
   "metadata": {},
   "outputs": [
    {
     "name": "stderr",
     "output_type": "stream",
     "text": [
      "/Users/gimpuleumoe/opt/anaconda3/lib/python3.7/site-packages/pandas/core/series.py:679: RuntimeWarning: divide by zero encountered in log\n",
      "  result = getattr(ufunc, method)(*inputs, **kwargs)\n"
     ]
    },
    {
     "data": {
      "image/png": "[encoded data removed]",
      "text/plain": [
       "<Figure size 576x576 with 6 Axes>"
      ]
     },
     "metadata": {
      "needs_background": "light"
     },
     "output_type": "display_data"
    }
   ],
   "source": [
    "fig = plt.figure(figsize=[8,8])\n",
    "plt.subplot(3, 2, 1)\n",
    "plt.scatter(log_grav_df['emit'],(log_grav_df['T']))\n",
    "plt.xlabel('log(emit)'); plt.ylabel('y')\n",
    "plt.subplot(3, 2, 2)\n",
    "plt.scatter(log_grav_df['emit'],np.log(log_grav_df['T']))\n",
    "plt.xlabel('log(emit)'); plt.ylabel('log( y )')\n",
    "\n",
    "plt.subplot(3, 2, 3)\n",
    "plt.scatter(log_grav_df['attract'],(log_grav_df['T']))\n",
    "plt.xlabel('log(attract)'); plt.ylabel('y')\n",
    "plt.subplot(3, 2, 4)\n",
    "plt.scatter(log_grav_df['attract'],np.log(log_grav_df['T']))\n",
    "plt.xlabel('log(attract)'); plt.ylabel('log( y )')\n",
    "\n",
    "plt.subplot(3, 2, 5)\n",
    "plt.scatter(log_grav_df['distance'],(log_grav_df['T']))\n",
    "plt.xlabel('log(distance)'); plt.ylabel('y')\n",
    "plt.subplot(3, 2, 6)\n",
    "plt.scatter(log_grav_df['distance'],np.log(log_grav_df['T']))\n",
    "plt.xlabel('log(distance)'); plt.ylabel('log( y )')\n",
    "\n",
    "fig.subplots_adjust(wspace=0.3, hspace=0.5)\n",
    "plt.show()"
   ]
  },
  {
   "cell_type": "code",
   "execution_count": 19,
   "metadata": {},
   "outputs": [],
   "source": [
    "# plt.hist(np.log(log_grav_df_processed['T']), bins =30)"
   ]
  },
  {
   "cell_type": "code",
   "execution_count": 20,
   "metadata": {},
   "outputs": [
    {
     "name": "stderr",
     "output_type": "stream",
     "text": [
      "/Users/gimpuleumoe/opt/anaconda3/lib/python3.7/site-packages/ipykernel_launcher.py:6: DeprecationWarning: Calling Family(..) with a link class as argument is deprecated.\n",
      "Use an instance of a link class instead.\n",
      "  \n"
     ]
    },
    {
     "data": {
      "text/html": [
       "<table class=\"simpletable\">\n",
       "<caption>Generalized Linear Model Regression Results</caption>\n",
       "<tr>\n",
       "  <th>Dep. Variable:</th>           <td>T</td>        <th>  No. Observations:  </th>  <td>   310</td> \n",
       "</tr>\n",
       "<tr>\n",
       "  <th>Model:</th>                  <td>GLM</td>       <th>  Df Residuals:      </th>  <td>   307</td> \n",
       "</tr>\n",
       "<tr>\n",
       "  <th>Model Family:</th>        <td>Gaussian</td>     <th>  Df Model:          </th>  <td>     2</td> \n",
       "</tr>\n",
       "<tr>\n",
       "  <th>Link Function:</th>          <td>log</td>       <th>  Scale:             </th> <td> 0.40546</td>\n",
       "</tr>\n",
       "<tr>\n",
       "  <th>Method:</th>                <td>IRLS</td>       <th>  Log-Likelihood:    </th> <td> -298.45</td>\n",
       "</tr>\n",
       "<tr>\n",
       "  <th>Date:</th>            <td>Sat, 13 Jun 2020</td> <th>  Deviance:          </th> <td>  124.48</td>\n",
       "</tr>\n",
       "<tr>\n",
       "  <th>Time:</th>                <td>15:04:22</td>     <th>  Pearson chi2:      </th>  <td>  124.</td> \n",
       "</tr>\n",
       "<tr>\n",
       "  <th>No. Iterations:</th>          <td>8</td>        <th>                     </th>     <td> </td>   \n",
       "</tr>\n",
       "<tr>\n",
       "  <th>Covariance Type:</th>     <td>nonrobust</td>    <th>                     </th>     <td> </td>   \n",
       "</tr>\n",
       "</table>\n",
       "<table class=\"simpletable\">\n",
       "<tr>\n",
       "      <td></td>        <th>coef</th>     <th>std err</th>      <th>z</th>      <th>P>|z|</th>  <th>[0.025</th>    <th>0.975]</th>  \n",
       "</tr>\n",
       "<tr>\n",
       "  <th>emit</th>     <td>    0.3289</td> <td>    0.032</td> <td>   10.204</td> <td> 0.000</td> <td>    0.266</td> <td>    0.392</td>\n",
       "</tr>\n",
       "<tr>\n",
       "  <th>attract</th>  <td>    0.2999</td> <td>    0.031</td> <td>    9.662</td> <td> 0.000</td> <td>    0.239</td> <td>    0.361</td>\n",
       "</tr>\n",
       "<tr>\n",
       "  <th>distance</th> <td>   -0.2949</td> <td>    0.025</td> <td>  -11.954</td> <td> 0.000</td> <td>   -0.343</td> <td>   -0.247</td>\n",
       "</tr>\n",
       "</table>"
      ],
      "text/plain": [
       "<class 'statsmodels.iolib.summary.Summary'>\n",
       "\"\"\"\n",
       "                 Generalized Linear Model Regression Results                  \n",
       "==============================================================================\n",
       "Dep. Variable:                      T   No. Observations:                  310\n",
       "Model:                            GLM   Df Residuals:                      307\n",
       "Model Family:                Gaussian   Df Model:                            2\n",
       "Link Function:                    log   Scale:                         0.40546\n",
       "Method:                          IRLS   Log-Likelihood:                -298.45\n",
       "Date:                Sat, 13 Jun 2020   Deviance:                       124.48\n",
       "Time:                        15:04:22   Pearson chi2:                     124.\n",
       "No. Iterations:                     8                                         \n",
       "Covariance Type:            nonrobust                                         \n",
       "==============================================================================\n",
       "                 coef    std err          z      P>|z|      [0.025      0.975]\n",
       "------------------------------------------------------------------------------\n",
       "emit           0.3289      0.032     10.204      0.000       0.266       0.392\n",
       "attract        0.2999      0.031      9.662      0.000       0.239       0.361\n",
       "distance      -0.2949      0.025    -11.954      0.000      -0.343      -0.247\n",
       "==============================================================================\n",
       "\"\"\""
      ]
     },
     "execution_count": 20,
     "metadata": {},
     "output_type": "execute_result"
    }
   ],
   "source": [
    "import statsmodels.api as sm\n",
    "log_grav_df_processed = log_grav_df[log_grav_df['T']>0]\n",
    "X = (log_grav_df_processed[['emit','attract','distance']])\n",
    "y = (log_grav_df_processed['T'])\n",
    "\n",
    "glm = sm.GLM(y, X, family=sm.families.Gaussian(link=sm.families.links.log))\n",
    "# glm = sm.GLM(y, X, family=sm.families.Tweedie(link=sm.families.links.log, var_power=0.1))\n",
    "result = glm.fit()\n",
    "result.summary()\n",
    "# gamma_model = smf.glm(formula='y ~ emit + attract + distance', data=log_grav_df, family=sm.families.Gaussian(sm.families.links.identity))\n",
    "# gamma_results = gamma_model.fit()\n",
    "# print(gamma_results.summary())"
   ]
  },
  {
   "cell_type": "code",
   "execution_count": 21,
   "metadata": {},
   "outputs": [
    {
     "data": {
      "image/png": "[encoded data removed]",
      "text/plain": [
       "<Figure size 1296x360 with 3 Axes>"
      ]
     },
     "metadata": {
      "needs_background": "light"
     },
     "output_type": "display_data"
    }
   ],
   "source": [
    "pred = result.predict(log_grav_df_processed[['emit','attract','distance']])\n",
    "\n",
    "fig = plt.figure(figsize=[18,5])\n",
    "plt.subplot(1, 3, 1)\n",
    "X= log_grav_df_processed['emit']\n",
    "plt.scatter(X,log_grav_df_processed['T'])\n",
    "plt.scatter(X,pred)\n",
    "plt.xlabel(\"log(E)\")\n",
    "plt.ylabel(\"log(T)\")\n",
    "\n",
    "plt.subplot(1, 3, 2)\n",
    "X= log_grav_df_processed['attract']\n",
    "plt.scatter(X,log_grav_df_processed['T'])\n",
    "plt.scatter(X,pred)\n",
    "plt.xlabel(\"log(A)\")\n",
    "plt.ylabel(\"log(T)\")\n",
    "\n",
    "plt.subplot(1, 3, 3)\n",
    "X= log_grav_df_processed['distance']\n",
    "plt.scatter(X,log_grav_df_processed['T'])\n",
    "plt.scatter(X,pred)\n",
    "plt.xlabel(\"log(D)\")\n",
    "plt.ylabel(\"log(T)\")\n",
    "\n",
    "fig.subplots_adjust(wspace=0.3, hspace=0.5)\n",
    "plt.show()"
   ]
  },
  {
   "cell_type": "code",
   "execution_count": 23,
   "metadata": {
    "scrolled": true
   },
   "outputs": [
    {
     "data": {
      "text/html": [
       "<table class=\"simpletable\">\n",
       "<caption>OLS Regression Results</caption>\n",
       "<tr>\n",
       "  <th>Dep. Variable:</th>            <td>T</td>        <th>  R-squared (uncentered):</th>      <td>   0.675</td>\n",
       "</tr>\n",
       "<tr>\n",
       "  <th>Model:</th>                   <td>OLS</td>       <th>  Adj. R-squared (uncentered):</th> <td>   0.672</td>\n",
       "</tr>\n",
       "<tr>\n",
       "  <th>Method:</th>             <td>Least Squares</td>  <th>  F-statistic:       </th>          <td>   212.5</td>\n",
       "</tr>\n",
       "<tr>\n",
       "  <th>Date:</th>             <td>Sat, 13 Jun 2020</td> <th>  Prob (F-statistic):</th>          <td>1.39e-74</td>\n",
       "</tr>\n",
       "<tr>\n",
       "  <th>Time:</th>                 <td>15:04:49</td>     <th>  Log-Likelihood:    </th>          <td> -305.56</td>\n",
       "</tr>\n",
       "<tr>\n",
       "  <th>No. Observations:</th>      <td>   310</td>      <th>  AIC:               </th>          <td>   617.1</td>\n",
       "</tr>\n",
       "<tr>\n",
       "  <th>Df Residuals:</th>          <td>   307</td>      <th>  BIC:               </th>          <td>   628.3</td>\n",
       "</tr>\n",
       "<tr>\n",
       "  <th>Df Model:</th>              <td>     3</td>      <th>                     </th>              <td> </td>   \n",
       "</tr>\n",
       "<tr>\n",
       "  <th>Covariance Type:</th>      <td>nonrobust</td>    <th>                     </th>              <td> </td>   \n",
       "</tr>\n",
       "</table>\n",
       "<table class=\"simpletable\">\n",
       "<tr>\n",
       "      <td></td>        <th>coef</th>     <th>std err</th>      <th>t</th>      <th>P>|t|</th>  <th>[0.025</th>    <th>0.975]</th>  \n",
       "</tr>\n",
       "<tr>\n",
       "  <th>emit</th>     <td>    0.2774</td> <td>    0.032</td> <td>    8.690</td> <td> 0.000</td> <td>    0.215</td> <td>    0.340</td>\n",
       "</tr>\n",
       "<tr>\n",
       "  <th>attract</th>  <td>    0.2659</td> <td>    0.032</td> <td>    8.368</td> <td> 0.000</td> <td>    0.203</td> <td>    0.328</td>\n",
       "</tr>\n",
       "<tr>\n",
       "  <th>distance</th> <td>   -0.1316</td> <td>    0.022</td> <td>   -5.939</td> <td> 0.000</td> <td>   -0.175</td> <td>   -0.088</td>\n",
       "</tr>\n",
       "</table>\n",
       "<table class=\"simpletable\">\n",
       "<tr>\n",
       "  <th>Omnibus:</th>       <td>28.747</td> <th>  Durbin-Watson:     </th> <td>   1.353</td>\n",
       "</tr>\n",
       "<tr>\n",
       "  <th>Prob(Omnibus):</th> <td> 0.000</td> <th>  Jarque-Bera (JB):  </th> <td>  33.904</td>\n",
       "</tr>\n",
       "<tr>\n",
       "  <th>Skew:</th>          <td> 0.775</td> <th>  Prob(JB):          </th> <td>4.34e-08</td>\n",
       "</tr>\n",
       "<tr>\n",
       "  <th>Kurtosis:</th>      <td> 3.475</td> <th>  Cond. No.          </th> <td>    11.8</td>\n",
       "</tr>\n",
       "</table><br/><br/>Warnings:<br/>[1] Standard Errors assume that the covariance matrix of the errors is correctly specified."
      ],
      "text/plain": [
       "<class 'statsmodels.iolib.summary.Summary'>\n",
       "\"\"\"\n",
       "                                 OLS Regression Results                                \n",
       "=======================================================================================\n",
       "Dep. Variable:                      T   R-squared (uncentered):                   0.675\n",
       "Model:                            OLS   Adj. R-squared (uncentered):              0.672\n",
       "Method:                 Least Squares   F-statistic:                              212.5\n",
       "Date:                Sat, 13 Jun 2020   Prob (F-statistic):                    1.39e-74\n",
       "Time:                        15:04:49   Log-Likelihood:                         -305.56\n",
       "No. Observations:                 310   AIC:                                      617.1\n",
       "Df Residuals:                     307   BIC:                                      628.3\n",
       "Df Model:                           3                                                  \n",
       "Covariance Type:            nonrobust                                                  \n",
       "==============================================================================\n",
       "                 coef    std err          t      P>|t|      [0.025      0.975]\n",
       "------------------------------------------------------------------------------\n",
       "emit           0.2774      0.032      8.690      0.000       0.215       0.340\n",
       "attract        0.2659      0.032      8.368      0.000       0.203       0.328\n",
       "distance      -0.1316      0.022     -5.939      0.000      -0.175      -0.088\n",
       "==============================================================================\n",
       "Omnibus:                       28.747   Durbin-Watson:                   1.353\n",
       "Prob(Omnibus):                  0.000   Jarque-Bera (JB):               33.904\n",
       "Skew:                           0.775   Prob(JB):                     4.34e-08\n",
       "Kurtosis:                       3.475   Cond. No.                         11.8\n",
       "==============================================================================\n",
       "\n",
       "Warnings:\n",
       "[1] Standard Errors assume that the covariance matrix of the errors is correctly specified.\n",
       "\"\"\""
      ]
     },
     "execution_count": 23,
     "metadata": {},
     "output_type": "execute_result"
    }
   ],
   "source": [
    "import statsmodels.api as sm\n",
    "\n",
    "X = (log_grav_df_processed[['emit','attract','distance']])\n",
    "y = (log_grav_df_processed['T'])\n",
    "\n",
    "# Note the difference in argument order\n",
    "model = sm.OLS((y), X).fit()\n",
    "predictions = model.predict(X) # make the predictions by the model\n",
    "\n",
    "# Print out the statistics\n",
    "model.summary()"
   ]
  },
  {
   "cell_type": "code",
   "execution_count": 24,
   "metadata": {},
   "outputs": [
    {
     "data": {
      "text/plain": [
       "Timestamp('2018-06-24 00:00:00', freq='4W-SUN')"
      ]
     },
     "execution_count": 24,
     "metadata": {},
     "output_type": "execute_result"
    }
   ],
   "source": [
    "week_slices = pd.date_range('2016-01-04', periods=200+1, freq='W')\n",
    "week_slices[0::4][-19]"
   ]
  },
  {
   "cell_type": "code",
   "execution_count": 60,
   "metadata": {},
   "outputs": [],
   "source": [
    "RU_emit = np.mean(travel_tensors[-19,:],1)[24]\n",
    "US_emit = np.mean(travel_tensors[-19,:],1)[0]\n",
    "RU_attract = np.mean(travel_tensors[-19,:],0)[24]\n",
    "US_attract = np.mean(travel_tensors[-19,:],0)[0]\n",
    "d = dis_df[(dis_df['iso_o']=='USA')&(dis_df['iso_d']=='RUS')]['dist']\n",
    "d = np.float(d)"
   ]
  },
  {
   "cell_type": "code",
   "execution_count": 79,
   "metadata": {},
   "outputs": [
    {
     "name": "stderr",
     "output_type": "stream",
     "text": [
      "/Users/gimpuleumoe/opt/anaconda3/lib/python3.7/site-packages/ipykernel_launcher.py:1: RuntimeWarning: divide by zero encountered in log\n",
      "  \"\"\"Entry point for launching an IPython kernel.\n"
     ]
    }
   ],
   "source": [
    "logT_RUtoUS = np.log(travel_tensors[-19,5,0])\n",
    "logT_UStoRU = np.log(travel_tensors[-19,0,5])"
   ]
  },
  {
   "cell_type": "code",
   "execution_count": 80,
   "metadata": {},
   "outputs": [
    {
     "data": {
      "text/plain": [
       "[1.0, 5.571428571428571, 7517.97216796875]"
      ]
     },
     "execution_count": 80,
     "metadata": {},
     "output_type": "execute_result"
    }
   ],
   "source": [
    "[RU_emit, US_attract, d]"
   ]
  },
  {
   "cell_type": "code",
   "execution_count": 81,
   "metadata": {},
   "outputs": [
    {
     "data": {
      "image/png": "[encoded data removed]",
      "text/plain": [
       "<Figure size 1296x360 with 3 Axes>"
      ]
     },
     "metadata": {
      "needs_background": "light"
     },
     "output_type": "display_data"
    }
   ],
   "source": [
    "pred = result.predict(log_grav_df_processed[['emit','attract','distance']])\n",
    "pred_RU_to_US = result.predict(np.log([RU_emit, US_attract, d]))\n",
    "pred_US_to_RU = result.predict(np.log([US_emit, RU_attract, d]))\n",
    "\n",
    "fig = plt.figure(figsize=[18,5])\n",
    "plt.subplot(1, 3, 1)\n",
    "X= log_grav_df_processed['emit']\n",
    "plt.scatter(X,log_grav_df_processed['T'])\n",
    "plt.scatter(X,pred)\n",
    "plt.scatter(RU_emit, pred_RU_to_US)\n",
    "plt.scatter(RU_emit, logT_RUtoUS)\n",
    "plt.xlabel(\"log(E)\")\n",
    "plt.ylabel(\"log(T)\")\n",
    "\n",
    "plt.subplot(1, 3, 2)\n",
    "X= log_grav_df_processed['attract']\n",
    "plt.scatter(X,log_grav_df_processed['T'])\n",
    "plt.scatter(X,pred)\n",
    "plt.scatter(US_attract, pred_RU_to_US)\n",
    "plt.scatter(RU_attract, logT_UStoRU)\n",
    "plt.xlabel(\"log(A)\")\n",
    "plt.ylabel(\"log(T)\")\n",
    "\n",
    "plt.subplot(1, 3, 3)\n",
    "X= log_grav_df_processed['distance']\n",
    "plt.scatter(X,log_grav_df_processed['T'])\n",
    "plt.scatter(X,pred)\n",
    "plt.xlabel(\"log(D)\")\n",
    "plt.ylabel(\"log(T)\")\n",
    "\n",
    "fig.subplots_adjust(wspace=0.3, hspace=0.5)\n",
    "plt.show()"
   ]
  },
  {
   "cell_type": "code",
   "execution_count": null,
   "metadata": {},
   "outputs": [],
   "source": [
    "# 100 0.770\n",
    "# 80, 0.738\n",
    "# 70, 0.727\n",
    "# cutline = 60, R2 = 0.701\n",
    "# cutline = 50, R2 = 0.66\n",
    "# cutline = 40, R2 = 0.62\n"
   ]
  },
  {
   "cell_type": "code",
   "execution_count": null,
   "metadata": {},
   "outputs": [],
   "source": [
    "# Mean >= 1 filter\n",
    "# 100, 0.656\n",
    "# 70, 0.660"
   ]
  }
 ],
 "metadata": {
  "kernelspec": {
   "display_name": "Python 3",
   "language": "python",
   "name": "python3"
  },
  "language_info": {
   "codemirror_mode": {
    "name": "ipython",
    "version": 3
   },
   "file_extension": ".py",
   "mimetype": "text/x-python",
   "name": "python",
   "nbconvert_exporter": "python",
   "pygments_lexer": "ipython3",
   "version": "3.7.6"
  }
 },
 "nbformat": 4,
 "nbformat_minor": 4
}

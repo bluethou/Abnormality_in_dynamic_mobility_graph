{
 "cells": [
  {
   "cell_type": "code",
   "execution_count": 63,
   "metadata": {},
   "outputs": [],
   "source": [
    "import pandas as pd\n",
    "import pickle\n",
    "import numpy as np\n",
    "import sklearn\n",
    "from datetime import datetime  \n",
    "from datetime import timedelta\n",
    "import geopy.distance\n",
    "import matplotlib.pyplot as plt\n",
    "import networkx as nx"
   ]
  },
  {
   "cell_type": "code",
   "execution_count": 64,
   "metadata": {},
   "outputs": [],
   "source": [
    "with open('../pkl/COVID_sorted_W_tensors_ver2.pkl', 'rb') as f:\n",
    "    travel_tensor_raw = pickle.load(f) \n",
    "    \n",
    "with open('../pkl/COVID_label_dict.pkl', 'rb') as f:\n",
    "    label_dict = pickle.load(f) "
   ]
  },
  {
   "cell_type": "code",
   "execution_count": 65,
   "metadata": {},
   "outputs": [],
   "source": [
    "country_cutline = 54 # 69, 70 give None homogeneity\n",
    "travel_tensors = travel_tensor_raw[:,0:country_cutline,0:country_cutline]"
   ]
  },
  {
   "cell_type": "code",
   "execution_count": 66,
   "metadata": {},
   "outputs": [],
   "source": [
    "attract = np.sum(travel_tensors, 1) # attractiveness\n",
    "emit = np.sum(travel_tensors, 2) # emmisiveness\n",
    "mean_adj = np.mean(travel_tensors,0)"
   ]
  },
  {
   "cell_type": "code",
   "execution_count": 67,
   "metadata": {},
   "outputs": [],
   "source": [
    "avg_attract = np.mean(attract, 0)\n",
    "avg_emit = np.mean(emit, 0)"
   ]
  },
  {
   "cell_type": "code",
   "execution_count": 68,
   "metadata": {},
   "outputs": [],
   "source": [
    "pop = pd.read_csv(\"../COVIDdata/SeoulFloating.csv\")\n",
    "pop.date=pd.to_datetime(pop.date)"
   ]
  },
  {
   "cell_type": "code",
   "execution_count": 69,
   "metadata": {},
   "outputs": [
    {
     "data": {
      "text/html": [
       "<div>\n",
       "<style scoped>\n",
       "    .dataframe tbody tr th:only-of-type {\n",
       "        vertical-align: middle;\n",
       "    }\n",
       "\n",
       "    .dataframe tbody tr th {\n",
       "        vertical-align: top;\n",
       "    }\n",
       "\n",
       "    .dataframe thead th {\n",
       "        text-align: right;\n",
       "    }\n",
       "</style>\n",
       "<table border=\"1\" class=\"dataframe\">\n",
       "  <thead>\n",
       "    <tr style=\"text-align: right;\">\n",
       "      <th></th>\n",
       "      <th>date</th>\n",
       "      <th>hour</th>\n",
       "      <th>birth_year</th>\n",
       "      <th>sex</th>\n",
       "      <th>province</th>\n",
       "      <th>city</th>\n",
       "      <th>fp_num</th>\n",
       "    </tr>\n",
       "  </thead>\n",
       "  <tbody>\n",
       "    <tr>\n",
       "      <th>0</th>\n",
       "      <td>2020-01-01</td>\n",
       "      <td>0</td>\n",
       "      <td>20</td>\n",
       "      <td>female</td>\n",
       "      <td>Seoul</td>\n",
       "      <td>Dobong-gu</td>\n",
       "      <td>19140</td>\n",
       "    </tr>\n",
       "    <tr>\n",
       "      <th>1</th>\n",
       "      <td>2020-01-01</td>\n",
       "      <td>0</td>\n",
       "      <td>20</td>\n",
       "      <td>male</td>\n",
       "      <td>Seoul</td>\n",
       "      <td>Dobong-gu</td>\n",
       "      <td>19950</td>\n",
       "    </tr>\n",
       "    <tr>\n",
       "      <th>2</th>\n",
       "      <td>2020-01-01</td>\n",
       "      <td>0</td>\n",
       "      <td>20</td>\n",
       "      <td>female</td>\n",
       "      <td>Seoul</td>\n",
       "      <td>Dongdaemun-gu</td>\n",
       "      <td>25450</td>\n",
       "    </tr>\n",
       "    <tr>\n",
       "      <th>3</th>\n",
       "      <td>2020-01-01</td>\n",
       "      <td>0</td>\n",
       "      <td>20</td>\n",
       "      <td>male</td>\n",
       "      <td>Seoul</td>\n",
       "      <td>Dongdaemun-gu</td>\n",
       "      <td>27050</td>\n",
       "    </tr>\n",
       "    <tr>\n",
       "      <th>4</th>\n",
       "      <td>2020-01-01</td>\n",
       "      <td>0</td>\n",
       "      <td>20</td>\n",
       "      <td>female</td>\n",
       "      <td>Seoul</td>\n",
       "      <td>Dongjag-gu</td>\n",
       "      <td>28880</td>\n",
       "    </tr>\n",
       "    <tr>\n",
       "      <th>...</th>\n",
       "      <td>...</td>\n",
       "      <td>...</td>\n",
       "      <td>...</td>\n",
       "      <td>...</td>\n",
       "      <td>...</td>\n",
       "      <td>...</td>\n",
       "      <td>...</td>\n",
       "    </tr>\n",
       "    <tr>\n",
       "      <th>1084795</th>\n",
       "      <td>2020-05-31</td>\n",
       "      <td>21</td>\n",
       "      <td>40</td>\n",
       "      <td>female</td>\n",
       "      <td>Seoul</td>\n",
       "      <td>Dobong-gu</td>\n",
       "      <td>27620</td>\n",
       "    </tr>\n",
       "    <tr>\n",
       "      <th>1084796</th>\n",
       "      <td>2020-05-31</td>\n",
       "      <td>21</td>\n",
       "      <td>40</td>\n",
       "      <td>female</td>\n",
       "      <td>Seoul</td>\n",
       "      <td>Songpa-gu</td>\n",
       "      <td>56560</td>\n",
       "    </tr>\n",
       "    <tr>\n",
       "      <th>1084797</th>\n",
       "      <td>2020-05-31</td>\n",
       "      <td>21</td>\n",
       "      <td>50</td>\n",
       "      <td>female</td>\n",
       "      <td>Seoul</td>\n",
       "      <td>Gangdong-gu</td>\n",
       "      <td>38960</td>\n",
       "    </tr>\n",
       "    <tr>\n",
       "      <th>1084798</th>\n",
       "      <td>2020-05-31</td>\n",
       "      <td>22</td>\n",
       "      <td>60</td>\n",
       "      <td>female</td>\n",
       "      <td>Seoul</td>\n",
       "      <td>Guro-gu</td>\n",
       "      <td>25420</td>\n",
       "    </tr>\n",
       "    <tr>\n",
       "      <th>1084799</th>\n",
       "      <td>2020-05-31</td>\n",
       "      <td>23</td>\n",
       "      <td>40</td>\n",
       "      <td>male</td>\n",
       "      <td>Seoul</td>\n",
       "      <td>Eunpyeong-gu</td>\n",
       "      <td>38650</td>\n",
       "    </tr>\n",
       "  </tbody>\n",
       "</table>\n",
       "<p>1084800 rows × 7 columns</p>\n",
       "</div>"
      ],
      "text/plain": [
       "              date  hour  birth_year     sex province           city  fp_num\n",
       "0       2020-01-01     0          20  female    Seoul      Dobong-gu   19140\n",
       "1       2020-01-01     0          20    male    Seoul      Dobong-gu   19950\n",
       "2       2020-01-01     0          20  female    Seoul  Dongdaemun-gu   25450\n",
       "3       2020-01-01     0          20    male    Seoul  Dongdaemun-gu   27050\n",
       "4       2020-01-01     0          20  female    Seoul     Dongjag-gu   28880\n",
       "...            ...   ...         ...     ...      ...            ...     ...\n",
       "1084795 2020-05-31    21          40  female    Seoul      Dobong-gu   27620\n",
       "1084796 2020-05-31    21          40  female    Seoul      Songpa-gu   56560\n",
       "1084797 2020-05-31    21          50  female    Seoul    Gangdong-gu   38960\n",
       "1084798 2020-05-31    22          60  female    Seoul        Guro-gu   25420\n",
       "1084799 2020-05-31    23          40    male    Seoul   Eunpyeong-gu   38650\n",
       "\n",
       "[1084800 rows x 7 columns]"
      ]
     },
     "execution_count": 69,
     "metadata": {},
     "output_type": "execute_result"
    }
   ],
   "source": [
    "pop"
   ]
  },
  {
   "cell_type": "code",
   "execution_count": 8,
   "metadata": {
    "scrolled": true
   },
   "outputs": [],
   "source": [
    "sum_pop = pop.groupby(['city'])[['city','fp_num']].sum().reset_index()"
   ]
  },
  {
   "cell_type": "code",
   "execution_count": 9,
   "metadata": {},
   "outputs": [],
   "source": [
    "time_len = len(pop['date'].unique())"
   ]
  },
  {
   "cell_type": "code",
   "execution_count": 10,
   "metadata": {},
   "outputs": [],
   "source": [
    "avg_pop = sum_pop\n",
    "avg_pop['fp_num'] = avg_pop['fp_num']/time_len"
   ]
  },
  {
   "cell_type": "code",
   "execution_count": 11,
   "metadata": {},
   "outputs": [
    {
     "data": {
      "text/html": [
       "<div>\n",
       "<style scoped>\n",
       "    .dataframe tbody tr th:only-of-type {\n",
       "        vertical-align: middle;\n",
       "    }\n",
       "\n",
       "    .dataframe tbody tr th {\n",
       "        vertical-align: top;\n",
       "    }\n",
       "\n",
       "    .dataframe thead th {\n",
       "        text-align: right;\n",
       "    }\n",
       "</style>\n",
       "<table border=\"1\" class=\"dataframe\">\n",
       "  <thead>\n",
       "    <tr style=\"text-align: right;\">\n",
       "      <th></th>\n",
       "      <th>city</th>\n",
       "      <th>fp_num</th>\n",
       "    </tr>\n",
       "  </thead>\n",
       "  <tbody>\n",
       "    <tr>\n",
       "      <th>0</th>\n",
       "      <td>Dobong-gu</td>\n",
       "      <td>5.761227e+06</td>\n",
       "    </tr>\n",
       "    <tr>\n",
       "      <th>1</th>\n",
       "      <td>Dongdaemun-gu</td>\n",
       "      <td>6.960437e+06</td>\n",
       "    </tr>\n",
       "    <tr>\n",
       "      <th>2</th>\n",
       "      <td>Dongjag-gu</td>\n",
       "      <td>7.491807e+06</td>\n",
       "    </tr>\n",
       "    <tr>\n",
       "      <th>3</th>\n",
       "      <td>Eunpyeong-gu</td>\n",
       "      <td>8.058139e+06</td>\n",
       "    </tr>\n",
       "    <tr>\n",
       "      <th>4</th>\n",
       "      <td>Gangbuk-gu</td>\n",
       "      <td>5.721899e+06</td>\n",
       "    </tr>\n",
       "    <tr>\n",
       "      <th>5</th>\n",
       "      <td>Gangdong-gu</td>\n",
       "      <td>7.998103e+06</td>\n",
       "    </tr>\n",
       "    <tr>\n",
       "      <th>6</th>\n",
       "      <td>Gangnam-gu</td>\n",
       "      <td>1.403230e+07</td>\n",
       "    </tr>\n",
       "    <tr>\n",
       "      <th>7</th>\n",
       "      <td>Gangseo-gu</td>\n",
       "      <td>1.060369e+07</td>\n",
       "    </tr>\n",
       "    <tr>\n",
       "      <th>8</th>\n",
       "      <td>Geumcheon-gu</td>\n",
       "      <td>5.433533e+06</td>\n",
       "    </tr>\n",
       "    <tr>\n",
       "      <th>9</th>\n",
       "      <td>Guro-gu</td>\n",
       "      <td>8.500131e+06</td>\n",
       "    </tr>\n",
       "    <tr>\n",
       "      <th>10</th>\n",
       "      <td>Gwanak-gu</td>\n",
       "      <td>9.480241e+06</td>\n",
       "    </tr>\n",
       "    <tr>\n",
       "      <th>11</th>\n",
       "      <td>Gwangjin-gu</td>\n",
       "      <td>6.847766e+06</td>\n",
       "    </tr>\n",
       "    <tr>\n",
       "      <th>12</th>\n",
       "      <td>Jongno-gu</td>\n",
       "      <td>5.145550e+06</td>\n",
       "    </tr>\n",
       "    <tr>\n",
       "      <th>13</th>\n",
       "      <td>Jung-gu</td>\n",
       "      <td>5.241818e+06</td>\n",
       "    </tr>\n",
       "    <tr>\n",
       "      <th>14</th>\n",
       "      <td>Jungnang-gu</td>\n",
       "      <td>7.083456e+06</td>\n",
       "    </tr>\n",
       "    <tr>\n",
       "      <th>15</th>\n",
       "      <td>Mapo-gu</td>\n",
       "      <td>8.144248e+06</td>\n",
       "    </tr>\n",
       "    <tr>\n",
       "      <th>16</th>\n",
       "      <td>Nowon-gu</td>\n",
       "      <td>9.539773e+06</td>\n",
       "    </tr>\n",
       "    <tr>\n",
       "      <th>17</th>\n",
       "      <td>Seocho-gu</td>\n",
       "      <td>9.831351e+06</td>\n",
       "    </tr>\n",
       "    <tr>\n",
       "      <th>18</th>\n",
       "      <td>Seodaemun-gu</td>\n",
       "      <td>6.093820e+06</td>\n",
       "    </tr>\n",
       "    <tr>\n",
       "      <th>19</th>\n",
       "      <td>Seongbuk-gu</td>\n",
       "      <td>8.099601e+06</td>\n",
       "    </tr>\n",
       "    <tr>\n",
       "      <th>20</th>\n",
       "      <td>Seongdong-gu</td>\n",
       "      <td>6.133980e+06</td>\n",
       "    </tr>\n",
       "    <tr>\n",
       "      <th>21</th>\n",
       "      <td>Songpa-gu</td>\n",
       "      <td>1.245779e+07</td>\n",
       "    </tr>\n",
       "    <tr>\n",
       "      <th>22</th>\n",
       "      <td>Yangcheon-gu</td>\n",
       "      <td>7.869856e+06</td>\n",
       "    </tr>\n",
       "    <tr>\n",
       "      <th>23</th>\n",
       "      <td>Yeongdeungpo-gu</td>\n",
       "      <td>9.425770e+06</td>\n",
       "    </tr>\n",
       "    <tr>\n",
       "      <th>24</th>\n",
       "      <td>Yongsan-gu</td>\n",
       "      <td>5.081934e+06</td>\n",
       "    </tr>\n",
       "  </tbody>\n",
       "</table>\n",
       "</div>"
      ],
      "text/plain": [
       "               city        fp_num\n",
       "0         Dobong-gu  5.761227e+06\n",
       "1     Dongdaemun-gu  6.960437e+06\n",
       "2        Dongjag-gu  7.491807e+06\n",
       "3      Eunpyeong-gu  8.058139e+06\n",
       "4        Gangbuk-gu  5.721899e+06\n",
       "5       Gangdong-gu  7.998103e+06\n",
       "6        Gangnam-gu  1.403230e+07\n",
       "7        Gangseo-gu  1.060369e+07\n",
       "8      Geumcheon-gu  5.433533e+06\n",
       "9           Guro-gu  8.500131e+06\n",
       "10        Gwanak-gu  9.480241e+06\n",
       "11      Gwangjin-gu  6.847766e+06\n",
       "12        Jongno-gu  5.145550e+06\n",
       "13          Jung-gu  5.241818e+06\n",
       "14      Jungnang-gu  7.083456e+06\n",
       "15          Mapo-gu  8.144248e+06\n",
       "16         Nowon-gu  9.539773e+06\n",
       "17        Seocho-gu  9.831351e+06\n",
       "18     Seodaemun-gu  6.093820e+06\n",
       "19      Seongbuk-gu  8.099601e+06\n",
       "20     Seongdong-gu  6.133980e+06\n",
       "21        Songpa-gu  1.245779e+07\n",
       "22     Yangcheon-gu  7.869856e+06\n",
       "23  Yeongdeungpo-gu  9.425770e+06\n",
       "24       Yongsan-gu  5.081934e+06"
      ]
     },
     "execution_count": 11,
     "metadata": {},
     "output_type": "execute_result"
    }
   ],
   "source": [
    "avg_pop"
   ]
  },
  {
   "cell_type": "code",
   "execution_count": 12,
   "metadata": {},
   "outputs": [],
   "source": [
    "ccode = pd.read_csv('countries_codes_and_coordinates.csv').replace('\"','', regex=True).replace(' ','', regex=True)"
   ]
  },
  {
   "cell_type": "code",
   "execution_count": 13,
   "metadata": {},
   "outputs": [],
   "source": [
    "ccode = pd.read_csv('../COVIDdata/Region.csv')"
   ]
  },
  {
   "cell_type": "code",
   "execution_count": 14,
   "metadata": {},
   "outputs": [
    {
     "data": {
      "text/plain": [
       "2   -89.593345\n",
       "dtype: float64"
      ]
     },
     "execution_count": 14,
     "metadata": {},
     "output_type": "execute_result"
    }
   ],
   "source": [
    "ccode[ccode['city']=='Gangdong-gu']['latitude']-ccode[ccode['city']=='Gangdong-gu']['longitude']"
   ]
  },
  {
   "cell_type": "code",
   "execution_count": 15,
   "metadata": {},
   "outputs": [],
   "source": [
    "label3 = list(label_dict.values())"
   ]
  },
  {
   "cell_type": "code",
   "execution_count": 16,
   "metadata": {
    "scrolled": true
   },
   "outputs": [],
   "source": [
    "# from geopy import distance\n",
    "# gravity_df = np.zeros([country_cutline*country_cutline*(21-2),4])\n",
    "# line = 0\n",
    "# nodes_array = [0,2,3,7,8,9,10,11,13,14,15,16,18,19,20,22,25,26,28]\n",
    "nodes_array = np.append(range(20),[22,25,26,28])\n",
    "\n",
    "# floating_list = []\n",
    "# for i in nodes_array:\n",
    "#     floating_list.append(node_float_pop(label_dict[i]))"
   ]
  },
  {
   "cell_type": "code",
   "execution_count": 17,
   "metadata": {},
   "outputs": [
    {
     "data": {
      "text/plain": [
       "array([ 0,  1,  2,  3,  4,  5,  6,  7,  8,  9, 10, 11, 12, 13, 14, 15, 16,\n",
       "       17, 18, 19, 22, 25, 26, 28])"
      ]
     },
     "execution_count": 17,
     "metadata": {},
     "output_type": "execute_result"
    }
   ],
   "source": [
    "nodes_array"
   ]
  },
  {
   "cell_type": "code",
   "execution_count": 18,
   "metadata": {
    "scrolled": true
   },
   "outputs": [
    {
     "data": {
      "text/plain": [
       "{0: 'Jungnang-gu',\n",
       " 1: 'Dongjak-gu',\n",
       " 2: 'Yangcheon-gu',\n",
       " 3: 'Guro-gu',\n",
       " 4: 'Gangnam-gu',\n",
       " 5: 'Jung-gu',\n",
       " 6: 'Jongno-gu',\n",
       " 7: 'Eunpyeong-gu',\n",
       " 8: 'Gangseo-gu',\n",
       " 9: 'Yeongdeungpo-gu',\n",
       " 10: 'Dongdaemun-gu',\n",
       " 11: 'Songpa-gu',\n",
       " 12: 'Seongdong-gu',\n",
       " 13: 'Geumcheon-gu',\n",
       " 14: 'Gwanak-gu',\n",
       " 15: 'Seocho-gu',\n",
       " 16: 'Seodaemun-gu',\n",
       " 17: 'Gangbuk-gu',\n",
       " 18: 'Yongsan-gu',\n",
       " 19: 'Nowon-gu',\n",
       " 20: 'Mapo-gu',\n",
       " 21: 'Ansan-si',\n",
       " 22: 'Seongbuk-gu',\n",
       " 23: 'Goyang-si',\n",
       " 24: 'Seongnam-si',\n",
       " 25: 'Gwangjin-gu',\n",
       " 26: 'Dobong-gu',\n",
       " 27: 'Namyangju-si',\n",
       " 28: 'Gangdong-gu',\n",
       " 29: 'Anyang-si',\n",
       " 30: 'Guri-si',\n",
       " 31: 'Suwon-si',\n",
       " 32: 'Paju-si',\n",
       " 33: 'Gwangmyeong-si',\n",
       " 34: 'Gimpo-si',\n",
       " 35: 'Anseong-si',\n",
       " 36: 'Gunpo-si',\n",
       " 37: 'Uijeongbu-si',\n",
       " 38: 'Gwacheon-si',\n",
       " 39: 'Icheon-si',\n",
       " 40: 'Pyeongtaek-si',\n",
       " 41: 'Hanam-si',\n",
       " 42: 'Siheung-si',\n",
       " 43: 'Yangpyeong-gun',\n",
       " 44: 'Dongducheon-si',\n",
       " 45: 'Yongin-si',\n",
       " 46: 'Gwangju-si',\n",
       " 47: 'Bucheon-si',\n",
       " 48: 'Yeoncheon-gun',\n",
       " 49: 'Yeoju-si',\n",
       " 50: 'Hwaseong-si',\n",
       " 51: 'Uiwang-si',\n",
       " 52: 'Pocheon-si',\n",
       " 53: 'Osan-si'}"
      ]
     },
     "execution_count": 18,
     "metadata": {},
     "output_type": "execute_result"
    }
   ],
   "source": [
    "label_dict"
   ]
  },
  {
   "cell_type": "code",
   "execution_count": 19,
   "metadata": {},
   "outputs": [],
   "source": [
    "# import geopy.distance\n",
    "from geopy import distance"
   ]
  },
  {
   "cell_type": "code",
   "execution_count": 20,
   "metadata": {},
   "outputs": [],
   "source": [
    "gravity_df = np.zeros([country_cutline*country_cutline,6])\n",
    "line = 0\n",
    "for i in (nodes_array):\n",
    "    for j in (nodes_array):\n",
    "        nodename1 = label_dict[i]\n",
    "        if(nodename1=='Dongjak-gu'):\n",
    "            nodename1 = 'Dongjag-gu'\n",
    "        nodename2 = label_dict[j]\n",
    "        if(nodename2=='Dongjak-gu'):\n",
    "            nodename2 = 'Dongjag-gu'          \n",
    "        e = float(avg_pop[avg_pop['city']==nodename1]['fp_num']) * (100/41.8)\n",
    "        a = float(avg_pop[avg_pop['city']==nodename2]['fp_num']) * (100/41.8)\n",
    "        source = label3[i]\n",
    "        target = label3[j]\n",
    "        y = mean_adj[i,j]\n",
    "        slat = (ccode[ccode['city']==source].iloc[0,:]['latitude'])\n",
    "        slong = (ccode[ccode['city']==source].iloc[0,:]['longitude'])\n",
    "        tlat = (ccode[ccode['city']==target].iloc[0,:]['latitude'])\n",
    "        tlong = (ccode[ccode['city']==target].iloc[0,:]['longitude'])\n",
    "        coords_1 = (slat, slong)\n",
    "        coords_2 = (tlat, tlong)        \n",
    "        d = distance.distance(coords_1, coords_2).km\n",
    "#         print(y)\n",
    "        if((source==target)\n",
    "#            |(len(d)==0)\n",
    "          ):\n",
    "            e,a,d,y = -1,-1,-1,0\n",
    "        gravity_df[line,0] = e\n",
    "        gravity_df[line,1] = a\n",
    "#         print(i,j,d)\n",
    "        gravity_df[line,2] = d\n",
    "        gravity_df[line,3] = y\n",
    "        gravity_df[line,4] = i\n",
    "        gravity_df[line,5] = j   \n",
    "        line += 1"
   ]
  },
  {
   "cell_type": "code",
   "execution_count": 21,
   "metadata": {},
   "outputs": [],
   "source": [
    "gravity_df = pd.DataFrame(gravity_df)\n",
    "gravity_df.columns = ['emit','attract','distance','T','source','target']\n",
    "gravity_df = gravity_df[gravity_df['T']!=0]"
   ]
  },
  {
   "cell_type": "code",
   "execution_count": 22,
   "metadata": {},
   "outputs": [],
   "source": [
    "import copy\n",
    "gravity_df2 = copy.deepcopy(gravity_df)"
   ]
  },
  {
   "cell_type": "code",
   "execution_count": 23,
   "metadata": {},
   "outputs": [
    {
     "data": {
      "text/html": [
       "<div>\n",
       "<style scoped>\n",
       "    .dataframe tbody tr th:only-of-type {\n",
       "        vertical-align: middle;\n",
       "    }\n",
       "\n",
       "    .dataframe tbody tr th {\n",
       "        vertical-align: top;\n",
       "    }\n",
       "\n",
       "    .dataframe thead th {\n",
       "        text-align: right;\n",
       "    }\n",
       "</style>\n",
       "<table border=\"1\" class=\"dataframe\">\n",
       "  <thead>\n",
       "    <tr style=\"text-align: right;\">\n",
       "      <th></th>\n",
       "      <th>emit</th>\n",
       "      <th>attract</th>\n",
       "      <th>distance</th>\n",
       "      <th>T</th>\n",
       "      <th>source</th>\n",
       "      <th>target</th>\n",
       "    </tr>\n",
       "  </thead>\n",
       "  <tbody>\n",
       "    <tr>\n",
       "      <th>1</th>\n",
       "      <td>1.694607e+07</td>\n",
       "      <td>1.792298e+07</td>\n",
       "      <td>15.625686</td>\n",
       "      <td>0.090909</td>\n",
       "      <td>0.0</td>\n",
       "      <td>1.0</td>\n",
       "    </tr>\n",
       "    <tr>\n",
       "      <th>4</th>\n",
       "      <td>1.694607e+07</td>\n",
       "      <td>3.357009e+07</td>\n",
       "      <td>10.601897</td>\n",
       "      <td>0.090909</td>\n",
       "      <td>0.0</td>\n",
       "      <td>4.0</td>\n",
       "    </tr>\n",
       "    <tr>\n",
       "      <th>5</th>\n",
       "      <td>1.694607e+07</td>\n",
       "      <td>1.254024e+07</td>\n",
       "      <td>9.654272</td>\n",
       "      <td>0.136364</td>\n",
       "      <td>0.0</td>\n",
       "      <td>5.0</td>\n",
       "    </tr>\n",
       "    <tr>\n",
       "      <th>6</th>\n",
       "      <td>1.694607e+07</td>\n",
       "      <td>1.230993e+07</td>\n",
       "      <td>10.701757</td>\n",
       "      <td>0.045455</td>\n",
       "      <td>0.0</td>\n",
       "      <td>6.0</td>\n",
       "    </tr>\n",
       "    <tr>\n",
       "      <th>7</th>\n",
       "      <td>1.694607e+07</td>\n",
       "      <td>1.927784e+07</td>\n",
       "      <td>14.440549</td>\n",
       "      <td>0.136364</td>\n",
       "      <td>0.0</td>\n",
       "      <td>7.0</td>\n",
       "    </tr>\n",
       "    <tr>\n",
       "      <th>...</th>\n",
       "      <td>...</td>\n",
       "      <td>...</td>\n",
       "      <td>...</td>\n",
       "      <td>...</td>\n",
       "      <td>...</td>\n",
       "      <td>...</td>\n",
       "    </tr>\n",
       "    <tr>\n",
       "      <th>566</th>\n",
       "      <td>1.913422e+07</td>\n",
       "      <td>2.268000e+07</td>\n",
       "      <td>16.302185</td>\n",
       "      <td>0.045455</td>\n",
       "      <td>28.0</td>\n",
       "      <td>14.0</td>\n",
       "    </tr>\n",
       "    <tr>\n",
       "      <th>567</th>\n",
       "      <td>1.913422e+07</td>\n",
       "      <td>2.351998e+07</td>\n",
       "      <td>9.580869</td>\n",
       "      <td>0.045455</td>\n",
       "      <td>28.0</td>\n",
       "      <td>15.0</td>\n",
       "    </tr>\n",
       "    <tr>\n",
       "      <th>570</th>\n",
       "      <td>1.913422e+07</td>\n",
       "      <td>1.215774e+07</td>\n",
       "      <td>11.830442</td>\n",
       "      <td>0.045455</td>\n",
       "      <td>28.0</td>\n",
       "      <td>18.0</td>\n",
       "    </tr>\n",
       "    <tr>\n",
       "      <th>573</th>\n",
       "      <td>1.913422e+07</td>\n",
       "      <td>1.638222e+07</td>\n",
       "      <td>3.777231</td>\n",
       "      <td>0.136364</td>\n",
       "      <td>28.0</td>\n",
       "      <td>25.0</td>\n",
       "    </tr>\n",
       "    <tr>\n",
       "      <th>574</th>\n",
       "      <td>1.913422e+07</td>\n",
       "      <td>1.378284e+07</td>\n",
       "      <td>16.795918</td>\n",
       "      <td>0.045455</td>\n",
       "      <td>28.0</td>\n",
       "      <td>26.0</td>\n",
       "    </tr>\n",
       "  </tbody>\n",
       "</table>\n",
       "<p>302 rows × 6 columns</p>\n",
       "</div>"
      ],
      "text/plain": [
       "             emit       attract   distance         T  source  target\n",
       "1    1.694607e+07  1.792298e+07  15.625686  0.090909     0.0     1.0\n",
       "4    1.694607e+07  3.357009e+07  10.601897  0.090909     0.0     4.0\n",
       "5    1.694607e+07  1.254024e+07   9.654272  0.136364     0.0     5.0\n",
       "6    1.694607e+07  1.230993e+07  10.701757  0.045455     0.0     6.0\n",
       "7    1.694607e+07  1.927784e+07  14.440549  0.136364     0.0     7.0\n",
       "..            ...           ...        ...       ...     ...     ...\n",
       "566  1.913422e+07  2.268000e+07  16.302185  0.045455    28.0    14.0\n",
       "567  1.913422e+07  2.351998e+07   9.580869  0.045455    28.0    15.0\n",
       "570  1.913422e+07  1.215774e+07  11.830442  0.045455    28.0    18.0\n",
       "573  1.913422e+07  1.638222e+07   3.777231  0.136364    28.0    25.0\n",
       "574  1.913422e+07  1.378284e+07  16.795918  0.045455    28.0    26.0\n",
       "\n",
       "[302 rows x 6 columns]"
      ]
     },
     "execution_count": 23,
     "metadata": {},
     "output_type": "execute_result"
    }
   ],
   "source": [
    "gravity_df2"
   ]
  },
  {
   "cell_type": "code",
   "execution_count": 24,
   "metadata": {},
   "outputs": [],
   "source": [
    "def scale(em):\n",
    "    return em + np.exp(1)\n",
    "#     return 10+90*(em-np.min(em))/(np.max(em)-np.min(em))"
   ]
  },
  {
   "cell_type": "code",
   "execution_count": 25,
   "metadata": {},
   "outputs": [],
   "source": [
    "gravity_df2['emit'] = scale(gravity_df2['emit'])\n",
    "gravity_df2['attract'] = scale(gravity_df2['attract'])\n",
    "gravity_df2['distance'] = scale(gravity_df2['distance'])\n",
    "gravity_df2['T'] = scale(gravity_df2['T'])"
   ]
  },
  {
   "cell_type": "code",
   "execution_count": 26,
   "metadata": {},
   "outputs": [],
   "source": [
    "log_grav_df = np.log(gravity_df2[['emit','attract','distance','T']])\n",
    "log_grav_df['source'] = gravity_df2['source'] \n",
    "log_grav_df['target'] = gravity_df2['target'] "
   ]
  },
  {
   "cell_type": "code",
   "execution_count": 27,
   "metadata": {},
   "outputs": [
    {
     "data": {
      "image/png": "[encoded data removed]",
      "text/plain": [
       "<Figure size 576x576 with 6 Axes>"
      ]
     },
     "metadata": {
      "needs_background": "light"
     },
     "output_type": "display_data"
    }
   ],
   "source": [
    "fig = plt.figure(figsize=[8,8])\n",
    "plt.subplot(3, 2, 1)\n",
    "plt.scatter(log_grav_df['emit'],(log_grav_df['T']))\n",
    "plt.xlabel('log(emit)'); plt.ylabel('y')\n",
    "plt.subplot(3, 2, 2)\n",
    "plt.scatter(log_grav_df['emit'],np.log(log_grav_df['T']))\n",
    "plt.xlabel('log(emit)'); plt.ylabel('log( y )')\n",
    "\n",
    "plt.subplot(3, 2, 3)\n",
    "plt.scatter(log_grav_df['attract'],(log_grav_df['T']))\n",
    "plt.xlabel('log(attract)'); plt.ylabel('y')\n",
    "plt.subplot(3, 2, 4)\n",
    "plt.scatter(log_grav_df['attract'],np.log(log_grav_df['T']))\n",
    "plt.xlabel('log(attract)'); plt.ylabel('log( y )')\n",
    "\n",
    "plt.subplot(3, 2, 5)\n",
    "plt.scatter(log_grav_df['distance'],(log_grav_df['T']))\n",
    "plt.xlabel('log(distance)'); plt.ylabel('y')\n",
    "plt.subplot(3, 2, 6)\n",
    "plt.scatter(log_grav_df['distance'],np.log(log_grav_df['T']))\n",
    "plt.xlabel('log(distance)'); plt.ylabel('log( y )')\n",
    "\n",
    "fig.subplots_adjust(wspace=0.3, hspace=0.5)\n",
    "plt.show()"
   ]
  },
  {
   "cell_type": "code",
   "execution_count": 54,
   "metadata": {},
   "outputs": [
    {
     "data": {
      "text/html": [
       "<table class=\"simpletable\">\n",
       "<caption>OLS Regression Results</caption>\n",
       "<tr>\n",
       "  <th>Dep. Variable:</th>            <td>T</td>        <th>  R-squared:         </th> <td>   0.116</td>\n",
       "</tr>\n",
       "<tr>\n",
       "  <th>Model:</th>                   <td>OLS</td>       <th>  Adj. R-squared:    </th> <td>   0.107</td>\n",
       "</tr>\n",
       "<tr>\n",
       "  <th>Method:</th>             <td>Least Squares</td>  <th>  F-statistic:       </th> <td>   12.98</td>\n",
       "</tr>\n",
       "<tr>\n",
       "  <th>Date:</th>             <td>Mon, 28 Sep 2020</td> <th>  Prob (F-statistic):</th> <td>5.47e-08</td>\n",
       "</tr>\n",
       "<tr>\n",
       "  <th>Time:</th>                 <td>18:49:11</td>     <th>  Log-Likelihood:    </th> <td>  476.20</td>\n",
       "</tr>\n",
       "<tr>\n",
       "  <th>No. Observations:</th>      <td>   302</td>      <th>  AIC:               </th> <td>  -944.4</td>\n",
       "</tr>\n",
       "<tr>\n",
       "  <th>Df Residuals:</th>          <td>   298</td>      <th>  BIC:               </th> <td>  -929.6</td>\n",
       "</tr>\n",
       "<tr>\n",
       "  <th>Df Model:</th>              <td>     3</td>      <th>                     </th>     <td> </td>   \n",
       "</tr>\n",
       "<tr>\n",
       "  <th>Covariance Type:</th>      <td>nonrobust</td>    <th>                     </th>     <td> </td>   \n",
       "</tr>\n",
       "</table>\n",
       "<table class=\"simpletable\">\n",
       "<tr>\n",
       "      <td></td>        <th>coef</th>     <th>std err</th>      <th>t</th>      <th>P>|t|</th>  <th>[0.025</th>    <th>0.975]</th>  \n",
       "</tr>\n",
       "<tr>\n",
       "  <th>const</th>    <td>    0.2905</td> <td>    0.245</td> <td>    1.185</td> <td> 0.237</td> <td>   -0.192</td> <td>    0.773</td>\n",
       "</tr>\n",
       "<tr>\n",
       "  <th>emit</th>     <td>    0.0298</td> <td>    0.010</td> <td>    2.882</td> <td> 0.004</td> <td>    0.009</td> <td>    0.050</td>\n",
       "</tr>\n",
       "<tr>\n",
       "  <th>attract</th>  <td>    0.0220</td> <td>    0.011</td> <td>    2.072</td> <td> 0.039</td> <td>    0.001</td> <td>    0.043</td>\n",
       "</tr>\n",
       "<tr>\n",
       "  <th>distance</th> <td>   -0.0415</td> <td>    0.007</td> <td>   -5.804</td> <td> 0.000</td> <td>   -0.056</td> <td>   -0.027</td>\n",
       "</tr>\n",
       "</table>\n",
       "<table class=\"simpletable\">\n",
       "<tr>\n",
       "  <th>Omnibus:</th>       <td>150.635</td> <th>  Durbin-Watson:     </th> <td>   1.666</td> \n",
       "</tr>\n",
       "<tr>\n",
       "  <th>Prob(Omnibus):</th> <td> 0.000</td>  <th>  Jarque-Bera (JB):  </th> <td> 739.561</td> \n",
       "</tr>\n",
       "<tr>\n",
       "  <th>Skew:</th>          <td> 2.095</td>  <th>  Prob(JB):          </th> <td>2.55e-161</td>\n",
       "</tr>\n",
       "<tr>\n",
       "  <th>Kurtosis:</th>      <td> 9.420</td>  <th>  Cond. No.          </th> <td>2.02e+03</td> \n",
       "</tr>\n",
       "</table><br/><br/>Warnings:<br/>[1] Standard Errors assume that the covariance matrix of the errors is correctly specified.<br/>[2] The condition number is large, 2.02e+03. This might indicate that there are<br/>strong multicollinearity or other numerical problems."
      ],
      "text/plain": [
       "<class 'statsmodels.iolib.summary.Summary'>\n",
       "\"\"\"\n",
       "                            OLS Regression Results                            \n",
       "==============================================================================\n",
       "Dep. Variable:                      T   R-squared:                       0.116\n",
       "Model:                            OLS   Adj. R-squared:                  0.107\n",
       "Method:                 Least Squares   F-statistic:                     12.98\n",
       "Date:                Mon, 28 Sep 2020   Prob (F-statistic):           5.47e-08\n",
       "Time:                        18:49:11   Log-Likelihood:                 476.20\n",
       "No. Observations:                 302   AIC:                            -944.4\n",
       "Df Residuals:                     298   BIC:                            -929.6\n",
       "Df Model:                           3                                         \n",
       "Covariance Type:            nonrobust                                         \n",
       "==============================================================================\n",
       "                 coef    std err          t      P>|t|      [0.025      0.975]\n",
       "------------------------------------------------------------------------------\n",
       "const          0.2905      0.245      1.185      0.237      -0.192       0.773\n",
       "emit           0.0298      0.010      2.882      0.004       0.009       0.050\n",
       "attract        0.0220      0.011      2.072      0.039       0.001       0.043\n",
       "distance      -0.0415      0.007     -5.804      0.000      -0.056      -0.027\n",
       "==============================================================================\n",
       "Omnibus:                      150.635   Durbin-Watson:                   1.666\n",
       "Prob(Omnibus):                  0.000   Jarque-Bera (JB):              739.561\n",
       "Skew:                           2.095   Prob(JB):                    2.55e-161\n",
       "Kurtosis:                       9.420   Cond. No.                     2.02e+03\n",
       "==============================================================================\n",
       "\n",
       "Warnings:\n",
       "[1] Standard Errors assume that the covariance matrix of the errors is correctly specified.\n",
       "[2] The condition number is large, 2.02e+03. This might indicate that there are\n",
       "strong multicollinearity or other numerical problems.\n",
       "\"\"\""
      ]
     },
     "execution_count": 54,
     "metadata": {},
     "output_type": "execute_result"
    }
   ],
   "source": [
    "import statsmodels.api as sm\n",
    "# offset = 4\n",
    "log_grav_df_processed = log_grav_df\n",
    "X = (log_grav_df_processed[['emit','attract','distance']])\n",
    "X = sm.add_constant(X)\n",
    "y = (log_grav_df_processed['T'])\n",
    "\n",
    "# glm = sm.GLM(y, X, family=sm.families.Gaussian(link=sm.families.links.identity))\n",
    "glm = sm.OLS(y, X)\n",
    "# glm = sm.GLM(y, X, family=sm.families.InverseGaussian(link=sm.families.links.log))\n",
    "# glm = sm.GLM(y, X, family=sm.families.Gamma(link=sm.families.links.log))\n",
    "# glm = sm.GLM(y, X, family=sm.families.Tweedie(var_power=10))\n",
    "result = glm.fit()\n",
    "result.summary()\n",
    "# gamma_model = smf.glm(formula='y ~ emit + attract + distance', data=log_grav_df, family=sm.families.Gaussian(sm.families.links.identity))\n",
    "# gamma_results = gamma_model.fit()\n",
    "# print(gamma_results.summary())"
   ]
  },
  {
   "cell_type": "code",
   "execution_count": 59,
   "metadata": {},
   "outputs": [
    {
     "data": {
      "image/png": "[encoded data removed]",
      "text/plain": [
       "<Figure size 1296x360 with 3 Axes>"
      ]
     },
     "metadata": {
      "needs_background": "light"
     },
     "output_type": "display_data"
    }
   ],
   "source": [
    "pred = result.predict(sm.add_constant(log_grav_df_processed[['emit','attract','distance']]))\n",
    "ap=0.5\n",
    "\n",
    "fig = plt.figure(figsize=[18,5])\n",
    "plt.subplot(1, 3, 1)\n",
    "X= log_grav_df_processed['emit']\n",
    "plt.scatter(X,y, alpha=ap, label = 'Observations')\n",
    "plt.scatter(X,pred, alpha=ap, label = 'Predictions')\n",
    "plt.xlabel(\"log(E')\")\n",
    "plt.ylabel(\"log(T')\")\n",
    "plt.legend()\n",
    "\n",
    "plt.subplot(1, 3, 2)\n",
    "X= log_grav_df_processed['attract']\n",
    "plt.scatter(X,y, alpha=ap, label = 'Observations')\n",
    "plt.scatter(X,pred, alpha=ap, label = 'Predictions')\n",
    "plt.xlabel(\"log(A')\")\n",
    "plt.ylabel(\"log(T')\")\n",
    "plt.legend()\n",
    "plt.subplot(1, 3, 3)\n",
    "X= log_grav_df_processed['distance']\n",
    "plt.scatter(X,y, alpha=ap, label = 'Observations')\n",
    "plt.scatter(X,pred, alpha=ap, label = 'Predictions')\n",
    "plt.xlabel(\"log(D')\")\n",
    "plt.ylabel(\"log(T')\")\n",
    "plt.legend()\n",
    "\n",
    "fig.subplots_adjust(wspace=0.3, hspace=0.5)\n",
    "plt.show()"
   ]
  },
  {
   "cell_type": "code",
   "execution_count": 60,
   "metadata": {},
   "outputs": [
    {
     "data": {
      "text/html": [
       "<div>\n",
       "<style scoped>\n",
       "    .dataframe tbody tr th:only-of-type {\n",
       "        vertical-align: middle;\n",
       "    }\n",
       "\n",
       "    .dataframe tbody tr th {\n",
       "        vertical-align: top;\n",
       "    }\n",
       "\n",
       "    .dataframe thead th {\n",
       "        text-align: right;\n",
       "    }\n",
       "</style>\n",
       "<table border=\"1\" class=\"dataframe\">\n",
       "  <thead>\n",
       "    <tr style=\"text-align: right;\">\n",
       "      <th></th>\n",
       "      <th>emit</th>\n",
       "      <th>attract</th>\n",
       "      <th>distance</th>\n",
       "      <th>T</th>\n",
       "      <th>source</th>\n",
       "      <th>target</th>\n",
       "    </tr>\n",
       "  </thead>\n",
       "  <tbody>\n",
       "    <tr>\n",
       "      <th>73</th>\n",
       "      <td>16.827866</td>\n",
       "      <td>16.701595</td>\n",
       "      <td>2.265497</td>\n",
       "      <td>1.313262</td>\n",
       "      <td>3.0</td>\n",
       "      <td>1.0</td>\n",
       "    </tr>\n",
       "    <tr>\n",
       "      <th>194</th>\n",
       "      <td>17.048987</td>\n",
       "      <td>16.750824</td>\n",
       "      <td>1.914169</td>\n",
       "      <td>1.300962</td>\n",
       "      <td>8.0</td>\n",
       "      <td>2.0</td>\n",
       "    </tr>\n",
       "    <tr>\n",
       "      <th>264</th>\n",
       "      <td>17.210131</td>\n",
       "      <td>16.645546</td>\n",
       "      <td>2.566628</td>\n",
       "      <td>1.313262</td>\n",
       "      <td>11.0</td>\n",
       "      <td>0.0</td>\n",
       "    </tr>\n",
       "    <tr>\n",
       "      <th>288</th>\n",
       "      <td>16.501628</td>\n",
       "      <td>16.645546</td>\n",
       "      <td>2.265405</td>\n",
       "      <td>1.300962</td>\n",
       "      <td>12.0</td>\n",
       "      <td>0.0</td>\n",
       "    </tr>\n",
       "  </tbody>\n",
       "</table>\n",
       "</div>"
      ],
      "text/plain": [
       "          emit    attract  distance         T  source  target\n",
       "73   16.827866  16.701595  2.265497  1.313262     3.0     1.0\n",
       "194  17.048987  16.750824  1.914169  1.300962     8.0     2.0\n",
       "264  17.210131  16.645546  2.566628  1.313262    11.0     0.0\n",
       "288  16.501628  16.645546  2.265405  1.300962    12.0     0.0"
      ]
     },
     "execution_count": 60,
     "metadata": {},
     "output_type": "execute_result"
    }
   ],
   "source": [
    "outliers = log_grav_df_processed[log_grav_df_processed['T'] > 1.25]\n",
    "outliers"
   ]
  },
  {
   "cell_type": "code",
   "execution_count": 61,
   "metadata": {},
   "outputs": [
    {
     "name": "stdout",
     "output_type": "stream",
     "text": [
      "16191546.323483482\n",
      "19776399.94021596\n"
     ]
    }
   ],
   "source": [
    "print(np.exp(16.6)-np.exp(1))\n",
    "print(np.exp(16.8)-np.exp(1))\n",
    "# plt.hist(np.exp(outliers['attract'])-np.exp(1))"
   ]
  },
  {
   "cell_type": "code",
   "execution_count": 62,
   "metadata": {},
   "outputs": [
    {
     "data": {
      "text/plain": [
       "(array([2., 0., 0., 0., 0., 0., 0., 1., 0., 0., 0., 0., 0., 0., 1.]),\n",
       " array([0.        , 0.13333333, 0.26666667, 0.4       , 0.53333333,\n",
       "        0.66666667, 0.8       , 0.93333333, 1.06666667, 1.2       ,\n",
       "        1.33333333, 1.46666667, 1.6       , 1.73333333, 1.86666667,\n",
       "        2.        ]),\n",
       " <a list of 15 Patch objects>)"
      ]
     },
     "execution_count": 62,
     "metadata": {},
     "output_type": "execute_result"
    },
    {
     "data": {
      "image/png": "[encoded data removed]",
      "text/plain": [
       "<Figure size 432x288 with 1 Axes>"
      ]
     },
     "metadata": {
      "needs_background": "light"
     },
     "output_type": "display_data"
    }
   ],
   "source": [
    "# np.exp(outliers['T'])-np.exp(1)\n",
    "plt.hist(outliers['target'], bins=15)\n",
    "# outliers['target']"
   ]
  },
  {
   "cell_type": "code",
   "execution_count": 33,
   "metadata": {},
   "outputs": [],
   "source": [
    "avg_adj = np.mean(travel_tensors,0)"
   ]
  },
  {
   "cell_type": "code",
   "execution_count": 34,
   "metadata": {},
   "outputs": [
    {
     "data": {
      "text/plain": [
       "array([3, 7])"
      ]
     },
     "execution_count": 34,
     "metadata": {},
     "output_type": "execute_result"
    }
   ],
   "source": [
    "np.sum([[1,2],[3,4]], 1)"
   ]
  },
  {
   "cell_type": "code",
   "execution_count": 52,
   "metadata": {},
   "outputs": [],
   "source": [
    "sum_adj = np.sum(travel_tensors,0)\n",
    "out_t = np.sum(sum_adj,1) #out\n",
    "in_t = np.sum(sum_adj,0)"
   ]
  },
  {
   "cell_type": "code",
   "execution_count": null,
   "metadata": {},
   "outputs": [],
   "source": []
  },
  {
   "cell_type": "code",
   "execution_count": 53,
   "metadata": {},
   "outputs": [
    {
     "data": {
      "image/png": "[encoded data removed]",
      "text/plain": [
       "<Figure size 864x360 with 1 Axes>"
      ]
     },
     "metadata": {
      "needs_background": "light"
     },
     "output_type": "display_data"
    }
   ],
   "source": [
    "plt.figure(figsize=(12,5))\n",
    "plt.plot(out_t, label='out-traffic')\n",
    "plt.plot(in_t, label='in-traffic')\n",
    "plt.plot(in_t + out_t, label='total-traffic')\n",
    "plt.scatter([0,1,2,3,4,15],out_t[[0,1,2,3,4,15]])\n",
    "plt.scatter([0,1,2,3,4,15],in_t[[0,1,2,3,4,15]])\n",
    "plt.xticks(range(0, 54,2))\n",
    "plt.legend()\n",
    "plt.show()"
   ]
  },
  {
   "cell_type": "code",
   "execution_count": 37,
   "metadata": {},
   "outputs": [
    {
     "data": {
      "image/png": "[encoded data removed]",
      "text/plain": [
       "<Figure size 864x360 with 1 Axes>"
      ]
     },
     "metadata": {
      "needs_background": "light"
     },
     "output_type": "display_data"
    }
   ],
   "source": [
    "plt.figure(figsize=(12,5))\n",
    "plt.plot(out_t+in_t)\n",
    "plt.xticks(range(0, 54,2))\n",
    "plt.show()"
   ]
  },
  {
   "cell_type": "code",
   "execution_count": 38,
   "metadata": {},
   "outputs": [],
   "source": [
    "temp_G = nx.from_numpy_matrix(avg_adj, create_using=nx.DiGraph)\n",
    "G = nx.relabel_nodes(temp_G, label_dict)\n",
    "cent = nx.load_centrality(G)"
   ]
  },
  {
   "cell_type": "code",
   "execution_count": 39,
   "metadata": {},
   "outputs": [
    {
     "data": {
      "text/plain": [
       "[<matplotlib.lines.Line2D at 0x7fcaa4251050>]"
      ]
     },
     "execution_count": 39,
     "metadata": {},
     "output_type": "execute_result"
    },
    {
     "data": {
      "image/png": "[encoded data removed]",
      "text/plain": [
       "<Figure size 432x288 with 1 Axes>"
      ]
     },
     "metadata": {
      "needs_background": "light"
     },
     "output_type": "display_data"
    }
   ],
   "source": [
    "plt.plot(list(cent.values()))"
   ]
  }
 ],
 "metadata": {
  "kernelspec": {
   "display_name": "Python 3",
   "language": "python",
   "name": "python3"
  },
  "language_info": {
   "codemirror_mode": {
    "name": "ipython",
    "version": 3
   },
   "file_extension": ".py",
   "mimetype": "text/x-python",
   "name": "python",
   "nbconvert_exporter": "python",
   "pygments_lexer": "ipython3",
   "version": "3.7.6"
  }
 },
 "nbformat": 4,
 "nbformat_minor": 4
}

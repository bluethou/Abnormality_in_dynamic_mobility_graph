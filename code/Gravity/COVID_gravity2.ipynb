{
 "cells": [
  {
   "cell_type": "markdown",
   "metadata": {},
   "source": [
    "# Data Source: GeoDist: The CEPII's distances and geographical database\n",
    "Bilateral distances between the largest cities of those two countries (in terms\n",
    "of population)"
   ]
  },
  {
   "cell_type": "code",
   "execution_count": 1,
   "metadata": {},
   "outputs": [],
   "source": [
    "import pandas as pd\n",
    "import pickle\n",
    "import numpy as np\n",
    "import sklearn\n",
    "from geopy import distance\n",
    "import matplotlib.pyplot as plt"
   ]
  },
  {
   "cell_type": "code",
   "execution_count": 2,
   "metadata": {},
   "outputs": [],
   "source": [
    "with open('../pkl/COVID_sorted_W_tensors_ver2.pkl', 'rb') as f:\n",
    "    travel_tensor_raw = pickle.load(f) \n",
    "    \n",
    "with open('../pkl/COVID_label_dict.pkl', 'rb') as f:\n",
    "    label_dict = pickle.load(f) "
   ]
  },
  {
   "cell_type": "code",
   "execution_count": 3,
   "metadata": {},
   "outputs": [],
   "source": [
    "country_cutline = 50 # 69, 70 give None homogeneity\n",
    "travel_tensors = travel_tensor_raw[:,0:country_cutline,0:country_cutline]"
   ]
  },
  {
   "cell_type": "code",
   "execution_count": 4,
   "metadata": {},
   "outputs": [
    {
     "data": {
      "text/plain": [
       "(22, 50, 50)"
      ]
     },
     "execution_count": 4,
     "metadata": {},
     "output_type": "execute_result"
    }
   ],
   "source": [
    "travel_tensors.shape"
   ]
  },
  {
   "cell_type": "code",
   "execution_count": 5,
   "metadata": {
    "scrolled": true
   },
   "outputs": [
    {
     "data": {
      "text/plain": [
       "{0: 'Jungnang-gu',\n",
       " 1: 'Dongjak-gu',\n",
       " 2: 'Yangcheon-gu',\n",
       " 3: 'Guro-gu',\n",
       " 4: 'Gangnam-gu',\n",
       " 5: 'Jung-gu',\n",
       " 6: 'Jongno-gu',\n",
       " 7: 'Eunpyeong-gu',\n",
       " 8: 'Gangseo-gu',\n",
       " 9: 'Yeongdeungpo-gu',\n",
       " 10: 'Dongdaemun-gu',\n",
       " 11: 'Songpa-gu',\n",
       " 12: 'Seongdong-gu',\n",
       " 13: 'Geumcheon-gu',\n",
       " 14: 'Gwanak-gu',\n",
       " 15: 'Seocho-gu',\n",
       " 16: 'Seodaemun-gu',\n",
       " 17: 'Gangbuk-gu',\n",
       " 18: 'Yongsan-gu',\n",
       " 19: 'Nowon-gu',\n",
       " 20: 'Mapo-gu',\n",
       " 21: 'Ansan-si',\n",
       " 22: 'Seongbuk-gu',\n",
       " 23: 'Goyang-si',\n",
       " 24: 'Seongnam-si',\n",
       " 25: 'Gwangjin-gu',\n",
       " 26: 'Dobong-gu',\n",
       " 27: 'Namyangju-si',\n",
       " 28: 'Gangdong-gu',\n",
       " 29: 'Anyang-si',\n",
       " 30: 'Guri-si',\n",
       " 31: 'Suwon-si',\n",
       " 32: 'Paju-si',\n",
       " 33: 'Gwangmyeong-si',\n",
       " 34: 'Gimpo-si',\n",
       " 35: 'Anseong-si',\n",
       " 36: 'Gunpo-si',\n",
       " 37: 'Uijeongbu-si',\n",
       " 38: 'Gwacheon-si',\n",
       " 39: 'Icheon-si',\n",
       " 40: 'Pyeongtaek-si',\n",
       " 41: 'Hanam-si',\n",
       " 42: 'Siheung-si',\n",
       " 43: 'Yangpyeong-gun',\n",
       " 44: 'Dongducheon-si',\n",
       " 45: 'Yongin-si',\n",
       " 46: 'Gwangju-si',\n",
       " 47: 'Bucheon-si',\n",
       " 48: 'Yeoncheon-gun',\n",
       " 49: 'Yeoju-si',\n",
       " 50: 'Hwaseong-si',\n",
       " 51: 'Uiwang-si',\n",
       " 52: 'Pocheon-si',\n",
       " 53: 'Osan-si'}"
      ]
     },
     "execution_count": 5,
     "metadata": {},
     "output_type": "execute_result"
    }
   ],
   "source": [
    "label_dict"
   ]
  },
  {
   "cell_type": "code",
   "execution_count": 6,
   "metadata": {},
   "outputs": [],
   "source": [
    "attract = np.sum(travel_tensors, 1) # attractiveness\n",
    "emit = np.sum(travel_tensors, 2) # emmisiveness\n",
    "mean_adj = np.mean(travel_tensors,0)"
   ]
  },
  {
   "cell_type": "code",
   "execution_count": 7,
   "metadata": {
    "scrolled": true
   },
   "outputs": [
    {
     "data": {
      "text/plain": [
       "(22, 50)"
      ]
     },
     "execution_count": 7,
     "metadata": {},
     "output_type": "execute_result"
    }
   ],
   "source": [
    "attract.shape"
   ]
  },
  {
   "cell_type": "code",
   "execution_count": 8,
   "metadata": {},
   "outputs": [
    {
     "data": {
      "text/plain": [
       "(50, 50)"
      ]
     },
     "execution_count": 8,
     "metadata": {},
     "output_type": "execute_result"
    }
   ],
   "source": [
    "mean_adj.shape"
   ]
  },
  {
   "cell_type": "code",
   "execution_count": 9,
   "metadata": {},
   "outputs": [],
   "source": [
    "avg_attract = np.mean(attract, 0)\n",
    "avg_emit = np.mean(emit, 0)"
   ]
  },
  {
   "cell_type": "code",
   "execution_count": 10,
   "metadata": {},
   "outputs": [],
   "source": [
    "ccode = pd.read_csv('countries_codes_and_coordinates.csv').replace('\"','', regex=True).replace(' ','', regex=True)"
   ]
  },
  {
   "cell_type": "code",
   "execution_count": 11,
   "metadata": {},
   "outputs": [],
   "source": [
    "ccode = pd.read_csv('../COVIDdata/Region.csv')"
   ]
  },
  {
   "cell_type": "code",
   "execution_count": 12,
   "metadata": {},
   "outputs": [
    {
     "data": {
      "text/plain": [
       "2   -89.593345\n",
       "dtype: float64"
      ]
     },
     "execution_count": 12,
     "metadata": {},
     "output_type": "execute_result"
    }
   ],
   "source": [
    "ccode[ccode['city']=='Gangdong-gu']['latitude']-ccode[ccode['city']=='Gangdong-gu']['longitude']"
   ]
  },
  {
   "cell_type": "code",
   "execution_count": 13,
   "metadata": {},
   "outputs": [],
   "source": [
    "label3 = list(label_dict.values())"
   ]
  },
  {
   "cell_type": "code",
   "execution_count": 14,
   "metadata": {},
   "outputs": [
    {
     "data": {
      "text/plain": [
       "37.566953000000005"
      ]
     },
     "execution_count": 14,
     "metadata": {},
     "output_type": "execute_result"
    }
   ],
   "source": [
    "float(ccode[ccode['city']=='Seoul']['latitude'])"
   ]
  },
  {
   "cell_type": "code",
   "execution_count": 15,
   "metadata": {},
   "outputs": [],
   "source": [
    "# label3 = []\n",
    "# for i in range(len(label2)):\n",
    "#     for j in range(len(ccode)):\n",
    "#         if(label2[i]==ccode.iloc[j,1]):\n",
    "#             if(ccode.iloc[j,2] == ccode.iloc[j-1,2]):\n",
    "#                 continue\n",
    "#             label3.append(ccode.iloc[j,2])"
   ]
  },
  {
   "cell_type": "code",
   "execution_count": 16,
   "metadata": {
    "scrolled": true
   },
   "outputs": [
    {
     "data": {
      "text/plain": [
       "{0: 'Jungnang-gu',\n",
       " 1: 'Dongjak-gu',\n",
       " 2: 'Yangcheon-gu',\n",
       " 3: 'Guro-gu',\n",
       " 4: 'Gangnam-gu',\n",
       " 5: 'Jung-gu',\n",
       " 6: 'Jongno-gu',\n",
       " 7: 'Eunpyeong-gu',\n",
       " 8: 'Gangseo-gu',\n",
       " 9: 'Yeongdeungpo-gu',\n",
       " 10: 'Dongdaemun-gu',\n",
       " 11: 'Songpa-gu',\n",
       " 12: 'Seongdong-gu',\n",
       " 13: 'Geumcheon-gu',\n",
       " 14: 'Gwanak-gu',\n",
       " 15: 'Seocho-gu',\n",
       " 16: 'Seodaemun-gu',\n",
       " 17: 'Gangbuk-gu',\n",
       " 18: 'Yongsan-gu',\n",
       " 19: 'Nowon-gu',\n",
       " 20: 'Mapo-gu',\n",
       " 21: 'Ansan-si',\n",
       " 22: 'Seongbuk-gu',\n",
       " 23: 'Goyang-si',\n",
       " 24: 'Seongnam-si',\n",
       " 25: 'Gwangjin-gu',\n",
       " 26: 'Dobong-gu',\n",
       " 27: 'Namyangju-si',\n",
       " 28: 'Gangdong-gu',\n",
       " 29: 'Anyang-si',\n",
       " 30: 'Guri-si',\n",
       " 31: 'Suwon-si',\n",
       " 32: 'Paju-si',\n",
       " 33: 'Gwangmyeong-si',\n",
       " 34: 'Gimpo-si',\n",
       " 35: 'Anseong-si',\n",
       " 36: 'Gunpo-si',\n",
       " 37: 'Uijeongbu-si',\n",
       " 38: 'Gwacheon-si',\n",
       " 39: 'Icheon-si',\n",
       " 40: 'Pyeongtaek-si',\n",
       " 41: 'Hanam-si',\n",
       " 42: 'Siheung-si',\n",
       " 43: 'Yangpyeong-gun',\n",
       " 44: 'Dongducheon-si',\n",
       " 45: 'Yongin-si',\n",
       " 46: 'Gwangju-si',\n",
       " 47: 'Bucheon-si',\n",
       " 48: 'Yeoncheon-gun',\n",
       " 49: 'Yeoju-si',\n",
       " 50: 'Hwaseong-si',\n",
       " 51: 'Uiwang-si',\n",
       " 52: 'Pocheon-si',\n",
       " 53: 'Osan-si'}"
      ]
     },
     "execution_count": 16,
     "metadata": {},
     "output_type": "execute_result"
    }
   ],
   "source": [
    "label_dict"
   ]
  },
  {
   "cell_type": "code",
   "execution_count": 17,
   "metadata": {},
   "outputs": [],
   "source": [
    "import geopy.distance"
   ]
  },
  {
   "cell_type": "code",
   "execution_count": 18,
   "metadata": {
    "scrolled": true
   },
   "outputs": [],
   "source": [
    "gravity_df = np.zeros([country_cutline*country_cutline,6])\n",
    "line = 0\n",
    "for i in range(country_cutline):\n",
    "    for j in range(country_cutline):\n",
    "        e = avg_emit[i]\n",
    "        a = avg_attract[j]\n",
    "        source = label3[i]\n",
    "        target = label3[j]\n",
    "        y = mean_adj[i,j]\n",
    "        slat = (ccode[ccode['city']==source].iloc[0,:]['latitude'])\n",
    "        slong = (ccode[ccode['city']==source].iloc[0,:]['longitude'])\n",
    "        tlat = (ccode[ccode['city']==target].iloc[0,:]['latitude'])\n",
    "        tlong = (ccode[ccode['city']==target].iloc[0,:]['longitude'])\n",
    "        coords_1 = (slat, slong)\n",
    "        coords_2 = (tlat, tlong)\n",
    "        d = distance.distance(coords_1, coords_2).km\n",
    "        if((source==target)\n",
    "#            |(len(d)==0)\n",
    "          ):\n",
    "            e,a,d,y = -1,-1,-1,0\n",
    "        gravity_df[line,0] = e\n",
    "        gravity_df[line,1] = a\n",
    "#         print(i,j,d)\n",
    "        gravity_df[line,2] = d\n",
    "        gravity_df[line,3] = y\n",
    "        gravity_df[line,4] = i\n",
    "        gravity_df[line,5] = j\n",
    "        line += 1"
   ]
  },
  {
   "cell_type": "code",
   "execution_count": 19,
   "metadata": {},
   "outputs": [
    {
     "data": {
      "text/plain": [
       "(2500, 6)"
      ]
     },
     "execution_count": 19,
     "metadata": {},
     "output_type": "execute_result"
    }
   ],
   "source": [
    "gravity_df.shape"
   ]
  },
  {
   "cell_type": "code",
   "execution_count": 20,
   "metadata": {},
   "outputs": [],
   "source": [
    "gravity_df = pd.DataFrame(gravity_df)\n",
    "gravity_df.columns = ['emit','attract','distance','T','Source','Target']\n",
    "gravity_df = gravity_df[gravity_df['T']!=0]"
   ]
  },
  {
   "cell_type": "code",
   "execution_count": 21,
   "metadata": {},
   "outputs": [],
   "source": [
    "import copy\n",
    "gravity_df2 = copy.deepcopy(gravity_df)"
   ]
  },
  {
   "cell_type": "code",
   "execution_count": 22,
   "metadata": {},
   "outputs": [],
   "source": [
    "# def scale(em):\n",
    "#     return np.exp(em)\n",
    "# #     return em + np.exp(1)\n",
    "# #     return 10+90*(em-np.min(em))/(np.max(em)-np.min(em))"
   ]
  },
  {
   "cell_type": "code",
   "execution_count": 23,
   "metadata": {},
   "outputs": [],
   "source": [
    "# gravity_df2['emit'] = scale(gravity_df2['emit'])\n",
    "# gravity_df2['attract'] = scale(gravity_df2['attract'])\n",
    "# gravity_df2['distance'] = scale(gravity_df2['distance'])\n",
    "# gravity_df2['T'] = scale(gravity_df2['T'])"
   ]
  },
  {
   "cell_type": "code",
   "execution_count": 24,
   "metadata": {},
   "outputs": [],
   "source": [
    "# def scale(em):\n",
    "#     return 10+90*(em-np.min(em))/(np.max(em)-np.min(em))"
   ]
  },
  {
   "cell_type": "code",
   "execution_count": 25,
   "metadata": {},
   "outputs": [],
   "source": [
    "# gravity_df['emit'] = scale(gravity_df['emit'])\n",
    "# gravity_df['attract'] = scale(gravity_df['attract'])\n",
    "# gravity_df['distance'] = scale(gravity_df['distance'])\n",
    "# gravity_df['T'] = scale(gravity_df['T'])"
   ]
  },
  {
   "cell_type": "code",
   "execution_count": 26,
   "metadata": {},
   "outputs": [],
   "source": [
    "# log_grav_df = np.log(gravity_df2)"
   ]
  },
  {
   "cell_type": "code",
   "execution_count": 27,
   "metadata": {},
   "outputs": [],
   "source": [
    "# log_grav_df"
   ]
  },
  {
   "cell_type": "markdown",
   "metadata": {},
   "source": [
    "# Right skewed log(T)"
   ]
  },
  {
   "cell_type": "code",
   "execution_count": 28,
   "metadata": {},
   "outputs": [],
   "source": [
    "\n",
    "# # plt.figure(figsize=(12,12))\n",
    "# # plt.scatter(log_grav_df['attract'], log_grav_df['y'])\n",
    "# plt.hist(log_grav_df['T'])\n",
    "# plt.ylabel('Count')\n",
    "# plt.xlabel('Number of trips')\n",
    "# plt.title('Histogram of y = log(T) ')"
   ]
  },
  {
   "cell_type": "code",
   "execution_count": 29,
   "metadata": {},
   "outputs": [],
   "source": [
    "# np.exp(log_grav_df['T'])"
   ]
  },
  {
   "cell_type": "code",
   "execution_count": 30,
   "metadata": {},
   "outputs": [],
   "source": [
    "# fig = plt.figure(figsize=[8,8])\n",
    "# plt.subplot(3, 2, 1)\n",
    "# plt.scatter(log_grav_df['emit'],(log_grav_df['T']))\n",
    "# plt.xlabel('log(emit)'); plt.ylabel('y')\n",
    "# plt.subplot(3, 2, 2)\n",
    "# plt.scatter(np.log(log_grav_df['emit']),np.log(log_grav_df['T']))\n",
    "# plt.xlabel('log(emit)'); plt.ylabel('log( y )')\n",
    "\n",
    "# plt.subplot(3, 2, 3)\n",
    "# plt.scatter(log_grav_df['attract'],(log_grav_df['T']))\n",
    "# plt.xlabel('log(attract)'); plt.ylabel('y')\n",
    "# plt.subplot(3, 2, 4)\n",
    "# plt.scatter(log_grav_df['attract'],np.log(log_grav_df['T']))\n",
    "# plt.xlabel('log(attract)'); plt.ylabel('log( y )')\n",
    "\n",
    "# plt.subplot(3, 2, 5)\n",
    "# plt.scatter(log_grav_df['distance'],(log_grav_df['T']))\n",
    "# plt.xlabel('log(distance)'); plt.ylabel('y')\n",
    "# plt.subplot(3, 2, 6)\n",
    "# plt.scatter(log_grav_df['distance'],np.log(log_grav_df['T']))\n",
    "# plt.xlabel('log(distance)'); plt.ylabel('log( y )')\n",
    "\n",
    "# fig.subplots_adjust(wspace=0.3, hspace=0.5)\n",
    "# plt.show()"
   ]
  },
  {
   "cell_type": "code",
   "execution_count": 31,
   "metadata": {},
   "outputs": [
    {
     "name": "stderr",
     "output_type": "stream",
     "text": [
      "/Users/gimpuleumoe/opt/anaconda3/lib/python3.7/site-packages/ipykernel_launcher.py:11: DeprecationWarning: Calling Family(..) with a link class as argument is deprecated.\n",
      "Use an instance of a link class instead.\n",
      "  # This is added back by InteractiveShellApp.init_path()\n"
     ]
    },
    {
     "data": {
      "text/html": [
       "<table class=\"simpletable\">\n",
       "<caption>Generalized Linear Model Regression Results</caption>\n",
       "<tr>\n",
       "  <th>Dep. Variable:</th>           <td>T</td>        <th>  No. Observations:  </th>  <td>   504</td> \n",
       "</tr>\n",
       "<tr>\n",
       "  <th>Model:</th>                  <td>GLM</td>       <th>  Df Residuals:      </th>  <td>   500</td> \n",
       "</tr>\n",
       "<tr>\n",
       "  <th>Model Family:</th>        <td>Gaussian</td>     <th>  Df Model:          </th>  <td>     3</td> \n",
       "</tr>\n",
       "<tr>\n",
       "  <th>Link Function:</th>          <td>log</td>       <th>  Scale:             </th> <td>0.011145</td>\n",
       "</tr>\n",
       "<tr>\n",
       "  <th>Method:</th>                <td>IRLS</td>       <th>  Log-Likelihood:    </th> <td>  420.05</td>\n",
       "</tr>\n",
       "<tr>\n",
       "  <th>Date:</th>            <td>Tue, 06 Oct 2020</td> <th>  Deviance:          </th> <td>  5.5724</td>\n",
       "</tr>\n",
       "<tr>\n",
       "  <th>Time:</th>                <td>11:14:30</td>     <th>  Pearson chi2:      </th>  <td>  5.57</td> \n",
       "</tr>\n",
       "<tr>\n",
       "  <th>No. Iterations:</th>         <td>11</td>        <th>                     </th>     <td> </td>   \n",
       "</tr>\n",
       "<tr>\n",
       "  <th>Covariance Type:</th>     <td>nonrobust</td>    <th>                     </th>     <td> </td>   \n",
       "</tr>\n",
       "</table>\n",
       "<table class=\"simpletable\">\n",
       "<tr>\n",
       "      <td></td>        <th>coef</th>     <th>std err</th>      <th>z</th>      <th>P>|z|</th>  <th>[0.025</th>    <th>0.975]</th>  \n",
       "</tr>\n",
       "<tr>\n",
       "  <th>const</th>    <td>   -2.6446</td> <td>    0.125</td> <td>  -21.219</td> <td> 0.000</td> <td>   -2.889</td> <td>   -2.400</td>\n",
       "</tr>\n",
       "<tr>\n",
       "  <th>emit</th>     <td>    0.2990</td> <td>    0.031</td> <td>    9.568</td> <td> 0.000</td> <td>    0.238</td> <td>    0.360</td>\n",
       "</tr>\n",
       "<tr>\n",
       "  <th>attract</th>  <td>    0.2328</td> <td>    0.014</td> <td>   16.627</td> <td> 0.000</td> <td>    0.205</td> <td>    0.260</td>\n",
       "</tr>\n",
       "<tr>\n",
       "  <th>distance</th> <td>   -0.0743</td> <td>    0.007</td> <td>  -10.166</td> <td> 0.000</td> <td>   -0.089</td> <td>   -0.060</td>\n",
       "</tr>\n",
       "</table>"
      ],
      "text/plain": [
       "<class 'statsmodels.iolib.summary.Summary'>\n",
       "\"\"\"\n",
       "                 Generalized Linear Model Regression Results                  \n",
       "==============================================================================\n",
       "Dep. Variable:                      T   No. Observations:                  504\n",
       "Model:                            GLM   Df Residuals:                      500\n",
       "Model Family:                Gaussian   Df Model:                            3\n",
       "Link Function:                    log   Scale:                        0.011145\n",
       "Method:                          IRLS   Log-Likelihood:                 420.05\n",
       "Date:                Tue, 06 Oct 2020   Deviance:                       5.5724\n",
       "Time:                        11:14:30   Pearson chi2:                     5.57\n",
       "No. Iterations:                    11                                         \n",
       "Covariance Type:            nonrobust                                         \n",
       "==============================================================================\n",
       "                 coef    std err          z      P>|z|      [0.025      0.975]\n",
       "------------------------------------------------------------------------------\n",
       "const         -2.6446      0.125    -21.219      0.000      -2.889      -2.400\n",
       "emit           0.2990      0.031      9.568      0.000       0.238       0.360\n",
       "attract        0.2328      0.014     16.627      0.000       0.205       0.260\n",
       "distance      -0.0743      0.007    -10.166      0.000      -0.089      -0.060\n",
       "==============================================================================\n",
       "\"\"\""
      ]
     },
     "execution_count": 31,
     "metadata": {},
     "output_type": "execute_result"
    }
   ],
   "source": [
    "import statsmodels.api as sm\n",
    "df_processed = gravity_df2[gravity_df2['T']>0][['emit','attract','distance','T']]\n",
    "X = (df_processed[['emit','attract','distance']])\n",
    "X = sm.add_constant(X)\n",
    "y = (df_processed['T'])\n",
    "# X = gravity_df2[['emit','attract','distance']]\n",
    "# y = gravity_df2['T']\n",
    "\n",
    "# glm = sm.GLM(y, X, family=sm.families.InverseGaussian(link=sm.families.links.inverse_power))\n",
    "# glm = sm.GLM(y, X, family=sm.families.Gamma())\n",
    "glm = sm.GLM(y, X, family=sm.families.Gaussian(link=sm.families.links.log))\n",
    "# glm = sm.OLS(y, X)\n",
    "# glm = sm.GLM(y, X, family=sm.families.Tweedie(link=sm.families.links.identity, var_power=0.1))\n",
    "result = glm.fit()\n",
    "result.summary()\n",
    "# gamma_model = smf.glm(formula='y ~ emit + attract + distance', data=log_grav_df, family=sm.families.Gaussian(sm.families.links.identity))\n",
    "# gamma_results = gamma_model.fit()\n",
    "# print(gamma_results.summary())"
   ]
  },
  {
   "cell_type": "code",
   "execution_count": 32,
   "metadata": {},
   "outputs": [
    {
     "data": {
      "image/png": "[encoded data removed]",
      "text/plain": [
       "<Figure size 1296x360 with 3 Axes>"
      ]
     },
     "metadata": {
      "needs_background": "light"
     },
     "output_type": "display_data"
    }
   ],
   "source": [
    "pred = result.predict(sm.add_constant(df_processed[['emit','attract','distance']]))\n",
    "\n",
    "fig = plt.figure(figsize=[18,5])\n",
    "plt.subplot(1, 3, 1)\n",
    "X= df_processed['emit']\n",
    "plt.scatter(X,y, alpha=0.5, label = 'Actual traffic')\n",
    "plt.scatter(X,pred, alpha=0.7, label = 'Estimation')\n",
    "plt.xlabel(\"E\")\n",
    "plt.ylabel(\"T\")\n",
    "plt.legend()\n",
    "\n",
    "plt.subplot(1, 3, 2)\n",
    "X= df_processed['attract']\n",
    "plt.scatter(X,y, alpha=0.5, label = 'Actual traffic')\n",
    "plt.scatter(X,pred, alpha=0.7, label = 'Estimation')\n",
    "plt.xlabel(\"A\")\n",
    "plt.ylabel(\"T\")\n",
    "plt.legend()\n",
    "\n",
    "plt.subplot(1, 3, 3)\n",
    "X= df_processed['distance']\n",
    "plt.scatter(X,y, alpha=0.5, label = 'Actual traffic')\n",
    "plt.scatter(X,pred, alpha=0.7, label = 'Estimation')\n",
    "plt.xlabel(\"D\")\n",
    "plt.ylabel(\"T\")\n",
    "plt.legend(loc='upper left')\n",
    "\n",
    "fig.subplots_adjust(wspace=0.3, hspace=0.5)\n",
    "plt.show()"
   ]
  },
  {
   "cell_type": "code",
   "execution_count": 33,
   "metadata": {},
   "outputs": [
    {
     "data": {
      "text/html": [
       "<div>\n",
       "<style scoped>\n",
       "    .dataframe tbody tr th:only-of-type {\n",
       "        vertical-align: middle;\n",
       "    }\n",
       "\n",
       "    .dataframe tbody tr th {\n",
       "        vertical-align: top;\n",
       "    }\n",
       "\n",
       "    .dataframe thead th {\n",
       "        text-align: right;\n",
       "    }\n",
       "</style>\n",
       "<table border=\"1\" class=\"dataframe\">\n",
       "  <thead>\n",
       "    <tr style=\"text-align: right;\">\n",
       "      <th></th>\n",
       "      <th>emit</th>\n",
       "      <th>attract</th>\n",
       "      <th>distance</th>\n",
       "      <th>T</th>\n",
       "      <th>Source</th>\n",
       "      <th>Target</th>\n",
       "    </tr>\n",
       "  </thead>\n",
       "  <tbody>\n",
       "    <tr>\n",
       "      <th>53</th>\n",
       "      <td>2.409091</td>\n",
       "      <td>3.681818</td>\n",
       "      <td>6.917628</td>\n",
       "      <td>0.636364</td>\n",
       "      <td>1.0</td>\n",
       "      <td>3.0</td>\n",
       "    </tr>\n",
       "    <tr>\n",
       "      <th>103</th>\n",
       "      <td>2.318182</td>\n",
       "      <td>3.681818</td>\n",
       "      <td>3.030252</td>\n",
       "      <td>0.227273</td>\n",
       "      <td>2.0</td>\n",
       "      <td>3.0</td>\n",
       "    </tr>\n",
       "    <tr>\n",
       "      <th>203</th>\n",
       "      <td>3.590909</td>\n",
       "      <td>3.681818</td>\n",
       "      <td>14.333819</td>\n",
       "      <td>0.045455</td>\n",
       "      <td>4.0</td>\n",
       "      <td>3.0</td>\n",
       "    </tr>\n",
       "    <tr>\n",
       "      <th>253</th>\n",
       "      <td>2.363636</td>\n",
       "      <td>3.681818</td>\n",
       "      <td>12.324233</td>\n",
       "      <td>0.045455</td>\n",
       "      <td>5.0</td>\n",
       "      <td>3.0</td>\n",
       "    </tr>\n",
       "    <tr>\n",
       "      <th>403</th>\n",
       "      <td>2.909091</td>\n",
       "      <td>3.681818</td>\n",
       "      <td>7.025600</td>\n",
       "      <td>0.363636</td>\n",
       "      <td>8.0</td>\n",
       "      <td>3.0</td>\n",
       "    </tr>\n",
       "    <tr>\n",
       "      <th>453</th>\n",
       "      <td>2.045455</td>\n",
       "      <td>3.681818</td>\n",
       "      <td>3.508711</td>\n",
       "      <td>0.318182</td>\n",
       "      <td>9.0</td>\n",
       "      <td>3.0</td>\n",
       "    </tr>\n",
       "    <tr>\n",
       "      <th>503</th>\n",
       "      <td>1.954545</td>\n",
       "      <td>3.681818</td>\n",
       "      <td>16.042869</td>\n",
       "      <td>0.090909</td>\n",
       "      <td>10.0</td>\n",
       "      <td>3.0</td>\n",
       "    </tr>\n",
       "    <tr>\n",
       "      <th>653</th>\n",
       "      <td>2.409091</td>\n",
       "      <td>3.681818</td>\n",
       "      <td>4.355956</td>\n",
       "      <td>0.227273</td>\n",
       "      <td>13.0</td>\n",
       "      <td>3.0</td>\n",
       "    </tr>\n",
       "    <tr>\n",
       "      <th>703</th>\n",
       "      <td>3.727273</td>\n",
       "      <td>3.681818</td>\n",
       "      <td>5.966121</td>\n",
       "      <td>0.545455</td>\n",
       "      <td>14.0</td>\n",
       "      <td>3.0</td>\n",
       "    </tr>\n",
       "    <tr>\n",
       "      <th>803</th>\n",
       "      <td>2.045455</td>\n",
       "      <td>3.681818</td>\n",
       "      <td>10.263704</td>\n",
       "      <td>0.045455</td>\n",
       "      <td>16.0</td>\n",
       "      <td>3.0</td>\n",
       "    </tr>\n",
       "    <tr>\n",
       "      <th>853</th>\n",
       "      <td>1.954545</td>\n",
       "      <td>3.681818</td>\n",
       "      <td>20.120937</td>\n",
       "      <td>0.045455</td>\n",
       "      <td>17.0</td>\n",
       "      <td>3.0</td>\n",
       "    </tr>\n",
       "    <tr>\n",
       "      <th>953</th>\n",
       "      <td>1.090909</td>\n",
       "      <td>3.681818</td>\n",
       "      <td>23.062916</td>\n",
       "      <td>0.090909</td>\n",
       "      <td>19.0</td>\n",
       "      <td>3.0</td>\n",
       "    </tr>\n",
       "    <tr>\n",
       "      <th>1003</th>\n",
       "      <td>2.136364</td>\n",
       "      <td>3.681818</td>\n",
       "      <td>7.938343</td>\n",
       "      <td>0.227273</td>\n",
       "      <td>20.0</td>\n",
       "      <td>3.0</td>\n",
       "    </tr>\n",
       "    <tr>\n",
       "      <th>1153</th>\n",
       "      <td>0.863636</td>\n",
       "      <td>3.681818</td>\n",
       "      <td>18.719201</td>\n",
       "      <td>0.045455</td>\n",
       "      <td>23.0</td>\n",
       "      <td>3.0</td>\n",
       "    </tr>\n",
       "    <tr>\n",
       "      <th>1253</th>\n",
       "      <td>0.727273</td>\n",
       "      <td>3.681818</td>\n",
       "      <td>17.865597</td>\n",
       "      <td>0.136364</td>\n",
       "      <td>25.0</td>\n",
       "      <td>3.0</td>\n",
       "    </tr>\n",
       "    <tr>\n",
       "      <th>1303</th>\n",
       "      <td>0.818182</td>\n",
       "      <td>3.681818</td>\n",
       "      <td>23.840238</td>\n",
       "      <td>0.045455</td>\n",
       "      <td>26.0</td>\n",
       "      <td>3.0</td>\n",
       "    </tr>\n",
       "    <tr>\n",
       "      <th>1403</th>\n",
       "      <td>1.318182</td>\n",
       "      <td>3.681818</td>\n",
       "      <td>21.236709</td>\n",
       "      <td>0.045455</td>\n",
       "      <td>28.0</td>\n",
       "      <td>3.0</td>\n",
       "    </tr>\n",
       "    <tr>\n",
       "      <th>1653</th>\n",
       "      <td>0.454545</td>\n",
       "      <td>3.681818</td>\n",
       "      <td>2.781468</td>\n",
       "      <td>0.272727</td>\n",
       "      <td>33.0</td>\n",
       "      <td>3.0</td>\n",
       "    </tr>\n",
       "    <tr>\n",
       "      <th>1703</th>\n",
       "      <td>0.636364</td>\n",
       "      <td>3.681818</td>\n",
       "      <td>20.182410</td>\n",
       "      <td>0.090909</td>\n",
       "      <td>34.0</td>\n",
       "      <td>3.0</td>\n",
       "    </tr>\n",
       "    <tr>\n",
       "      <th>2103</th>\n",
       "      <td>0.272727</td>\n",
       "      <td>3.681818</td>\n",
       "      <td>14.849082</td>\n",
       "      <td>0.045455</td>\n",
       "      <td>42.0</td>\n",
       "      <td>3.0</td>\n",
       "    </tr>\n",
       "    <tr>\n",
       "      <th>2353</th>\n",
       "      <td>0.454545</td>\n",
       "      <td>3.681818</td>\n",
       "      <td>10.787137</td>\n",
       "      <td>0.090909</td>\n",
       "      <td>47.0</td>\n",
       "      <td>3.0</td>\n",
       "    </tr>\n",
       "  </tbody>\n",
       "</table>\n",
       "</div>"
      ],
      "text/plain": [
       "          emit   attract   distance         T  Source  Target\n",
       "53    2.409091  3.681818   6.917628  0.636364     1.0     3.0\n",
       "103   2.318182  3.681818   3.030252  0.227273     2.0     3.0\n",
       "203   3.590909  3.681818  14.333819  0.045455     4.0     3.0\n",
       "253   2.363636  3.681818  12.324233  0.045455     5.0     3.0\n",
       "403   2.909091  3.681818   7.025600  0.363636     8.0     3.0\n",
       "453   2.045455  3.681818   3.508711  0.318182     9.0     3.0\n",
       "503   1.954545  3.681818  16.042869  0.090909    10.0     3.0\n",
       "653   2.409091  3.681818   4.355956  0.227273    13.0     3.0\n",
       "703   3.727273  3.681818   5.966121  0.545455    14.0     3.0\n",
       "803   2.045455  3.681818  10.263704  0.045455    16.0     3.0\n",
       "853   1.954545  3.681818  20.120937  0.045455    17.0     3.0\n",
       "953   1.090909  3.681818  23.062916  0.090909    19.0     3.0\n",
       "1003  2.136364  3.681818   7.938343  0.227273    20.0     3.0\n",
       "1153  0.863636  3.681818  18.719201  0.045455    23.0     3.0\n",
       "1253  0.727273  3.681818  17.865597  0.136364    25.0     3.0\n",
       "1303  0.818182  3.681818  23.840238  0.045455    26.0     3.0\n",
       "1403  1.318182  3.681818  21.236709  0.045455    28.0     3.0\n",
       "1653  0.454545  3.681818   2.781468  0.272727    33.0     3.0\n",
       "1703  0.636364  3.681818  20.182410  0.090909    34.0     3.0\n",
       "2103  0.272727  3.681818  14.849082  0.045455    42.0     3.0\n",
       "2353  0.454545  3.681818  10.787137  0.090909    47.0     3.0"
      ]
     },
     "execution_count": 33,
     "metadata": {},
     "output_type": "execute_result"
    }
   ],
   "source": [
    "gravity_df[gravity_df['Target']==3]"
   ]
  },
  {
   "cell_type": "code",
   "execution_count": 34,
   "metadata": {},
   "outputs": [
    {
     "name": "stdout",
     "output_type": "stream",
     "text": [
      "Gangbuk-gu Ansan-si\n"
     ]
    }
   ],
   "source": [
    "print(label_dict[17],label_dict[21])"
   ]
  },
  {
   "cell_type": "code",
   "execution_count": 35,
   "metadata": {},
   "outputs": [],
   "source": [
    "week_slices = pd.date_range('2020-01-19', periods=23, freq='W')\n",
    "xaxis = week_slices[1:]"
   ]
  },
  {
   "cell_type": "code",
   "execution_count": 36,
   "metadata": {},
   "outputs": [],
   "source": [
    "def dist(source,target):\n",
    "    slat = (ccode[ccode['city']==source].iloc[0,:]['latitude'])\n",
    "    slong = (ccode[ccode['city']==source].iloc[0,:]['longitude'])\n",
    "    tlat = (ccode[ccode['city']==target].iloc[0,:]['latitude'])\n",
    "    tlong = (ccode[ccode['city']==target].iloc[0,:]['longitude'])\n",
    "    coords_1 = (slat, slong)\n",
    "    coords_2 = (tlat, tlong)\n",
    "    d = distance.distance(coords_1, coords_2).km\n",
    "    d = np.float(d)\n",
    "    return d"
   ]
  },
  {
   "cell_type": "code",
   "execution_count": 255,
   "metadata": {},
   "outputs": [],
   "source": [
    "cnt1=4\n",
    "cnt2=3"
   ]
  },
  {
   "cell_type": "code",
   "execution_count": 256,
   "metadata": {},
   "outputs": [],
   "source": [
    "# pred_RU_to_US = result.predict(np.log([RU_emit, US_attract, d]))\n",
    "# pred_US_to_RU = result.predict(np.log(np.array([US_emit, RU_attract, d])+1e-30))\n",
    "pred_US_to_RU_list = []\n",
    "pred_RU_to_US_list = []\n",
    "for t in range(22):\n",
    "    RU_emit = np.sum(travel_tensors[-22+t,:], 1)[cnt1]\n",
    "    US_emit = np.sum(travel_tensors[-22+t,:], 1)[cnt2]\n",
    "    RU_attract = np.sum(travel_tensors[-22+t,:], 0)[cnt1]\n",
    "    US_attract = np.sum(travel_tensors[-22+t,:], 0)[cnt2]\n",
    "    d = dist(label_dict[cnt1],label_dict[cnt2])\n",
    "    pred_US_to_RU = result.predict(np.array([1,US_emit, RU_attract, d]))\n",
    "# result.predict(np.log(np.array([US_emit, RU_attract, d])+1e-30))\n",
    "    pred_US_to_RU_list.append(pred_US_to_RU)\n",
    "    pred_RU_to_US = result.predict(np.array([1,RU_emit, US_attract, d]))\n",
    "    pred_RU_to_US_list.append(pred_RU_to_US)\n",
    "#     print(RU_emit, US_attract, pred_RU_to_US)"
   ]
  },
  {
   "cell_type": "code",
   "execution_count": 257,
   "metadata": {
    "scrolled": false
   },
   "outputs": [
    {
     "data": {
      "image/png": "[encoded data removed]",
      "text/plain": [
       "<Figure size 864x504 with 2 Axes>"
      ]
     },
     "metadata": {
      "needs_background": "light"
     },
     "output_type": "display_data"
    }
   ],
   "source": [
    "# y = travel_tensors[-24:,cnt2,cnt1] - np.exp(pred_US_to_RU_list).T\n",
    "# y = y[0]\n",
    "fig = plt.figure(figsize=[12,7])\n",
    "plt.subplot(2, 1, 1)\n",
    "abnormal_US_to_RU = np.abs(travel_tensors[-22:,cnt2,cnt1] - np.concatenate(pred_US_to_RU_list))\n",
    "abnormal_US_to_RU = np.log(abnormal_US_to_RU+1)\n",
    "plt.scatter(xaxis[-22:], abnormal_US_to_RU, color='red', label='Abnormality')\n",
    "# plt.plot(xaxis[-22:],pred_US_to_RU_list, color='green', label='Estimation by Gravity Model')\n",
    "# plt.axvline(xaxis[time], linestyle='--', label='Russia Worldcup')\n",
    "plt.title('Traffic abnormality from '+label_dict[cnt1]+' to '+ label_dict[cnt2])\n",
    "plt.legend()\n",
    "\n",
    "plt.subplot(2, 1, 2)\n",
    "abnormal_RU_to_US = np.abs(travel_tensors[-22:,cnt1,cnt2]- np.concatenate(pred_RU_to_US_list))\n",
    "abnormal_RU_to_US = np.log(abnormal_RU_to_US+1)\n",
    "plt.scatter(xaxis[-22:], abnormal_RU_to_US, color='red', label='Abnormality')\n",
    "# plt.plot(xaxis[-22:],pred_RU_to_US_list, color='green', label='Estimation by Gravity Model')\n",
    "# plt.axvline(xaxis[time], linestyle='--', label='Russia Worldcup')\n",
    "plt.title('Traffic anomrality from '+label_dict[cnt2]+' to '+ label_dict[cnt1])\n",
    "plt.legend()\n",
    "\n",
    "fig.subplots_adjust(wspace=0.3, hspace=0.5)\n",
    "plt.show()"
   ]
  },
  {
   "cell_type": "code",
   "execution_count": 217,
   "metadata": {},
   "outputs": [
    {
     "ename": "NameError",
     "evalue": "name 'time' is not defined",
     "output_type": "error",
     "traceback": [
      "\u001b[0;31m---------------------------------------------------------------------------\u001b[0m",
      "\u001b[0;31mNameError\u001b[0m                                 Traceback (most recent call last)",
      "\u001b[0;32m<ipython-input-217-29ad65a093bf>\u001b[0m in \u001b[0;36m<module>\u001b[0;34m\u001b[0m\n\u001b[1;32m      2\u001b[0m \u001b[0;31m# cnt2=0\u001b[0m\u001b[0;34m\u001b[0m\u001b[0;34m\u001b[0m\u001b[0;34m\u001b[0m\u001b[0m\n\u001b[1;32m      3\u001b[0m \u001b[0;31m# time = -18\u001b[0m\u001b[0;34m\u001b[0m\u001b[0;34m\u001b[0m\u001b[0;34m\u001b[0m\u001b[0m\n\u001b[0;32m----> 4\u001b[0;31m \u001b[0mRU_emit\u001b[0m \u001b[0;34m=\u001b[0m \u001b[0mnp\u001b[0m\u001b[0;34m.\u001b[0m\u001b[0msum\u001b[0m\u001b[0;34m(\u001b[0m\u001b[0mtravel_tensors\u001b[0m\u001b[0;34m[\u001b[0m\u001b[0mtime\u001b[0m\u001b[0;34m,\u001b[0m\u001b[0;34m:\u001b[0m\u001b[0;34m]\u001b[0m\u001b[0;34m,\u001b[0m \u001b[0;36m1\u001b[0m\u001b[0;34m)\u001b[0m\u001b[0;34m[\u001b[0m\u001b[0mcnt1\u001b[0m\u001b[0;34m]\u001b[0m\u001b[0;34m\u001b[0m\u001b[0;34m\u001b[0m\u001b[0m\n\u001b[0m\u001b[1;32m      5\u001b[0m \u001b[0mUS_emit\u001b[0m \u001b[0;34m=\u001b[0m \u001b[0mnp\u001b[0m\u001b[0;34m.\u001b[0m\u001b[0msum\u001b[0m\u001b[0;34m(\u001b[0m\u001b[0mtravel_tensors\u001b[0m\u001b[0;34m[\u001b[0m\u001b[0mtime\u001b[0m\u001b[0;34m,\u001b[0m\u001b[0;34m:\u001b[0m\u001b[0;34m]\u001b[0m\u001b[0;34m,\u001b[0m \u001b[0;36m1\u001b[0m\u001b[0;34m)\u001b[0m\u001b[0;34m[\u001b[0m\u001b[0mcnt2\u001b[0m\u001b[0;34m]\u001b[0m\u001b[0;34m\u001b[0m\u001b[0;34m\u001b[0m\u001b[0m\n\u001b[1;32m      6\u001b[0m \u001b[0mRU_attract\u001b[0m \u001b[0;34m=\u001b[0m \u001b[0mnp\u001b[0m\u001b[0;34m.\u001b[0m\u001b[0msum\u001b[0m\u001b[0;34m(\u001b[0m\u001b[0mtravel_tensors\u001b[0m\u001b[0;34m[\u001b[0m\u001b[0mtime\u001b[0m\u001b[0;34m,\u001b[0m\u001b[0;34m:\u001b[0m\u001b[0;34m]\u001b[0m\u001b[0;34m,\u001b[0m \u001b[0;36m0\u001b[0m\u001b[0;34m)\u001b[0m\u001b[0;34m[\u001b[0m\u001b[0mcnt1\u001b[0m\u001b[0;34m]\u001b[0m\u001b[0;34m\u001b[0m\u001b[0;34m\u001b[0m\u001b[0m\n",
      "\u001b[0;31mNameError\u001b[0m: name 'time' is not defined"
     ]
    }
   ],
   "source": [
    "# cnt1=24\n",
    "# cnt2=0\n",
    "# time = -18\n",
    "RU_emit = np.sum(travel_tensors[time,:], 1)[cnt1]\n",
    "US_emit = np.sum(travel_tensors[time,:], 1)[cnt2]\n",
    "RU_attract = np.sum(travel_tensors[time,:], 0)[cnt1]\n",
    "US_attract = np.sum(travel_tensors[time,:], 0)[cnt2]\n",
    "d = dis_df[(dis_df['iso_o']==label3[cnt2])&(dis_df['iso_d']==label3[cnt1])]['dist']\n",
    "d = np.float(d)"
   ]
  },
  {
   "cell_type": "code",
   "execution_count": null,
   "metadata": {},
   "outputs": [],
   "source": [
    "logT_RUtoUS = np.log(travel_tensors[time,cnt1,cnt2])\n",
    "logT_UStoRU = np.log(travel_tensors[time,cnt2,cnt1])"
   ]
  },
  {
   "cell_type": "code",
   "execution_count": null,
   "metadata": {},
   "outputs": [],
   "source": [
    "pred = result.predict(log_grav_df_processed[['emit','attract','distance']])\n",
    "pred_RU_to_US = result.predict(np.log([RU_emit, US_attract, d]))\n",
    "pred_US_to_RU = result.predict(np.log([US_emit, RU_attract, d]))\n",
    "\n",
    "fig = plt.figure(figsize=[18,5])\n",
    "plt.subplot(1, 3, 1)\n",
    "X= log_grav_df_processed['emit']\n",
    "plt.scatter(X,log_grav_df_processed['T'], alpha=0.1)\n",
    "plt.scatter(X,pred, alpha=0.1)\n",
    "plt.scatter(np.log(US_emit), logT_UStoRU, color='red', label = 'History')\n",
    "plt.scatter(np.log(US_emit), pred_US_to_RU, label = 'Estimation')\n",
    "plt.xlabel(\"log(E)\")\n",
    "plt.ylabel(\"log(T)\")\n",
    "plt.legend()\n",
    "\n",
    "plt.subplot(1, 3, 2)\n",
    "X= log_grav_df_processed['attract']\n",
    "plt.scatter(X,log_grav_df_processed['T'], alpha=0.1)\n",
    "plt.scatter(X,pred, alpha=0.1)\n",
    "plt.scatter(np.log(RU_attract), logT_UStoRU, color='red', label = 'History')\n",
    "plt.scatter(np.log(RU_attract), pred_US_to_RU, label = 'Estimation')\n",
    "plt.xlabel(\"log(A)\")\n",
    "plt.ylabel(\"log(T)\")\n",
    "plt.legend()\n",
    "\n",
    "plt.subplot(1, 3, 3)\n",
    "X= log_grav_df_processed['distance']\n",
    "plt.scatter(X,log_grav_df_processed['T'], alpha=0.1)\n",
    "plt.scatter(X,pred, alpha=0.1)\n",
    "plt.scatter(np.log(d), logT_UStoRU, color='red', label = 'History')\n",
    "plt.scatter(np.log(d), pred_US_to_RU, label = 'Estimation')\n",
    "\n",
    "plt.xlabel(\"log(D)\")\n",
    "plt.ylabel(\"log(T)\")\n",
    "plt.legend()\n",
    "\n",
    "fig.subplots_adjust(wspace=0.3, hspace=0.5)\n",
    "plt.show()"
   ]
  },
  {
   "cell_type": "code",
   "execution_count": null,
   "metadata": {},
   "outputs": [],
   "source": [
    "plt.hist(log_grav_df_processed['T'], bins=30)"
   ]
  },
  {
   "cell_type": "code",
   "execution_count": null,
   "metadata": {},
   "outputs": [],
   "source": [
    "# 100 0.770\n",
    "# 80, 0.738\n",
    "# 70, 0.727\n",
    "# cutline = 60, R2 = 0.701\n",
    "# cutline = 50, R2 = 0.66\n",
    "# cutline = 40, R2 = 0.62\n"
   ]
  },
  {
   "cell_type": "code",
   "execution_count": null,
   "metadata": {},
   "outputs": [],
   "source": [
    "# Mean >= 1 filter\n",
    "# 100, 0.656\n",
    "# 70, 0.660"
   ]
  }
 ],
 "metadata": {
  "kernelspec": {
   "display_name": "Python 3",
   "language": "python",
   "name": "python3"
  },
  "language_info": {
   "codemirror_mode": {
    "name": "ipython",
    "version": 3
   },
   "file_extension": ".py",
   "mimetype": "text/x-python",
   "name": "python",
   "nbconvert_exporter": "python",
   "pygments_lexer": "ipython3",
   "version": "3.7.6"
  }
 },
 "nbformat": 4,
 "nbformat_minor": 4
}

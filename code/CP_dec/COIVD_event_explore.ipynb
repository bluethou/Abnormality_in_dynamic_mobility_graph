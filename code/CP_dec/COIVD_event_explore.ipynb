{
 "cells": [
  {
   "cell_type": "code",
   "execution_count": 92,
   "metadata": {},
   "outputs": [
    {
     "data": {
      "text/plain": [
       "'/Users/gimpuleumoe/Documents/TUM2020S/2020-pooreumoe-msc-thesis/code/CP_dec'"
      ]
     },
     "execution_count": 92,
     "metadata": {},
     "output_type": "execute_result"
    }
   ],
   "source": [
    "import os\n",
    "import pickle\n",
    "os.getcwd()"
   ]
  },
  {
   "cell_type": "code",
   "execution_count": 93,
   "metadata": {},
   "outputs": [],
   "source": [
    "import numpy as np\n",
    "import matplotlib.pyplot as plt\n",
    "import seaborn as sns\n",
    "\n",
    "from sklearn.decomposition import FactorAnalysis, PCA\n",
    "import tensortools as tt\n",
    "from tensortools.operations import unfold as tt_unfold, khatri_rao\n",
    "import tensorly as tl\n",
    "from tensorly import unfold as tl_unfold\n",
    "from tensorly.decomposition import parafac\n",
    "import pickle\n",
    "# import some useful functions (they are available in utils.py)\n",
    "# from utils import *"
   ]
  },
  {
   "cell_type": "code",
   "execution_count": 94,
   "metadata": {},
   "outputs": [],
   "source": [
    "from tensorly.decomposition import candecomp_parafac"
   ]
  },
  {
   "cell_type": "code",
   "execution_count": 95,
   "metadata": {},
   "outputs": [],
   "source": [
    "# Load Tensor\n",
    "with open('../pkl/COVID_sorted_W_tensors_ver2.pkl', 'rb') as f:\n",
    "    travel_data = pickle.load(f)"
   ]
  },
  {
   "cell_type": "code",
   "execution_count": 96,
   "metadata": {},
   "outputs": [
    {
     "data": {
      "text/plain": [
       "(22, 54, 108)"
      ]
     },
     "execution_count": 96,
     "metadata": {},
     "output_type": "execute_result"
    }
   ],
   "source": [
    "travel_data.shape"
   ]
  },
  {
   "cell_type": "code",
   "execution_count": 97,
   "metadata": {},
   "outputs": [],
   "source": [
    "# Create serial tensors by slicing the time interval.\n",
    "W = 1 # window size\n",
    "serial_tensors = []\n",
    "for i in range(len(travel_data)-W+1):\n",
    "    serial_tensors.append(travel_data[i:i+1])\n",
    "serial_tensors = np.array(serial_tensors)"
   ]
  },
  {
   "cell_type": "code",
   "execution_count": 98,
   "metadata": {},
   "outputs": [
    {
     "data": {
      "text/plain": [
       "(22, 1, 54, 108)"
      ]
     },
     "execution_count": 98,
     "metadata": {},
     "output_type": "execute_result"
    }
   ],
   "source": [
    "serial_tensors.shape"
   ]
  },
  {
   "cell_type": "code",
   "execution_count": 126,
   "metadata": {
    "scrolled": false
   },
   "outputs": [
    {
     "name": "stdout",
     "output_type": "stream",
     "text": [
      "interation: 0 | Loss (A): 0.0007875711930133524 | Loss (C): 0.0006903611880668742\n",
      "interation: 2 | Loss (A): 0.004449069147528426 | Loss (C): 0.004582536328808869\n",
      "interation: 4 | Loss (A): 0.0308121524202868 | Loss (C): 0.03163031034409886\n",
      "interation: 6 | Loss (A): 0.13319717625805974 | Loss (C): 0.14202221322956188\n",
      "interation: 8 | Loss (A): 0.09225744897504687 | Loss (C): 0.09551520235941287\n",
      "interation: 10 | Loss (A): 0.08386321468162057 | Loss (C): 0.08460542409378526\n",
      "interation: 12 | Loss (A): 0.004824781168830986 | Loss (C): 0.004766589904818211\n",
      "interation: 14 | Loss (A): 0.0047904173615487804 | Loss (C): 0.004775660508150047\n",
      "interation: 16 | Loss (A): 0.03967119642558512 | Loss (C): 0.04072877728829198\n",
      "interation: 18 | Loss (A): 0.15207353149365302 | Loss (C): 0.15366538906690824\n",
      "interation: 20 | Loss (A): 0.00033664411179481677 | Loss (C): 2.1926431336680402e-10\n"
     ]
    }
   ],
   "source": [
    "rank = 15\n",
    "A = np.random.random((serial_tensors[0].shape[1], rank)) #node\n",
    "B = np.random.random((serial_tensors[0].shape[2], rank)) #feature\n",
    "C = np.random.random((serial_tensors[0].shape[0], rank)) #time\n",
    "# init_ABC = candecomp_parafac.initialize_factors(travel_data, rank=rank)\n",
    "# A = init_ABC[1]\n",
    "# B = init_ABC[2]\n",
    "# C = np.array([init_ABC[0][0]])\n",
    "\n",
    "A_array = []\n",
    "C_array = []\n",
    "Ct_B =0\n",
    "B_At =0\n",
    "alpha = 0.1\n",
    "beta = 0.1\n",
    "T_interval = len(serial_tensors)\n",
    "\n",
    "for t in range(T_interval):\n",
    "    Xt = serial_tensors[t]\n",
    "    \n",
    "  # optimiza A\n",
    "    Ct_B = khatri_rao([C, B])\n",
    "    Xt_mode1_transpose = tl.unfold(Xt, mode=1).T\n",
    "    X = np.concatenate((Xt_mode1_transpose, np.sqrt(alpha)*A.T), axis=0)\n",
    "    I = np.identity(A.shape[1])\n",
    "    F = np.concatenate((Ct_B, np.sqrt(alpha)*I), axis=0)\n",
    "    A = np.linalg.lstsq(F,X, rcond=None)[0].T\n",
    "    A_array.append(A)\n",
    "\n",
    "    # optimize C\n",
    "    B_At = khatri_rao([B, A])\n",
    "    Xt_mode3_transpose = tl.unfold(Xt, mode=0).T\n",
    "    X = np.concatenate((Xt_mode3_transpose, np.sqrt(beta)*C.T), axis=0)\n",
    "    I = np.identity(C.shape[1])\n",
    "    F = np.concatenate((B_At, np.sqrt(beta)*I), axis=0)\n",
    "    C = np.linalg.lstsq(F,X, rcond=None)[0].T\n",
    "    C_array.append(C)\n",
    "\n",
    "    if t % int(T_interval * .1) == 0:\n",
    "        res_a = np.square(Ct_B.dot(A.T) - Xt_mode1_transpose)\n",
    "        res_c = np.square(B_At.dot(C.T) - Xt_mode3_transpose)\n",
    "        print(\"interation:\", t, \"| Loss (A):\", res_a.mean(), \"| Loss (C):\", res_c.mean())"
   ]
  },
  {
   "cell_type": "code",
   "execution_count": 127,
   "metadata": {},
   "outputs": [
    {
     "data": {
      "text/plain": [
       "(22, 1, 15)"
      ]
     },
     "execution_count": 127,
     "metadata": {},
     "output_type": "execute_result"
    }
   ],
   "source": [
    "np.array(C_array).shape"
   ]
  },
  {
   "cell_type": "code",
   "execution_count": 128,
   "metadata": {},
   "outputs": [],
   "source": [
    "# optimize B\n",
    "# X = np.concatenate(, axis=0)\n",
    "X_concat = tl.unfold(serial_tensors[0], mode=2).T\n",
    "for x in range(len(serial_tensors)):\n",
    "    if x>0:\n",
    "        XtT_unfold = tl.unfold(serial_tensors[x], mode=2).T\n",
    "        X_concat = np.concatenate((X_concat, XtT_unfold))\n",
    "\n",
    "F_concat = khatri_rao([C_array[0], A_array[0]])\n",
    "for i in range(len(C_array)):\n",
    "    if i >0:\n",
    "        F_concat = np.concatenate((F_concat, khatri_rao([C_array[i], A_array[i]])))\n",
    "        \n",
    "B = np.linalg.lstsq(F_concat,X_concat, rcond=None)[0].T"
   ]
  },
  {
   "cell_type": "code",
   "execution_count": 129,
   "metadata": {},
   "outputs": [
    {
     "name": "stdout",
     "output_type": "stream",
     "text": [
      "0.04086648031277034 0.04086648376507932\n",
      "9.172967899220193e-15 0.04086648031277034 9.172967899220193e-15\n"
     ]
    }
   ],
   "source": [
    "# Error comparision \n",
    "\n",
    "res_b_array=[]\n",
    "res_rand_b_array=[]\n",
    "for i in range(len(serial_tensors)):\n",
    "    Xt = serial_tensors[i]\n",
    "    Xt_mode2_transpose = tl.unfold(Xt, mode=2).T\n",
    "    res_b = np.square(khatri_rao([A,C]).dot(B.T) - Xt_mode2_transpose)\n",
    "    res_b_array.append(res_b.mean())\n",
    "    rB = np.random.random((serial_tensors[0].shape[2], rank))\n",
    "    rand_res_b = np.square(khatri_rao([A,C]).dot(rB.T) - Xt_mode2_transpose)\n",
    "    res_rand_b_array.append(rand_res_b.mean())\n",
    "#     print(res_b.mean(), rand_res_b.mean())\n",
    "\n",
    "res_a = np.square(khatri_rao([C, B]).dot(A.T) - Xt_mode1_transpose)\n",
    "\n",
    "res_c = np.square(khatri_rao([B, A]).dot(C.T) - Xt_mode3_transpose)\n",
    "print(np.mean(res_b_array[10:]), np.mean(res_rand_b_array[10:]))\n",
    "print(res_a.mean(), np.mean(res_b_array[10:]), res_c.mean())"
   ]
  },
  {
   "cell_type": "code",
   "execution_count": 130,
   "metadata": {},
   "outputs": [
    {
     "data": {
      "text/plain": [
       "(22, 54, 15)"
      ]
     },
     "execution_count": 130,
     "metadata": {},
     "output_type": "execute_result"
    }
   ],
   "source": [
    "np.array(A_array).shape"
   ]
  },
  {
   "cell_type": "code",
   "execution_count": 131,
   "metadata": {},
   "outputs": [],
   "source": [
    "def save_object(obj, filename):\n",
    "    with open(filename, 'wb') as output:  # Overwrites any existing file.\n",
    "        pickle.dump(obj, output, pickle.HIGHEST_PROTOCOL)\n",
    "# save_object(home_adj_list, '../pkl/[weekly]home_adj_from20180107_2.pkl')"
   ]
  },
  {
   "cell_type": "code",
   "execution_count": 132,
   "metadata": {},
   "outputs": [],
   "source": [
    "# save_object(A_array, '../pkl/COVID_Aopt.pkl')\n",
    "# save_object(C_array, '../pkl/COVID_Copt.pkl')\n",
    "# save_object(B, '../pkl/COVID_Bopt.pkl')"
   ]
  },
  {
   "cell_type": "code",
   "execution_count": 133,
   "metadata": {},
   "outputs": [],
   "source": [
    "import numpy as np\n",
    "import matplotlib.pyplot as plt\n",
    "from sklearn.neighbors import LocalOutlierFactor\n",
    "import pandas as pd"
   ]
  },
  {
   "cell_type": "code",
   "execution_count": 134,
   "metadata": {},
   "outputs": [],
   "source": [
    "# with open('../pkl/COVID_Aopt.pkl', 'rb') as f:\n",
    "#     A_array = pickle.load(f)\n",
    "    \n",
    "# with open('../pkl/COVID_Bopt.pkl', 'rb') as f:\n",
    "#     B = pickle.load(f)\n",
    "    \n",
    "# with open('../pkl/COVID_Copt.pkl', 'rb') as f:\n",
    "#     C_array = pickle.load(f)"
   ]
  },
  {
   "cell_type": "code",
   "execution_count": 135,
   "metadata": {},
   "outputs": [
    {
     "name": "stdout",
     "output_type": "stream",
     "text": [
      "(108, 15)\n"
     ]
    },
    {
     "data": {
      "text/plain": [
       "(22, 1, 15)"
      ]
     },
     "execution_count": 135,
     "metadata": {},
     "output_type": "execute_result"
    }
   ],
   "source": [
    "Aopt_array = A_array\n",
    "Copt_array = C_array\n",
    "Bstar = B\n",
    "np.array(Aopt_array).shape # time x nodes # rank (21 54 19)\n",
    "print(Bstar.shape) # Fature x rank\n",
    "np.array(Copt_array).shape # time x 1 x rank"
   ]
  },
  {
   "cell_type": "code",
   "execution_count": 136,
   "metadata": {},
   "outputs": [],
   "source": [
    "week_slices = pd.date_range('2020-01-19', periods=23, freq='W')"
   ]
  },
  {
   "cell_type": "code",
   "execution_count": 137,
   "metadata": {},
   "outputs": [],
   "source": [
    "xaxis = week_slices[1:]"
   ]
  },
  {
   "cell_type": "code",
   "execution_count": 138,
   "metadata": {},
   "outputs": [],
   "source": [
    "with open('../pkl/new_COVID_order.pkl', 'rb') as f:\n",
    "    new_order = pickle.load(f) "
   ]
  },
  {
   "cell_type": "code",
   "execution_count": 139,
   "metadata": {},
   "outputs": [],
   "source": [
    "with open('../pkl/COVID_label_dict.pkl', 'rb') as f:\n",
    "    label_dict = pickle.load(f) "
   ]
  },
  {
   "cell_type": "code",
   "execution_count": 140,
   "metadata": {},
   "outputs": [],
   "source": [
    "countries = label_dict"
   ]
  },
  {
   "cell_type": "code",
   "execution_count": 141,
   "metadata": {
    "scrolled": true
   },
   "outputs": [
    {
     "data": {
      "text/plain": [
       "{0: 'Jungnang-gu',\n",
       " 1: 'Dongjak-gu',\n",
       " 2: 'Yangcheon-gu',\n",
       " 3: 'Guro-gu',\n",
       " 4: 'Gangnam-gu',\n",
       " 5: 'Jung-gu',\n",
       " 6: 'Jongno-gu',\n",
       " 7: 'Eunpyeong-gu',\n",
       " 8: 'Gangseo-gu',\n",
       " 9: 'Yeongdeungpo-gu',\n",
       " 10: 'Dongdaemun-gu',\n",
       " 11: 'Songpa-gu',\n",
       " 12: 'Seongdong-gu',\n",
       " 13: 'Geumcheon-gu',\n",
       " 14: 'Gwanak-gu',\n",
       " 15: 'Seocho-gu',\n",
       " 16: 'Seodaemun-gu',\n",
       " 17: 'Gangbuk-gu',\n",
       " 18: 'Yongsan-gu',\n",
       " 19: 'Nowon-gu',\n",
       " 20: 'Mapo-gu',\n",
       " 21: 'Ansan-si',\n",
       " 22: 'Seongbuk-gu',\n",
       " 23: 'Goyang-si',\n",
       " 24: 'Seongnam-si',\n",
       " 25: 'Gwangjin-gu',\n",
       " 26: 'Dobong-gu',\n",
       " 27: 'Namyangju-si',\n",
       " 28: 'Gangdong-gu',\n",
       " 29: 'Anyang-si',\n",
       " 30: 'Guri-si',\n",
       " 31: 'Suwon-si',\n",
       " 32: 'Paju-si',\n",
       " 33: 'Gwangmyeong-si',\n",
       " 34: 'Gimpo-si',\n",
       " 35: 'Anseong-si',\n",
       " 36: 'Gunpo-si',\n",
       " 37: 'Uijeongbu-si',\n",
       " 38: 'Gwacheon-si',\n",
       " 39: 'Icheon-si',\n",
       " 40: 'Pyeongtaek-si',\n",
       " 41: 'Hanam-si',\n",
       " 42: 'Siheung-si',\n",
       " 43: 'Yangpyeong-gun',\n",
       " 44: 'Dongducheon-si',\n",
       " 45: 'Yongin-si',\n",
       " 46: 'Gwangju-si',\n",
       " 47: 'Bucheon-si',\n",
       " 48: 'Yeoncheon-gun',\n",
       " 49: 'Yeoju-si',\n",
       " 50: 'Hwaseong-si',\n",
       " 51: 'Uiwang-si',\n",
       " 52: 'Pocheon-si',\n",
       " 53: 'Osan-si'}"
      ]
     },
     "execution_count": 141,
     "metadata": {},
     "output_type": "execute_result"
    }
   ],
   "source": [
    "label_dict"
   ]
  },
  {
   "cell_type": "code",
   "execution_count": 142,
   "metadata": {},
   "outputs": [],
   "source": [
    "LOF_by_countries = []\n",
    "for i in range(Aopt_array[0].shape[0]):\n",
    "#     X = np.array(np.exp(Aopt_array))[:,i,:]\n",
    "    X = np.array(Aopt_array)[:,i,:]\n",
    "    clf = LocalOutlierFactor(n_neighbors=5, contamination=0.1)\n",
    "    clf.fit(X)\n",
    "    neg_scores = clf.negative_outlier_factor_\n",
    "#     lof_scores = (np.max(neg_scores) - neg_scores)/(np.max(neg_scores) - np.min(neg_scores))\n",
    "    lof_scores = neg_scores * -1\n",
    "    LOF_by_countries.append(lof_scores)\n",
    "    "
   ]
  },
  {
   "cell_type": "code",
   "execution_count": 143,
   "metadata": {},
   "outputs": [],
   "source": [
    "# # travel_data.shape\n",
    "# tensors = travel_data[:,:,:54]\n",
    "\n",
    "# cnt_num = 4\n",
    "# intraffic = np.sum(tensors[:,:,cnt_num], 1) #in-traffic\n",
    "# print(intraffic)\n",
    "\n",
    "# plt.figure(figsize=(12,5))\n",
    "# plt.scatter(xaxis, intraffic)\n",
    "# plt.axvline(x=xaxis[-17], linestyle='-', color='red', label=\"Massive spread\")\n",
    "# plt.title(str(label_dict[cnt_num])+ \" intraffic\")"
   ]
  },
  {
   "cell_type": "code",
   "execution_count": 144,
   "metadata": {},
   "outputs": [
    {
     "data": {
      "text/plain": [
       "<matplotlib.legend.Legend at 0x7fc6a79e0410>"
      ]
     },
     "execution_count": 144,
     "metadata": {},
     "output_type": "execute_result"
    },
    {
     "data": {
      "image/png": "[encoded data removed]",
      "text/plain": [
       "<Figure size 864x360 with 1 Axes>"
      ]
     },
     "metadata": {
      "needs_background": "light"
     },
     "output_type": "display_data"
    }
   ],
   "source": [
    "# travel_data.shape\n",
    "tensors = travel_data[:,:,:54]\n",
    "tensors.shape\n",
    "xaxis = week_slices[1:]\n",
    "\n",
    "traffic = np.sum(np.sum(tensors, 1),1) #in-traffic\n",
    "plt.figure(figsize=(12,5))\n",
    "plt.plot(xaxis, traffic, label= 'total traffic')\n",
    "plt.scatter(xaxis[3+1:6+1], traffic[3+1:6+1], color='red', label = 'The first wave')\n",
    "plt.title(\"The total traffic in Seoul & Gyeong-gi area\")\n",
    "plt.legend()"
   ]
  },
  {
   "cell_type": "code",
   "execution_count": 145,
   "metadata": {},
   "outputs": [],
   "source": [
    "from datetime import datetime  \n",
    "from datetime import timedelta  "
   ]
  },
  {
   "cell_type": "code",
   "execution_count": 146,
   "metadata": {},
   "outputs": [
    {
     "name": "stdout",
     "output_type": "stream",
     "text": [
      "[ 0.  0.  0.  0.  5. 14. 21. 14.  4.  9.  5.  4.  2.  0.  1. 19.  7. 11.\n",
      " 10.  5.  0.  0.]\n"
     ]
    },
    {
     "data": {
      "text/plain": [
       "<matplotlib.legend.Legend at 0x7fc6a7faf790>"
      ]
     },
     "execution_count": 146,
     "metadata": {},
     "output_type": "execute_result"
    },
    {
     "data": {
      "image/png": "[encoded data removed]",
      "text/plain": [
       "<Figure size 864x360 with 1 Axes>"
      ]
     },
     "metadata": {
      "needs_background": "light"
     },
     "output_type": "display_data"
    }
   ],
   "source": [
    "# travel_data.shape\n",
    "tensors = travel_data[:,:,:54]\n",
    "tensors.shape\n",
    "\n",
    "cnt_num = 2\n",
    "intraffic = np.sum(tensors[:,:,cnt_num], 1) #in-traffic\n",
    "outtraffic = np.sum(tensors[:,cnt_num,:], 1) #outtraffic\n",
    "print(intraffic)\n",
    "\n",
    "plt.figure(figsize=(12,5))\n",
    "plt.plot(xaxis, intraffic, label= 'in')\n",
    "plt.plot(xaxis, outtraffic+0.1, label='out', alpha=0.8)\n",
    "# plt.fill_between([xaxis[-19] + timedelta(days=1.5),xaxis[-17]], 0, 23, color='magenta', alpha=0.15, label = 'Surge in carriers mobility: 23.Feb ~ 29.Feb')\n",
    "plt.title(str(label_dict[cnt_num])+ \" traffic\")\n",
    "plt.legend()"
   ]
  },
  {
   "cell_type": "code",
   "execution_count": 147,
   "metadata": {},
   "outputs": [],
   "source": [
    "# for i in range(54):\n",
    "#     node = i\n",
    "#     intraffic = np.sum(tensors[5,:,node])- np.sum(tensors[4,:,node]) #in-traffic\n",
    "#     if(intraffic >4):\n",
    "#         print(i,label_dict[node],intraffic)"
   ]
  },
  {
   "cell_type": "code",
   "execution_count": 148,
   "metadata": {},
   "outputs": [
    {
     "data": {
      "image/png": "[encoded data removed]",
      "text/plain": [
       "<Figure size 864x360 with 1 Axes>"
      ]
     },
     "metadata": {
      "needs_background": "light"
     },
     "output_type": "display_data"
    }
   ],
   "source": [
    "plt.figure(figsize=(12,5))\n",
    "cnt_num = 2\n",
    "plt.scatter(xaxis,LOF_by_countries[cnt_num])\n",
    "# plt.axvline(xaxis[3], color='tab:purple', label=\"The initial confirmation\")\n",
    "# plt.legend()\n",
    "plt.ylabel('LOF score')\n",
    "plt.title('Anomaly detection by TBAD & LOF in ' + str(label_dict[cnt_num]))\n",
    "plt.show()\n",
    "# plt.title('LOF score of ' + countries[18])"
   ]
  },
  {
   "cell_type": "code",
   "execution_count": 149,
   "metadata": {},
   "outputs": [
    {
     "name": "stdout",
     "output_type": "stream",
     "text": [
      "[ 0.  0.  0.  0.  2.  7. 33. 12. 14.  1.  2.  0.  0.  0.  0.  1.  3.  1.\n",
      "  1.  4.  0.  0.]\n"
     ]
    }
   ],
   "source": [
    "# travel_data.shape\n",
    "tensors = travel_data[:,:,:54]\n",
    "tensors.shape\n",
    "\n",
    "cnt_num = 3\n",
    "intraffic = np.sum(tensors[:,:,cnt_num], 1) #in-traffic\n",
    "print(intraffic)\n",
    "\n",
    "# plt.figure(figsize=(12,5))\n",
    "# plt.scatter(xaxis, intraffic)\n",
    "# plt.title(str(label_dict[cnt_num])+ \" intraffic\")"
   ]
  },
  {
   "cell_type": "code",
   "execution_count": 153,
   "metadata": {},
   "outputs": [
    {
     "data": {
      "image/png": "[encoded data removed]",
      "text/plain": [
       "<Figure size 864x360 with 2 Axes>"
      ]
     },
     "metadata": {
      "needs_background": "light"
     },
     "output_type": "display_data"
    }
   ],
   "source": [
    "# Create some mock data\n",
    "t = np.arange(0.01, 10.0, 0.01)\n",
    "fig, ax1 = plt.subplots(figsize=(12,5))\n",
    "\n",
    "cnt_num = 47\n",
    "\n",
    "color = 'tab:red'\n",
    "# ax1.set_xlabel('Date')\n",
    "ax1.set_ylabel('Abnormality')\n",
    "ax1.plot(xaxis,LOF_by_countries[cnt_num], label= \"Abnormality\")\n",
    "ax1.tick_params(axis='y')\n",
    "plt.legend(loc=2)\n",
    "\n",
    "ax2 = ax1.twinx()  # instantiate a second axes that shares the same x-axis\n",
    "\n",
    "color = 'tab:blue'\n",
    "ax2.set_ylabel('Traffic count')  # we already handled the x-label with ax1\n",
    "ax2.tick_params(axis='y')\n",
    "\n",
    "intraffic = np.sum(tensors[:,:,cnt_num], axis=1)\n",
    "outtraffic = np.sum(tensors[:,cnt_num,:], axis=1)\n",
    "ax2.plot(xaxis, intraffic+outtraffic, label= 'total traffic', color='#ff7f0e')\n",
    "# plt.legend(loc=1)\n",
    "plt.title(label_dict[cnt_num])\n",
    "\n",
    "fig.tight_layout()  # otherwise the right y-label is slightly clipped\n",
    "plt.show()"
   ]
  },
  {
   "cell_type": "code",
   "execution_count": 33,
   "metadata": {},
   "outputs": [
    {
     "data": {
      "image/png": "[encoded data removed]",
      "text/plain": [
       "<Figure size 864x360 with 1 Axes>"
      ]
     },
     "metadata": {
      "needs_background": "light"
     },
     "output_type": "display_data"
    }
   ],
   "source": [
    "plt.figure(figsize=(12,5))\n",
    "plt.scatter(xaxis,LOF_by_countries[3])\n",
    "plt.axvline(xaxis[6], color='tab:purple', label=\"The initial confirmation\")\n",
    "plt.legend()\n",
    "plt.ylabel('LOF score')\n",
    "plt.title('Anomaly detection by TBAD & LOF in ' + str(label_dict[3]))\n",
    "plt.show()\n",
    "# plt.title('LOF score of ' + countries[18])"
   ]
  },
  {
   "cell_type": "code",
   "execution_count": 34,
   "metadata": {},
   "outputs": [
    {
     "data": {
      "text/plain": [
       "Timestamp('2020-05-17 00:00:00', freq='W-SUN')"
      ]
     },
     "execution_count": 34,
     "metadata": {},
     "output_type": "execute_result"
    }
   ],
   "source": [
    "xaxis[-6]"
   ]
  },
  {
   "cell_type": "code",
   "execution_count": 35,
   "metadata": {},
   "outputs": [
    {
     "data": {
      "image/png": "[encoded data removed]",
      "text/plain": [
       "<Figure size 864x360 with 1 Axes>"
      ]
     },
     "metadata": {
      "needs_background": "light"
     },
     "output_type": "display_data"
    }
   ],
   "source": [
    "plt.figure(figsize=(12,5))\n",
    "plt.scatter(xaxis,LOF_by_countries[47])\n",
    "plt.axvline(xaxis[-4], color ='tab:purple', label=\"The initial confirmation\")\n",
    "plt.legend()\n",
    "plt.ylabel('LOF score')\n",
    "plt.title('Anomaly detection by TBAD & LOF in ' + str(label_dict[47]))\n",
    "plt.show()\n"
   ]
  },
  {
   "cell_type": "code",
   "execution_count": 36,
   "metadata": {},
   "outputs": [
    {
     "data": {
      "text/plain": [
       "(22, 54, 54)"
      ]
     },
     "execution_count": 36,
     "metadata": {},
     "output_type": "execute_result"
    }
   ],
   "source": [
    "tensors.shape"
   ]
  },
  {
   "cell_type": "code",
   "execution_count": 37,
   "metadata": {},
   "outputs": [],
   "source": [
    "# regularized_adj = np.mean(Bstar.T, axis=0)\n",
    "regularized_adj = Bstar.T\n",
    "raw_adj = np.mean(travel_data[:,:,:54], axis=0)"
   ]
  },
  {
   "cell_type": "code",
   "execution_count": 38,
   "metadata": {},
   "outputs": [],
   "source": [
    "incoming = np.sum(regularized_adj[:,:54], axis=0)\n",
    "outgoing = np.sum(regularized_adj[:,54:], axis=0)\n",
    "raw_incoming = np.sum(raw_adj, axis=0)\n",
    "raw_outgoing = np.sum(raw_adj, axis=1)"
   ]
  },
  {
   "cell_type": "code",
   "execution_count": 39,
   "metadata": {},
   "outputs": [
    {
     "data": {
      "text/plain": [
       "(15, 108)"
      ]
     },
     "execution_count": 39,
     "metadata": {},
     "output_type": "execute_result"
    }
   ],
   "source": [
    "regularized_adj.shape"
   ]
  },
  {
   "cell_type": "code",
   "execution_count": 40,
   "metadata": {},
   "outputs": [],
   "source": [
    "def normalize(data):\n",
    "#     a = data - np.min(data)\n",
    "#     return (data-np.min(data))/(np.max(data)-np.min(data))*10\n",
    "    return (data-np.mean(data))/np.std(data)\n",
    "#     return data"
   ]
  },
  {
   "cell_type": "code",
   "execution_count": 41,
   "metadata": {},
   "outputs": [],
   "source": [
    "net_traffic = normalize(outgoing+incoming) #- outgoing)\n",
    "net_traffic_raw = normalize(raw_outgoing+raw_incoming) # - raw_outgoing)"
   ]
  },
  {
   "cell_type": "code",
   "execution_count": 42,
   "metadata": {},
   "outputs": [
    {
     "name": "stdout",
     "output_type": "stream",
     "text": [
      "0.9999999999999999 1.0000000000000002\n"
     ]
    }
   ],
   "source": [
    "print(np.std(net_traffic), np.std(net_traffic_raw))"
   ]
  },
  {
   "cell_type": "code",
   "execution_count": 43,
   "metadata": {},
   "outputs": [],
   "source": [
    "# incom_df = pd.DataFrame([label_dict[0],incoming[0]]).T\n",
    "# outgo_df = pd.DataFrame([label_dict[0],outgoing[0]]).T\n",
    "net_traffic_df = pd.DataFrame([label_dict[0],net_traffic[0]]).T\n",
    "raw_net_traffic_df = pd.DataFrame([label_dict[0],net_traffic_raw[0]]).T\n",
    "for node in range(1,30):\n",
    "    d1 = [label_dict[node],net_traffic[node]]\n",
    "    d2 = [label_dict[node],net_traffic_raw[node]]\n",
    "    net_traffic_df = net_traffic_df.append(pd.Series(d1, index=net_traffic_df.columns),ignore_index=True)\n",
    "    raw_net_traffic_df = raw_net_traffic_df.append(pd.Series(d2, index=raw_net_traffic_df.columns),ignore_index=True)\n",
    "#     incom_df= incom_df.append(pd.Series([label_dict[node],incoming[node]], index=incom_df.columns),ignore_index=True)\n",
    "#     outgo_df= outgo_df.append(pd.Series([label_dict[node],outgoing[node]], index=outgo_df.columns),ignore_index=True)"
   ]
  },
  {
   "cell_type": "code",
   "execution_count": 44,
   "metadata": {},
   "outputs": [],
   "source": [
    "# incom_df = pd.DataFrame([label_dict[0],incoming[0]]).T\n",
    "# outgo_df = pd.DataFrame([label_dict[0],outgoing[0]]).T\n",
    "net_traffic_df = pd.DataFrame([label_dict[0],net_traffic[0]]).T\n",
    "raw_net_traffic_df = pd.DataFrame([label_dict[0],net_traffic_raw[0]]).T\n",
    "for node in range(1,54):\n",
    "    d1 = [label_dict[node],net_traffic[node]]\n",
    "    d2 = [label_dict[node],net_traffic_raw[node]]\n",
    "    net_traffic_df = net_traffic_df.append(pd.Series(d1, index=net_traffic_df.columns),ignore_index=True)\n",
    "    raw_net_traffic_df = raw_net_traffic_df.append(pd.Series(d2, index=raw_net_traffic_df.columns),ignore_index=True)\n",
    "#     incom_df= incom_df.append(pd.Series([label_dict[node],incoming[node]], index=incom_df.columns),ignore_index=True)\n",
    "#     outgo_df= outgo_df.append(pd.Series([label_dict[node],outgoing[node]], index=outgo_df.columns),ignore_index=True)"
   ]
  },
  {
   "cell_type": "code",
   "execution_count": 45,
   "metadata": {},
   "outputs": [
    {
     "data": {
      "text/plain": [
       "-1.3451133153771688"
      ]
     },
     "execution_count": 45,
     "metadata": {},
     "output_type": "execute_result"
    },
    {
     "data": {
      "image/png": "[encoded data removed]",
      "text/plain": [
       "<Figure size 432x288 with 1 Axes>"
      ]
     },
     "metadata": {
      "needs_background": "light"
     },
     "output_type": "display_data"
    }
   ],
   "source": [
    "import scipy\n",
    "plt.hist(net_traffic_df.iloc[:,1], bins=12, alpha=0.8)\n",
    "plt.hist(raw_net_traffic_df.iloc[:,1], bins=12, alpha=0.8)\n",
    "scipy.stats.skew(net_traffic_df.iloc[:,1])\n"
   ]
  },
  {
   "cell_type": "code",
   "execution_count": 46,
   "metadata": {},
   "outputs": [
    {
     "name": "stdout",
     "output_type": "stream",
     "text": [
      "-0.414158088391877\n"
     ]
    },
    {
     "data": {
      "image/png": "[encoded data removed]",
      "text/plain": [
       "<Figure size 432x288 with 1 Axes>"
      ]
     },
     "metadata": {
      "needs_background": "light"
     },
     "output_type": "display_data"
    }
   ],
   "source": [
    "plt.hist(raw_net_traffic_df.iloc[:,1], bins=20)\n",
    "scipy.stats.skew(raw_net_traffic_df.iloc[:,1])\n",
    "print(np.median(raw_net_traffic_df.iloc[:,1]))"
   ]
  },
  {
   "cell_type": "code",
   "execution_count": 47,
   "metadata": {},
   "outputs": [
    {
     "ename": "ValueError",
     "evalue": "All values are expected to fall into one of the provided bins (or to be Nan). Please check the `bins` parameter and/or your data.",
     "output_type": "error",
     "traceback": [
      "\u001b[0;31m---------------------------------------------------------------------------\u001b[0m",
      "\u001b[0;31mValueError\u001b[0m                                Traceback (most recent call last)",
      "\u001b[0;32m<ipython-input-47-4a4dfa0b4168>\u001b[0m in \u001b[0;36m<module>\u001b[0;34m\u001b[0m\n\u001b[1;32m     17\u001b[0m                   \u001b[0mfill_opacity\u001b[0m\u001b[0;34m=\u001b[0m\u001b[0;36m1\u001b[0m\u001b[0;34m,\u001b[0m\u001b[0;34m\u001b[0m\u001b[0;34m\u001b[0m\u001b[0m\n\u001b[1;32m     18\u001b[0m                   \u001b[0mline_opacity\u001b[0m\u001b[0;34m=\u001b[0m\u001b[0;36m0.5\u001b[0m\u001b[0;34m,\u001b[0m\u001b[0;34m\u001b[0m\u001b[0;34m\u001b[0m\u001b[0m\n\u001b[0;32m---> 19\u001b[0;31m                   key_on='properties.SIG_ENG_NM').add_to(m)\n\u001b[0m\u001b[1;32m     20\u001b[0m \u001b[0;34m\u001b[0m\u001b[0m\n\u001b[1;32m     21\u001b[0m \u001b[0mm\u001b[0m\u001b[0;34m\u001b[0m\u001b[0;34m\u001b[0m\u001b[0m\n",
      "\u001b[0;32m~/opt/anaconda3/lib/python3.7/site-packages/folium/features.py\u001b[0m in \u001b[0;36m__init__\u001b[0;34m(self, geo_data, data, columns, key_on, bins, fill_color, nan_fill_color, fill_opacity, nan_fill_opacity, line_color, line_weight, line_opacity, name, legend_name, overlay, control, show, topojson, smooth_factor, highlight, **kwargs)\u001b[0m\n\u001b[1;32m   1175\u001b[0m             \u001b[0;32mif\u001b[0m \u001b[0mnp\u001b[0m\u001b[0;34m.\u001b[0m\u001b[0many\u001b[0m\u001b[0;34m(\u001b[0m\u001b[0;34m(\u001b[0m\u001b[0mreal_values\u001b[0m \u001b[0;34m<\u001b[0m \u001b[0mbins_min\u001b[0m\u001b[0;34m)\u001b[0m \u001b[0;34m|\u001b[0m \u001b[0;34m(\u001b[0m\u001b[0mreal_values\u001b[0m \u001b[0;34m>\u001b[0m \u001b[0mbins_max\u001b[0m\u001b[0;34m)\u001b[0m\u001b[0;34m)\u001b[0m\u001b[0;34m:\u001b[0m\u001b[0;34m\u001b[0m\u001b[0;34m\u001b[0m\u001b[0m\n\u001b[1;32m   1176\u001b[0m                 raise ValueError(\n\u001b[0;32m-> 1177\u001b[0;31m                     \u001b[0;34m'All values are expected to fall into one of the provided '\u001b[0m\u001b[0;34m\u001b[0m\u001b[0;34m\u001b[0m\u001b[0m\n\u001b[0m\u001b[1;32m   1178\u001b[0m                     \u001b[0;34m'bins (or to be Nan). Please check the `bins` parameter '\u001b[0m\u001b[0;34m\u001b[0m\u001b[0;34m\u001b[0m\u001b[0m\n\u001b[1;32m   1179\u001b[0m                     'and/or your data.')\n",
      "\u001b[0;31mValueError\u001b[0m: All values are expected to fall into one of the provided bins (or to be Nan). Please check the `bins` parameter and/or your data."
     ]
    }
   ],
   "source": [
    "import folium\n",
    "m = folium.Map(\n",
    "    location=[37.5838699,126.9065831],\n",
    "    zoom_start=11,\n",
    "    tiles='Stamen Toner'\n",
    ")\n",
    "\n",
    "import json\n",
    "geo_path = '../SocialGeo_measures/seoul_municipalities_geo.json'\n",
    "geo_str = json.load(open(geo_path, encoding='utf-8'))\n",
    "\n",
    "folium.Choropleth(geo_data=geo_str, \n",
    "                  data=net_traffic_df, \n",
    "                  columns=net_traffic_df.columns, \n",
    "                  fill_color='OrRd',\n",
    "                  threshold_scale= np.arange(-3, 4, 1).tolist(),\n",
    "                  fill_opacity=1,\n",
    "                  line_opacity=0.5,\n",
    "                  key_on='properties.SIG_ENG_NM').add_to(m)\n",
    "\n",
    "m"
   ]
  },
  {
   "cell_type": "code",
   "execution_count": null,
   "metadata": {},
   "outputs": [],
   "source": [
    "import folium\n",
    "m = folium.Map(\n",
    "    location=[37.5838699,126.9065831],\n",
    "    zoom_start=11,\n",
    "    tiles='Stamen Toner'\n",
    ")\n",
    "\n",
    "import json\n",
    "geo_path = '../SocialGeo_measures/seoul_municipalities_geo.json'\n",
    "geo_str = json.load(open(geo_path, encoding='utf-8'))\n",
    "\n",
    "folium.Choropleth(geo_data=geo_str, \n",
    "                  data=raw_net_traffic_df, \n",
    "                  columns=raw_net_traffic_df.columns, \n",
    "                  fill_color='OrRd',\n",
    "                  threshold_scale= np.arange(-3, 4, 1).tolist(),\n",
    "                  fill_opacity=1,\n",
    "                  line_opacity=0.5,\n",
    "                  key_on='properties.SIG_ENG_NM').add_to(m)\n",
    "\n",
    "m"
   ]
  },
  {
   "cell_type": "code",
   "execution_count": null,
   "metadata": {},
   "outputs": [],
   "source": [
    "# travel_data.shape\n",
    "tensors = travel_data\n",
    "time = 5\n",
    "intraffic = np.sum(tensors[time,:,:54], 0) #in-traffic\n",
    "outtraffic = np.sum(tensors[time,:,:54], 1) #outtraffic\n",
    "total_traffic = intraffic + outtraffic\n",
    "total_traffic\n",
    "\n",
    "intraffic = np.sum(tensors[time-1,:,:54], 0) #in-traffic\n",
    "outtraffic = np.sum(tensors[time-1,:,:54], 1) #outtraffic\n",
    "total_traffic2 = intraffic + outtraffic\n",
    "total_traffic = total_traffic-total_traffic2"
   ]
  },
  {
   "cell_type": "code",
   "execution_count": null,
   "metadata": {},
   "outputs": [],
   "source": [
    "total_traffic_df = pd.DataFrame([label_dict[0],total_traffic[0]]).T\n",
    "for node in range(1,54):\n",
    "    d1 = [label_dict[node],total_traffic[node]]\n",
    "    total_traffic_df = total_traffic_df.append(pd.Series(d1, index=total_traffic_df.columns),ignore_index=True)\n",
    "\n",
    "total_traffic_df.columns=['SIG_ENG_NM','traffic']"
   ]
  },
  {
   "cell_type": "code",
   "execution_count": null,
   "metadata": {},
   "outputs": [],
   "source": [
    "import folium\n",
    "m = folium.Map(\n",
    "    location=[37.5838699,126.9065831],\n",
    "    zoom_start=11,\n",
    "    tiles='Stamen Toner'\n",
    ")\n",
    "\n",
    "import json\n",
    "geo_path = '../SocialGeo_measures/seoul_municipalities_geo.json'\n",
    "geo_str = json.load(open(geo_path, encoding='utf-8'))\n",
    "\n",
    "folium.Choropleth(geo_data=geo_str, \n",
    "                  data=total_traffic_df, \n",
    "                  columns=total_traffic_df.columns, \n",
    "                  fill_color='YlOrRd',\n",
    "                  fill_opacity=1,\n",
    "                  line_opacity=0.5,\n",
    "                  threshold_scale=np.linspace(-15, 60.0, num=10),\n",
    "                  key_on='properties.SIG_ENG_NM').add_to(m)\n",
    "\n",
    "m"
   ]
  },
  {
   "cell_type": "code",
   "execution_count": null,
   "metadata": {},
   "outputs": [],
   "source": []
  }
 ],
 "metadata": {
  "kernelspec": {
   "display_name": "Python 3",
   "language": "python",
   "name": "python3"
  },
  "language_info": {
   "codemirror_mode": {
    "name": "ipython",
    "version": 3
   },
   "file_extension": ".py",
   "mimetype": "text/x-python",
   "name": "python",
   "nbconvert_exporter": "python",
   "pygments_lexer": "ipython3",
   "version": "3.7.6"
  }
 },
 "nbformat": 4,
 "nbformat_minor": 2
}

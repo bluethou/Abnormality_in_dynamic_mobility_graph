{
 "cells": [
  {
   "cell_type": "code",
   "execution_count": 9,
   "metadata": {},
   "outputs": [],
   "source": [
    "import numpy as np\n",
    "import matplotlib.pyplot as plt\n",
    "import pandas as pd\n",
    "import pickle"
   ]
  },
  {
   "cell_type": "code",
   "execution_count": 10,
   "metadata": {},
   "outputs": [],
   "source": [
    "with open('../pkl/global_weekly_sorted_tensor2.pkl', 'rb') as f:\n",
    "    travel_tensor = pickle.load(f) \n",
    "\n",
    "# with open('../pkl/global_serial_graphs.pkl', 'rb') as f:\n",
    "#     serial_graphs = pickle.load(f) "
   ]
  },
  {
   "cell_type": "code",
   "execution_count": 11,
   "metadata": {},
   "outputs": [],
   "source": [
    "with open('../pkl/new_country_order.pkl', 'rb') as f:\n",
    "    new_order = pickle.load(f) "
   ]
  },
  {
   "cell_type": "code",
   "execution_count": 28,
   "metadata": {},
   "outputs": [],
   "source": [
    "travel_df = pd.read_csv('../csv/global_travel_df.csv')\n",
    "countries = travel_df['node'].unique().T\n",
    "label_dict = dict(zip(np.char.mod('%d', range(227)), countries[new_order]))\n",
    "label_dict = dict(zip(range(226), countries[new_order]))"
   ]
  },
  {
   "cell_type": "code",
   "execution_count": 30,
   "metadata": {},
   "outputs": [],
   "source": [
    "adjmat = np.mean(travel_tensor, 0)[:,:226]"
   ]
  },
  {
   "cell_type": "code",
   "execution_count": 33,
   "metadata": {},
   "outputs": [],
   "source": [
    "df = pd.DataFrame([[-1,-1,-1]])\n",
    "for i in range(adjmat.shape[0]):\n",
    "    for j in range(adjmat.shape[1]):\n",
    "        if(adjmat[i,j]==0):\n",
    "            continue\n",
    "        else:\n",
    "            a_row = pd.Series([label_dict[i], label_dict[j], adjmat[i,j]])\n",
    "            row_df = pd.DataFrame([a_row])\n",
    "            df = pd.concat([df, row_df])\n",
    "#         df = pd.DataFrame(pd.Series(i,j,adjmat[i,j]), index=range(1),columns=['from','to','weight'])\n",
    "df = df.iloc[1:,:]\n",
    "df.columns = ['Source','Target','Weight']\n"
   ]
  },
  {
   "cell_type": "code",
   "execution_count": 34,
   "metadata": {},
   "outputs": [],
   "source": [
    "df.to_csv(\"average_Twitter_adj.csv\", index =False)"
   ]
  },
  {
   "cell_type": "code",
   "execution_count": 46,
   "metadata": {},
   "outputs": [],
   "source": [
    "def crash_courses(dltr): \n",
    "    result = 0\n",
    "    temp =1  \n",
    "    \n",
    "    for i in range(1,dltr): \n",
    "        temp = temp*i \n",
    "        for k in range(i): \n",
    "            result += temp \n",
    "    return result"
   ]
  },
  {
   "cell_type": "code",
   "execution_count": 60,
   "metadata": {},
   "outputs": [
    {
     "data": {
      "text/plain": [
       "array([[1, 4],\n",
       "       [2, 5],\n",
       "       [3, 6]])"
      ]
     },
     "execution_count": 60,
     "metadata": {},
     "output_type": "execute_result"
    }
   ],
   "source": [
    "np.array([[1, 2, 3], [4, 5, 6]]).T"
   ]
  },
  {
   "cell_type": "code",
   "execution_count": 49,
   "metadata": {},
   "outputs": [
    {
     "name": "stdout",
     "output_type": "stream",
     "text": [
      "3\n",
      "5\n",
      "4\n"
     ]
    }
   ],
   "source": [
    "def y(x):\n",
    "    global a\n",
    "    a=4\n",
    "    return 0\n",
    "\n",
    "def f(a): \n",
    "    a=3\n",
    "    print(a)\n",
    "    return a\n",
    "\n",
    "a=5\n",
    "f(a)\n",
    "print(a)\n",
    "y(a)\n",
    "print(a)"
   ]
  },
  {
   "cell_type": "code",
   "execution_count": 4,
   "metadata": {},
   "outputs": [
    {
     "name": "stdout",
     "output_type": "stream",
     "text": [
      "DatetimeIndex(['2019-10-01', '2019-10-02', '2019-10-03', '2019-10-04',\n",
      "               '2019-10-05', '2019-10-06', '2019-10-07', '2019-10-08',\n",
      "               '2019-10-09', '2019-10-10', '2019-10-11', '2019-10-12',\n",
      "               '2019-10-13', '2019-10-14', '2019-10-15', '2019-10-16',\n",
      "               '2019-10-17', '2019-10-18', '2019-10-19', '2019-10-20',\n",
      "               '2019-10-21', '2019-10-22', '2019-10-23', '2019-10-24',\n",
      "               '2019-10-25', '2019-10-26', '2019-10-27', '2019-10-28',\n",
      "               '2019-10-29', '2019-10-30', '2019-10-31'],\n",
      "              dtype='datetime64[ns]', freq='D')\n"
     ]
    }
   ],
   "source": [
    "print(pd.date_range('2018-01-01', periods=677, freq='D')[638:669])\n",
    "# pd.date_range('2016-01-04', periods=200, freq='W')[148]\n",
    "# pd.date_range('2016-01-04', periods=200, freq='W')[149]"
   ]
  },
  {
   "cell_type": "code",
   "execution_count": 5,
   "metadata": {},
   "outputs": [],
   "source": [
    "# adjmat1 = travel_tensor[147][:,0:226]\n",
    "# adjmat2 = travel_tensor[148][:,0:226]\n",
    "# adjmat3 = travel_tensor[149][:,0:226]\n",
    "# adjmat4 = travel_tensor[150][:,0:226]"
   ]
  },
  {
   "cell_type": "code",
   "execution_count": 167,
   "metadata": {},
   "outputs": [],
   "source": [
    "travel_tensor[638:669,:,0:226].shape\n",
    "adjmat = np.sum(travel_tensor[638:669,:,0:226], axis=0)"
   ]
  },
  {
   "cell_type": "code",
   "execution_count": 168,
   "metadata": {},
   "outputs": [],
   "source": [
    "adj_df = pd.DataFrame(adjmat)\n",
    "adj_df.index = countries\n",
    "adj_df.columns = countries"
   ]
  },
  {
   "cell_type": "code",
   "execution_count": 169,
   "metadata": {},
   "outputs": [],
   "source": [
    "adj_df.to_csv(\"../csv/adj_oct2019.csv\")"
   ]
  },
  {
   "cell_type": "code",
   "execution_count": 50,
   "metadata": {},
   "outputs": [
    {
     "data": {
      "text/plain": [
       "(4, 226, 452)"
      ]
     },
     "execution_count": 50,
     "metadata": {},
     "output_type": "execute_result"
    }
   ],
   "source": [
    "adjmat = travel_tensor[145:149][:,0:226]\n",
    "adjmat.shape"
   ]
  },
  {
   "cell_type": "code",
   "execution_count": 42,
   "metadata": {},
   "outputs": [
    {
     "name": "stdout",
     "output_type": "stream",
     "text": [
      "2.0\n",
      "14.0\n",
      "28.0\n",
      "27.0\n",
      "25.0\n",
      "19.0\n",
      "18.0\n",
      "14.0\n",
      "14.0\n",
      "11.0\n",
      "16.0\n",
      "22.0\n",
      "19.0\n",
      "25.0\n",
      "18.0\n",
      "32.0\n",
      "29.0\n",
      "35.0\n",
      "13.0\n",
      "25.0\n",
      "43.0\n",
      "24.0\n",
      "49.0\n",
      "35.0\n",
      "44.0\n"
     ]
    }
   ],
   "source": [
    "for i in range(130,155):\n",
    "    print(np.sum(travel_tensor[i][60,:]))"
   ]
  },
  {
   "cell_type": "code",
   "execution_count": 38,
   "metadata": {},
   "outputs": [
    {
     "name": "stdout",
     "output_type": "stream",
     "text": [
      "4.0\n",
      "[0. 0. 0. 0. 0. 0. 0. 0. 0. 1. 0. 1. 2. 0. 0. 0. 1. 2. 0. 0. 0. 0. 0. 0.\n",
      " 5. 0. 0. 0. 0. 0. 0. 0. 0. 4. 0. 0. 0. 0. 0. 0. 0. 2. 0. 0. 0. 0. 1. 0.\n",
      " 0. 0. 0. 0. 0. 0. 0. 0. 0. 0. 0. 0. 0. 0. 0. 0. 0. 0. 0. 0. 0. 0. 0. 0.\n",
      " 0. 0. 0. 0. 0. 0. 0. 1. 0. 0. 0. 0. 0. 0. 0. 0. 0. 0. 0. 0. 0. 0. 0. 0.\n",
      " 0. 0. 0. 0. 0. 0. 0. 1. 0. 1. 0. 0. 0. 1. 0. 0. 0. 0. 0. 0. 0. 0. 0. 0.\n",
      " 0. 0. 0. 0. 0. 0. 0. 0. 0. 0. 0. 0. 0. 0. 0. 0. 0. 0. 0. 0. 0. 0. 0. 0.\n",
      " 0. 0. 0. 0. 0. 0. 0. 0. 0. 0. 0. 0. 0. 0. 0. 0. 0. 0. 0. 0. 0. 0. 0. 0.\n",
      " 0. 0. 0. 0. 0. 0. 0. 0. 0. 0. 0. 0. 0. 0. 0. 0. 0. 0. 0. 0. 0. 0. 0. 0.\n",
      " 0. 0. 0. 0. 0. 0. 0. 0. 0. 0. 0. 0. 0. 0. 0. 0. 0. 0. 0. 0. 0. 0. 0. 0.\n",
      " 0. 0. 0. 0. 0. 0. 0. 0. 0. 0.]\n",
      "[0. 0. 0. 0. 1. 0. 0. 0. 0. 0. 0. 0. 0. 2. 0. 0. 0. 0. 0. 0. 0. 0. 0. 2.\n",
      " 0. 0. 0. 0. 0. 0. 0. 0. 0. 0. 0. 0. 0. 2. 0. 0. 0. 0. 0. 0. 0. 0. 0. 0.\n",
      " 0. 0. 0. 0. 0. 0. 0. 0. 0. 0. 0. 0. 0. 0. 0. 0. 0. 0. 0. 0. 0. 0. 0. 0.\n",
      " 0. 0. 0. 0. 0. 0. 0. 0. 0. 0. 0. 0. 0. 0. 0. 0. 0. 0. 0. 0. 0. 0. 0. 0.\n",
      " 0. 0. 0. 0. 0. 0. 0. 0. 0. 0. 0. 0. 0. 0. 0. 0. 0. 0. 0. 0. 0. 0. 0. 0.\n",
      " 0. 0. 0. 0. 0. 0. 0. 0. 0. 0. 0. 0. 0. 0. 0. 0. 0. 0. 0. 0. 0. 0. 0. 0.\n",
      " 0. 0. 0. 0. 0. 0. 0. 0. 0. 0. 1. 0. 0. 0. 0. 0. 0. 0. 0. 0. 0. 0. 0. 0.\n",
      " 0. 0. 0. 0. 0. 0. 0. 0. 0. 0. 0. 0. 0. 0. 0. 0. 0. 0. 0. 0. 0. 0. 0. 0.\n",
      " 0. 0. 0. 0. 0. 0. 0. 0. 0. 0. 0. 0. 0. 0. 0. 0. 0. 0. 0. 0. 0. 0. 0. 0.\n",
      " 0. 0. 0. 0. 0. 0. 0. 0. 0. 0.]\n",
      "[3. 0. 0. 0. 0. 0. 0. 0. 0. 0. 0. 0. 0. 0. 1. 0. 1. 0. 0. 0. 0. 2. 0. 0.\n",
      " 0. 0. 1. 0. 0. 0. 0. 0. 1. 5. 0. 0. 0. 0. 0. 0. 0. 2. 0. 0. 0. 0. 0. 0.\n",
      " 0. 0. 0. 0. 0. 0. 0. 0. 0. 0. 0. 0. 0. 0. 0. 0. 0. 0. 0. 0. 0. 0. 0. 0.\n",
      " 0. 0. 0. 0. 0. 0. 0. 0. 0. 0. 0. 0. 0. 0. 0. 0. 0. 0. 0. 0. 2. 0. 0. 0.\n",
      " 0. 0. 0. 0. 0. 0. 0. 0. 0. 1. 0. 0. 0. 0. 0. 0. 0. 0. 0. 0. 0. 0. 0. 0.\n",
      " 0. 0. 0. 0. 0. 0. 0. 0. 0. 0. 0. 0. 0. 0. 0. 0. 0. 0. 0. 0. 0. 0. 0. 0.\n",
      " 0. 0. 0. 0. 0. 0. 0. 0. 0. 0. 0. 0. 0. 0. 0. 0. 0. 0. 0. 0. 0. 0. 0. 0.\n",
      " 0. 0. 0. 0. 0. 0. 0. 0. 0. 0. 0. 0. 0. 0. 0. 0. 0. 0. 0. 0. 0. 0. 0. 0.\n",
      " 0. 0. 0. 0. 0. 0. 0. 0. 0. 0. 0. 0. 0. 0. 0. 0. 0. 0. 0. 0. 0. 0. 0. 0.\n",
      " 0. 0. 0. 0. 0. 0. 0. 0. 0. 0.]\n",
      "US\n"
     ]
    }
   ],
   "source": [
    "print(travel_tensor[145][:,60][0])\n",
    "print(travel_tensor[147][:,60])\n",
    "print(travel_tensor[148][:,60])\n",
    "print(travel_tensor[149][:,60])\n",
    "print(countries[0])"
   ]
  },
  {
   "cell_type": "code",
   "execution_count": 54,
   "metadata": {},
   "outputs": [],
   "source": [
    "# countries = ['US', 'EC', 'DE', 'CH', 'FR', 'VE', 'CO', 'BR', 'MT', 'ID', 'JP',\n",
    "#        'ZA', 'GB', 'NG', 'MX', 'CR', 'PH', 'ES', 'HK', 'HR', 'TW', 'AU',\n",
    "#        'CA', 'MA', 'IT', 'TR', 'TH', 'RU', 'NZ', 'CN', 'AR', 'PY', 'NL',\n",
    "#        'KW', 'nan', 'NO', 'PE', 'IN', 'SE', 'MD', 'KR', 'SA', 'CL', 'JO',\n",
    "#        'MY', 'SG', 'QA', 'AZ', 'UY', 'EG', 'DO', 'TT', 'JM', 'CZ', 'IE',\n",
    "#        'HU', 'VN', 'PT', 'IS', 'BE', 'AE', 'FI', 'PL', 'PR', 'AT', 'BG',\n",
    "#        'CU', 'GR', 'SV', 'GT', 'DK', 'FO', 'CY', 'MC', 'AG', 'MS', 'BM',\n",
    "#        'EE', 'LK', 'PK', 'PA', 'BS', 'RS', 'LV', 'AW', 'IL', 'ET', 'CD',\n",
    "#        'KE', 'UA', 'GU', 'KH', 'OM', 'BZ', 'VA', 'MO', 'RO', 'UZ', 'ZW',\n",
    "#        'BW', 'TZ', 'ME', 'AL', 'IR', 'TC', 'BH', 'UG', 'GH', 'SY', 'LB',\n",
    "#        'AD', 'MV', 'GY', 'SK', 'LU', 'LA', 'HN', 'AF', 'HT', 'SX', 'CW',\n",
    "#        'BN', 'SM', 'MM', 'GI', 'ZM', 'DZ', 'SI', 'MW', 'KY', 'SC', 'BO',\n",
    "#        'RE', 'GF', 'GP', 'TN', 'NP', 'BB', 'LT', 'BT', 'BL', 'BY', 'MN',\n",
    "#        'AI', 'MZ', 'BA', 'VI', 'AO', 'NI', 'SD', 'BD', 'KN', 'MQ', 'MF',\n",
    "#        'GE', 'KP', 'XK', 'SN', 'MU', 'KZ', 'IQ', 'IM', 'FM', 'MH', 'NC',\n",
    "#        'CI', 'KM', 'LI', 'TJ', 'RW', 'GD', 'LR', 'LC', 'MK', 'KG', 'CM',\n",
    "#        'PF', 'AM', 'VG', 'BJ', 'MG', 'AX', 'TD', 'AQ', 'BF', 'AS', 'WS',\n",
    "#        'SZ', 'SL', 'GL', 'LS', 'NE', 'GW', 'ML', 'LY', 'TM', 'PG', 'CF',\n",
    "#        'YE', 'MP', 'ER', 'GA', 'CG', 'JE', 'CV', 'GQ', 'BQ', 'TG', 'TL',\n",
    "#        'VC', 'TO', 'DJ', 'SB', 'SO', 'MR', 'SR', 'GM', 'DM', 'ST', 'GN',\n",
    "#        'BI', 'VU', 'YT', 'NU', 'FK', 'PW']"
   ]
  },
  {
   "cell_type": "code",
   "execution_count": 20,
   "metadata": {},
   "outputs": [],
   "source": [
    "adj_df = pd.DataFrame(adjmat3)\n",
    "adj_df.index = countries\n",
    "adj_df.columns = countries"
   ]
  },
  {
   "cell_type": "code",
   "execution_count": 21,
   "metadata": {},
   "outputs": [],
   "source": [
    "adj_df.to_csv('../gephi/adj_mat2018-11-18.csv')"
   ]
  },
  {
   "cell_type": "code",
   "execution_count": 13,
   "metadata": {},
   "outputs": [
    {
     "ename": "NameError",
     "evalue": "name 'countries' is not defined",
     "output_type": "error",
     "traceback": [
      "\u001b[0;31m---------------------------------------------------------------------------\u001b[0m",
      "\u001b[0;31mNameError\u001b[0m                                 Traceback (most recent call last)",
      "\u001b[0;32m<ipython-input-13-9e1a926863b6>\u001b[0m in \u001b[0;36m<module>\u001b[0;34m\u001b[0m\n\u001b[1;32m      5\u001b[0m             \u001b[0;32mcontinue\u001b[0m\u001b[0;34m\u001b[0m\u001b[0;34m\u001b[0m\u001b[0m\n\u001b[1;32m      6\u001b[0m         \u001b[0;32melse\u001b[0m\u001b[0;34m:\u001b[0m\u001b[0;34m\u001b[0m\u001b[0;34m\u001b[0m\u001b[0m\n\u001b[0;32m----> 7\u001b[0;31m             \u001b[0ma_row\u001b[0m \u001b[0;34m=\u001b[0m \u001b[0mpd\u001b[0m\u001b[0;34m.\u001b[0m\u001b[0mSeries\u001b[0m\u001b[0;34m(\u001b[0m\u001b[0;34m[\u001b[0m\u001b[0mcountries\u001b[0m\u001b[0;34m[\u001b[0m\u001b[0mi\u001b[0m\u001b[0;34m]\u001b[0m\u001b[0;34m,\u001b[0m \u001b[0mcountries\u001b[0m\u001b[0;34m[\u001b[0m\u001b[0mj\u001b[0m\u001b[0;34m]\u001b[0m\u001b[0;34m,\u001b[0m \u001b[0madjmat\u001b[0m\u001b[0;34m[\u001b[0m\u001b[0mi\u001b[0m\u001b[0;34m,\u001b[0m\u001b[0mj\u001b[0m\u001b[0;34m]\u001b[0m\u001b[0;34m]\u001b[0m\u001b[0;34m)\u001b[0m\u001b[0;34m\u001b[0m\u001b[0;34m\u001b[0m\u001b[0m\n\u001b[0m\u001b[1;32m      8\u001b[0m             \u001b[0mrow_df\u001b[0m \u001b[0;34m=\u001b[0m \u001b[0mpd\u001b[0m\u001b[0;34m.\u001b[0m\u001b[0mDataFrame\u001b[0m\u001b[0;34m(\u001b[0m\u001b[0;34m[\u001b[0m\u001b[0ma_row\u001b[0m\u001b[0;34m]\u001b[0m\u001b[0;34m)\u001b[0m\u001b[0;34m\u001b[0m\u001b[0;34m\u001b[0m\u001b[0m\n\u001b[1;32m      9\u001b[0m             \u001b[0mdf\u001b[0m \u001b[0;34m=\u001b[0m \u001b[0mpd\u001b[0m\u001b[0;34m.\u001b[0m\u001b[0mconcat\u001b[0m\u001b[0;34m(\u001b[0m\u001b[0;34m[\u001b[0m\u001b[0mdf\u001b[0m\u001b[0;34m,\u001b[0m \u001b[0mrow_df\u001b[0m\u001b[0;34m]\u001b[0m\u001b[0;34m)\u001b[0m\u001b[0;34m\u001b[0m\u001b[0;34m\u001b[0m\u001b[0m\n",
      "\u001b[0;31mNameError\u001b[0m: name 'countries' is not defined"
     ]
    }
   ],
   "source": [
    "df = pd.DataFrame([[-1,-1,-1]])\n",
    "for i in range(adjmat.shape[0]):\n",
    "    for j in range(adjmat.shape[1]):\n",
    "        if(adj_df.iloc[i,j]==0):\n",
    "            continue\n",
    "        if(countries[i] != 'nan' and countries[j] != 'nan'):\n",
    "            a_row = pd.Series([countries[i], countries[j], adj_df.iloc[i,j]])\n",
    "            row_df = pd.DataFrame([a_row])\n",
    "            df = pd.concat([df, row_df])\n",
    "#         df = pd.DataFrame(pd.Series(i,j,adjmat[i,j]), index=range(1),columns=['from','to','weight'])"
   ]
  },
  {
   "cell_type": "code",
   "execution_count": 57,
   "metadata": {},
   "outputs": [
    {
     "data": {
      "text/html": [
       "<div>\n",
       "<style scoped>\n",
       "    .dataframe tbody tr th:only-of-type {\n",
       "        vertical-align: middle;\n",
       "    }\n",
       "\n",
       "    .dataframe tbody tr th {\n",
       "        vertical-align: top;\n",
       "    }\n",
       "\n",
       "    .dataframe thead th {\n",
       "        text-align: right;\n",
       "    }\n",
       "</style>\n",
       "<table border=\"1\" class=\"dataframe\">\n",
       "  <thead>\n",
       "    <tr style=\"text-align: right;\">\n",
       "      <th></th>\n",
       "      <th>0</th>\n",
       "      <th>1</th>\n",
       "      <th>2</th>\n",
       "    </tr>\n",
       "  </thead>\n",
       "  <tbody>\n",
       "    <tr>\n",
       "      <td>0</td>\n",
       "      <td>-1</td>\n",
       "      <td>-1</td>\n",
       "      <td>-1.0</td>\n",
       "    </tr>\n",
       "    <tr>\n",
       "      <td>0</td>\n",
       "      <td>US</td>\n",
       "      <td>DE</td>\n",
       "      <td>9.0</td>\n",
       "    </tr>\n",
       "    <tr>\n",
       "      <td>0</td>\n",
       "      <td>US</td>\n",
       "      <td>FR</td>\n",
       "      <td>12.0</td>\n",
       "    </tr>\n",
       "    <tr>\n",
       "      <td>0</td>\n",
       "      <td>US</td>\n",
       "      <td>BR</td>\n",
       "      <td>8.0</td>\n",
       "    </tr>\n",
       "    <tr>\n",
       "      <td>0</td>\n",
       "      <td>US</td>\n",
       "      <td>ID</td>\n",
       "      <td>2.0</td>\n",
       "    </tr>\n",
       "    <tr>\n",
       "      <td>...</td>\n",
       "      <td>...</td>\n",
       "      <td>...</td>\n",
       "      <td>...</td>\n",
       "    </tr>\n",
       "    <tr>\n",
       "      <td>0</td>\n",
       "      <td>HN</td>\n",
       "      <td>US</td>\n",
       "      <td>1.0</td>\n",
       "    </tr>\n",
       "    <tr>\n",
       "      <td>0</td>\n",
       "      <td>BN</td>\n",
       "      <td>ID</td>\n",
       "      <td>2.0</td>\n",
       "    </tr>\n",
       "    <tr>\n",
       "      <td>0</td>\n",
       "      <td>SI</td>\n",
       "      <td>AT</td>\n",
       "      <td>1.0</td>\n",
       "    </tr>\n",
       "    <tr>\n",
       "      <td>0</td>\n",
       "      <td>MU</td>\n",
       "      <td>AE</td>\n",
       "      <td>1.0</td>\n",
       "    </tr>\n",
       "    <tr>\n",
       "      <td>0</td>\n",
       "      <td>PF</td>\n",
       "      <td>US</td>\n",
       "      <td>2.0</td>\n",
       "    </tr>\n",
       "  </tbody>\n",
       "</table>\n",
       "<p>208 rows × 3 columns</p>\n",
       "</div>"
      ],
      "text/plain": [
       "     0   1     2\n",
       "0   -1  -1  -1.0\n",
       "0   US  DE   9.0\n",
       "0   US  FR  12.0\n",
       "0   US  BR   8.0\n",
       "0   US  ID   2.0\n",
       "..  ..  ..   ...\n",
       "0   HN  US   1.0\n",
       "0   BN  ID   2.0\n",
       "0   SI  AT   1.0\n",
       "0   MU  AE   1.0\n",
       "0   PF  US   2.0\n",
       "\n",
       "[208 rows x 3 columns]"
      ]
     },
     "execution_count": 57,
     "metadata": {},
     "output_type": "execute_result"
    }
   ],
   "source": [
    "df"
   ]
  },
  {
   "cell_type": "code",
   "execution_count": 59,
   "metadata": {},
   "outputs": [
    {
     "data": {
      "text/html": [
       "<div>\n",
       "<style scoped>\n",
       "    .dataframe tbody tr th:only-of-type {\n",
       "        vertical-align: middle;\n",
       "    }\n",
       "\n",
       "    .dataframe tbody tr th {\n",
       "        vertical-align: top;\n",
       "    }\n",
       "\n",
       "    .dataframe thead th {\n",
       "        text-align: right;\n",
       "    }\n",
       "</style>\n",
       "<table border=\"1\" class=\"dataframe\">\n",
       "  <thead>\n",
       "    <tr style=\"text-align: right;\">\n",
       "      <th></th>\n",
       "      <th>0</th>\n",
       "      <th>1</th>\n",
       "      <th>2</th>\n",
       "    </tr>\n",
       "  </thead>\n",
       "  <tbody>\n",
       "    <tr>\n",
       "      <td>0</td>\n",
       "      <td>US</td>\n",
       "      <td>DE</td>\n",
       "      <td>9.0</td>\n",
       "    </tr>\n",
       "    <tr>\n",
       "      <td>0</td>\n",
       "      <td>US</td>\n",
       "      <td>FR</td>\n",
       "      <td>12.0</td>\n",
       "    </tr>\n",
       "    <tr>\n",
       "      <td>0</td>\n",
       "      <td>US</td>\n",
       "      <td>BR</td>\n",
       "      <td>8.0</td>\n",
       "    </tr>\n",
       "    <tr>\n",
       "      <td>0</td>\n",
       "      <td>US</td>\n",
       "      <td>ID</td>\n",
       "      <td>2.0</td>\n",
       "    </tr>\n",
       "    <tr>\n",
       "      <td>0</td>\n",
       "      <td>US</td>\n",
       "      <td>JP</td>\n",
       "      <td>3.0</td>\n",
       "    </tr>\n",
       "    <tr>\n",
       "      <td>...</td>\n",
       "      <td>...</td>\n",
       "      <td>...</td>\n",
       "      <td>...</td>\n",
       "    </tr>\n",
       "    <tr>\n",
       "      <td>0</td>\n",
       "      <td>HN</td>\n",
       "      <td>US</td>\n",
       "      <td>1.0</td>\n",
       "    </tr>\n",
       "    <tr>\n",
       "      <td>0</td>\n",
       "      <td>BN</td>\n",
       "      <td>ID</td>\n",
       "      <td>2.0</td>\n",
       "    </tr>\n",
       "    <tr>\n",
       "      <td>0</td>\n",
       "      <td>SI</td>\n",
       "      <td>AT</td>\n",
       "      <td>1.0</td>\n",
       "    </tr>\n",
       "    <tr>\n",
       "      <td>0</td>\n",
       "      <td>MU</td>\n",
       "      <td>AE</td>\n",
       "      <td>1.0</td>\n",
       "    </tr>\n",
       "    <tr>\n",
       "      <td>0</td>\n",
       "      <td>PF</td>\n",
       "      <td>US</td>\n",
       "      <td>2.0</td>\n",
       "    </tr>\n",
       "  </tbody>\n",
       "</table>\n",
       "<p>207 rows × 3 columns</p>\n",
       "</div>"
      ],
      "text/plain": [
       "     0   1     2\n",
       "0   US  DE   9.0\n",
       "0   US  FR  12.0\n",
       "0   US  BR   8.0\n",
       "0   US  ID   2.0\n",
       "0   US  JP   3.0\n",
       "..  ..  ..   ...\n",
       "0   HN  US   1.0\n",
       "0   BN  ID   2.0\n",
       "0   SI  AT   1.0\n",
       "0   MU  AE   1.0\n",
       "0   PF  US   2.0\n",
       "\n",
       "[207 rows x 3 columns]"
      ]
     },
     "execution_count": 59,
     "metadata": {},
     "output_type": "execute_result"
    }
   ],
   "source": [
    "gephi_df=df.iloc[1:,]\n",
    "# len(np.unique(np.array(gephi_df[[0,1]])))\n",
    "gephi_df"
   ]
  },
  {
   "cell_type": "code",
   "execution_count": null,
   "metadata": {},
   "outputs": [],
   "source": [
    "gephi_df"
   ]
  },
  {
   "cell_type": "code",
   "execution_count": 37,
   "metadata": {},
   "outputs": [],
   "source": [
    "# df.to_csv('test.txt', sep=\" \", index=False)\n",
    "gephi_df.to_csv('gephi_test.csv', index=False)"
   ]
  }
 ],
 "metadata": {
  "kernelspec": {
   "display_name": "Python 3",
   "language": "python",
   "name": "python3"
  },
  "language_info": {
   "codemirror_mode": {
    "name": "ipython",
    "version": 3
   },
   "file_extension": ".py",
   "mimetype": "text/x-python",
   "name": "python",
   "nbconvert_exporter": "python",
   "pygments_lexer": "ipython3",
   "version": "3.7.6"
  }
 },
 "nbformat": 4,
 "nbformat_minor": 2
}

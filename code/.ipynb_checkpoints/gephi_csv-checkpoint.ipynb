{
 "cells": [
  {
   "cell_type": "code",
   "execution_count": 4,
   "metadata": {},
   "outputs": [],
   "source": [
    "import numpy as np\n",
    "import matplotlib.pyplot as plt\n",
    "import pandas as pd\n",
    "import pickle"
   ]
  },
  {
   "cell_type": "code",
   "execution_count": 6,
   "metadata": {},
   "outputs": [],
   "source": [
    "with open('global_travel_tensor.pkl', 'rb') as f:\n",
    "    travel_tensor = pickle.load(f) \n",
    "\n",
    "with open('global_serial_graphs.pkl', 'rb') as f:\n",
    "    serial_graphs = pickle.load(f) "
   ]
  },
  {
   "cell_type": "code",
   "execution_count": 7,
   "metadata": {},
   "outputs": [],
   "source": [
    "adjmat = travel_tensor[100][:,0:226]"
   ]
  },
  {
   "cell_type": "code",
   "execution_count": 14,
   "metadata": {},
   "outputs": [],
   "source": [
    "countries = ['US', 'EC', 'DE', 'CH', 'FR', 'VE', 'CO', 'BR', 'MT', 'ID', 'JP',\n",
    "       'ZA', 'GB', 'NG', 'MX', 'CR', 'PH', 'ES', 'HK', 'HR', 'TW', 'AU',\n",
    "       'CA', 'MA', 'IT', 'TR', 'TH', 'RU', 'NZ', 'CN', 'AR', 'PY', 'NL',\n",
    "       'KW', 'nan', 'NO', 'PE', 'IN', 'SE', 'MD', 'KR', 'SA', 'CL', 'JO',\n",
    "       'MY', 'SG', 'QA', 'AZ', 'UY', 'EG', 'DO', 'TT', 'JM', 'CZ', 'IE',\n",
    "       'HU', 'VN', 'PT', 'IS', 'BE', 'AE', 'FI', 'PL', 'PR', 'AT', 'BG',\n",
    "       'CU', 'GR', 'SV', 'GT', 'DK', 'FO', 'CY', 'MC', 'AG', 'MS', 'BM',\n",
    "       'EE', 'LK', 'PK', 'PA', 'BS', 'RS', 'LV', 'AW', 'IL', 'ET', 'CD',\n",
    "       'KE', 'UA', 'GU', 'KH', 'OM', 'BZ', 'VA', 'MO', 'RO', 'UZ', 'ZW',\n",
    "       'BW', 'TZ', 'ME', 'AL', 'IR', 'TC', 'BH', 'UG', 'GH', 'SY', 'LB',\n",
    "       'AD', 'MV', 'GY', 'SK', 'LU', 'LA', 'HN', 'AF', 'HT', 'SX', 'CW',\n",
    "       'BN', 'SM', 'MM', 'GI', 'ZM', 'DZ', 'SI', 'MW', 'KY', 'SC', 'BO',\n",
    "       'RE', 'GF', 'GP', 'TN', 'NP', 'BB', 'LT', 'BT', 'BL', 'BY', 'MN',\n",
    "       'AI', 'MZ', 'BA', 'VI', 'AO', 'NI', 'SD', 'BD', 'KN', 'MQ', 'MF',\n",
    "       'GE', 'KP', 'XK', 'SN', 'MU', 'KZ', 'IQ', 'IM', 'FM', 'MH', 'NC',\n",
    "       'CI', 'KM', 'LI', 'TJ', 'RW', 'GD', 'LR', 'LC', 'MK', 'KG', 'CM',\n",
    "       'PF', 'AM', 'VG', 'BJ', 'MG', 'AX', 'TD', 'AQ', 'BF', 'AS', 'WS',\n",
    "       'SZ', 'SL', 'GL', 'LS', 'NE', 'GW', 'ML', 'LY', 'TM', 'PG', 'CF',\n",
    "       'YE', 'MP', 'ER', 'GA', 'CG', 'JE', 'CV', 'GQ', 'BQ', 'TG', 'TL',\n",
    "       'VC', 'TO', 'DJ', 'SB', 'SO', 'MR', 'SR', 'GM', 'DM', 'ST', 'GN',\n",
    "       'BI', 'VU', 'YT', 'NU', 'FK', 'PW']"
   ]
  },
  {
   "cell_type": "code",
   "execution_count": 21,
   "metadata": {},
   "outputs": [],
   "source": [
    "adj_df = pd.DataFrame(adjmat)\n",
    "adj_df.index = countries\n",
    "adj_df.columns = countries"
   ]
  },
  {
   "cell_type": "code",
   "execution_count": 31,
   "metadata": {},
   "outputs": [],
   "source": [
    "df = pd.DataFrame([[-1,-1,-1]])\n",
    "for i in range(adjmat.shape[0]):\n",
    "    for j in range(adjmat.shape[1]):\n",
    "        if(adj_df.iloc[i,j]==0):\n",
    "            continue\n",
    "        if(countries[i] != 'nan' and countries[j] != 'nan'):\n",
    "            a_row = pd.Series([countries[i], countries[j], adj_df.iloc[i,j]])\n",
    "            row_df = pd.DataFrame([a_row])\n",
    "            df = pd.concat([df, row_df])\n",
    "#         df = pd.DataFrame(pd.Series(i,j,adjmat[i,j]), index=range(1),columns=['from','to','weight'])"
   ]
  },
  {
   "cell_type": "code",
   "execution_count": 36,
   "metadata": {},
   "outputs": [
    {
     "data": {
      "text/html": [
       "<div>\n",
       "<style scoped>\n",
       "    .dataframe tbody tr th:only-of-type {\n",
       "        vertical-align: middle;\n",
       "    }\n",
       "\n",
       "    .dataframe tbody tr th {\n",
       "        vertical-align: top;\n",
       "    }\n",
       "\n",
       "    .dataframe thead th {\n",
       "        text-align: right;\n",
       "    }\n",
       "</style>\n",
       "<table border=\"1\" class=\"dataframe\">\n",
       "  <thead>\n",
       "    <tr style=\"text-align: right;\">\n",
       "      <th></th>\n",
       "      <th>0</th>\n",
       "      <th>1</th>\n",
       "      <th>2</th>\n",
       "    </tr>\n",
       "  </thead>\n",
       "  <tbody>\n",
       "    <tr>\n",
       "      <td>0</td>\n",
       "      <td>US</td>\n",
       "      <td>DE</td>\n",
       "      <td>9.0</td>\n",
       "    </tr>\n",
       "    <tr>\n",
       "      <td>0</td>\n",
       "      <td>US</td>\n",
       "      <td>FR</td>\n",
       "      <td>12.0</td>\n",
       "    </tr>\n",
       "    <tr>\n",
       "      <td>0</td>\n",
       "      <td>US</td>\n",
       "      <td>BR</td>\n",
       "      <td>8.0</td>\n",
       "    </tr>\n",
       "    <tr>\n",
       "      <td>0</td>\n",
       "      <td>US</td>\n",
       "      <td>ID</td>\n",
       "      <td>2.0</td>\n",
       "    </tr>\n",
       "    <tr>\n",
       "      <td>0</td>\n",
       "      <td>US</td>\n",
       "      <td>JP</td>\n",
       "      <td>3.0</td>\n",
       "    </tr>\n",
       "    <tr>\n",
       "      <td>...</td>\n",
       "      <td>...</td>\n",
       "      <td>...</td>\n",
       "      <td>...</td>\n",
       "    </tr>\n",
       "    <tr>\n",
       "      <td>0</td>\n",
       "      <td>HN</td>\n",
       "      <td>US</td>\n",
       "      <td>1.0</td>\n",
       "    </tr>\n",
       "    <tr>\n",
       "      <td>0</td>\n",
       "      <td>BN</td>\n",
       "      <td>ID</td>\n",
       "      <td>2.0</td>\n",
       "    </tr>\n",
       "    <tr>\n",
       "      <td>0</td>\n",
       "      <td>SI</td>\n",
       "      <td>AT</td>\n",
       "      <td>1.0</td>\n",
       "    </tr>\n",
       "    <tr>\n",
       "      <td>0</td>\n",
       "      <td>MU</td>\n",
       "      <td>AE</td>\n",
       "      <td>1.0</td>\n",
       "    </tr>\n",
       "    <tr>\n",
       "      <td>0</td>\n",
       "      <td>PF</td>\n",
       "      <td>US</td>\n",
       "      <td>2.0</td>\n",
       "    </tr>\n",
       "  </tbody>\n",
       "</table>\n",
       "<p>207 rows × 3 columns</p>\n",
       "</div>"
      ],
      "text/plain": [
       "     0   1     2\n",
       "0   US  DE   9.0\n",
       "0   US  FR  12.0\n",
       "0   US  BR   8.0\n",
       "0   US  ID   2.0\n",
       "0   US  JP   3.0\n",
       "..  ..  ..   ...\n",
       "0   HN  US   1.0\n",
       "0   BN  ID   2.0\n",
       "0   SI  AT   1.0\n",
       "0   MU  AE   1.0\n",
       "0   PF  US   2.0\n",
       "\n",
       "[207 rows x 3 columns]"
      ]
     },
     "execution_count": 36,
     "metadata": {},
     "output_type": "execute_result"
    }
   ],
   "source": [
    "gephi_df=df.iloc[1:,]\n",
    "gephi_df"
   ]
  },
  {
   "cell_type": "code",
   "execution_count": 35,
   "metadata": {},
   "outputs": [
    {
     "ename": "NameError",
     "evalue": "name 'geph_df' is not defined",
     "output_type": "error",
     "traceback": [
      "\u001b[0;31m---------------------------------------------------------------------------\u001b[0m",
      "\u001b[0;31mNameError\u001b[0m                                 Traceback (most recent call last)",
      "\u001b[0;32m<ipython-input-35-62f73ef15893>\u001b[0m in \u001b[0;36m<module>\u001b[0;34m\u001b[0m\n\u001b[1;32m      1\u001b[0m \u001b[0;31m# df.to_csv('test.txt', sep=\" \", index=False)\u001b[0m\u001b[0;34m\u001b[0m\u001b[0;34m\u001b[0m\u001b[0;34m\u001b[0m\u001b[0m\n\u001b[0;32m----> 2\u001b[0;31m \u001b[0mgeph_df\u001b[0m\u001b[0;34m.\u001b[0m\u001b[0mto_csv\u001b[0m\u001b[0;34m(\u001b[0m\u001b[0;34m'gephi_test.csv'\u001b[0m\u001b[0;34m,\u001b[0m \u001b[0mindex\u001b[0m\u001b[0;34m=\u001b[0m\u001b[0;32mFalse\u001b[0m\u001b[0;34m)\u001b[0m\u001b[0;34m\u001b[0m\u001b[0;34m\u001b[0m\u001b[0m\n\u001b[0m",
      "\u001b[0;31mNameError\u001b[0m: name 'geph_df' is not defined"
     ]
    }
   ],
   "source": [
    "# df.to_csv('test.txt', sep=\" \", index=False)\n",
    "geph_df.to_csv('gephi_test.csv', index=False)"
   ]
  }
 ],
 "metadata": {
  "kernelspec": {
   "display_name": "Python 3",
   "language": "python",
   "name": "python3"
  },
  "language_info": {
   "codemirror_mode": {
    "name": "ipython",
    "version": 3
   },
   "file_extension": ".py",
   "mimetype": "text/x-python",
   "name": "python",
   "nbconvert_exporter": "python",
   "pygments_lexer": "ipython3",
   "version": "3.7.4"
  }
 },
 "nbformat": 4,
 "nbformat_minor": 2
}

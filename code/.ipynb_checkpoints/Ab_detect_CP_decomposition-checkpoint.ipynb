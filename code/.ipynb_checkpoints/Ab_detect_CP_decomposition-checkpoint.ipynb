{
 "cells": [
  {
   "cell_type": "code",
   "execution_count": 104,
   "metadata": {},
   "outputs": [
    {
     "data": {
      "text/plain": [
       "'/Users/bluethou/Documents/TUM2020S/Thesis2020/thesis_pooreumoe_kim/code'"
      ]
     },
     "execution_count": 104,
     "metadata": {},
     "output_type": "execute_result"
    }
   ],
   "source": [
    "import os\n",
    "import pickle\n",
    "os.getcwd()"
   ]
  },
  {
   "cell_type": "code",
   "execution_count": 105,
   "metadata": {},
   "outputs": [],
   "source": [
    "import numpy as np\n",
    "import matplotlib.pyplot as plt\n",
    "import seaborn as sns\n",
    "\n",
    "from sklearn.decomposition import FactorAnalysis, PCA\n",
    "import tensortools as tt\n",
    "from tensortools.operations import unfold as tt_unfold, khatri_rao\n",
    "import tensorly as tl\n",
    "from tensorly import unfold as tl_unfold\n",
    "from tensorly.decomposition import parafac\n",
    "\n",
    "# import some useful functions (they are available in utils.py)\n",
    "# from utils import *"
   ]
  },
  {
   "cell_type": "code",
   "execution_count": 106,
   "metadata": {},
   "outputs": [],
   "source": [
    "# Load Tensor\n",
    "with open('travel_tensor.pkl', 'rb') as f:\n",
    "    travel_data = pickle.load(f)"
   ]
  },
  {
   "cell_type": "code",
   "execution_count": 107,
   "metadata": {},
   "outputs": [
    {
     "name": "stdout",
     "output_type": "stream",
     "text": [
      "[[0. 0. 0. ... 0. 0. 0.]\n",
      " [0. 0. 2. ... 0. 0. 0.]\n",
      " [0. 1. 0. ... 0. 0. 0.]\n",
      " ...\n",
      " [0. 0. 0. ... 0. 0. 0.]\n",
      " [0. 0. 0. ... 0. 0. 0.]\n",
      " [0. 0. 0. ... 0. 0. 0.]]\n"
     ]
    }
   ],
   "source": [
    "print(travel_data[1])"
   ]
  },
  {
   "cell_type": "code",
   "execution_count": 108,
   "metadata": {},
   "outputs": [],
   "source": [
    "# Create serial tensors by slicing the time interval.\n",
    "W = 5 # window size\n",
    "serial_tensors = []\n",
    "for i in range(len(travel_data)-W):\n",
    "    serial_tensors.append(travel_data[i:i+5])\n"
   ]
  },
  {
   "cell_type": "code",
   "execution_count": 109,
   "metadata": {
    "scrolled": false
   },
   "outputs": [
    {
     "name": "stdout",
     "output_type": "stream",
     "text": [
      "interation: 0 | Loss (A): 0.03163203694102857 | Loss (C): 0.03761748439341469\n",
      "interation: 16 | Loss (A): 0.05024449327941491 | Loss (C): 0.05187499418400635\n",
      "interation: 32 | Loss (A): 0.0779624727810281 | Loss (C): 0.08249989536637393\n",
      "interation: 48 | Loss (A): 0.05458278839524761 | Loss (C): 0.05535584649922309\n",
      "interation: 64 | Loss (A): 0.08700862531840775 | Loss (C): 0.08999499840909446\n",
      "interation: 80 | Loss (A): 0.16029351021057767 | Loss (C): 0.1709065783351662\n",
      "interation: 96 | Loss (A): 0.13372356455105383 | Loss (C): 0.14107579527939382\n",
      "interation: 112 | Loss (A): 0.20991585912254182 | Loss (C): 0.2190325144137846\n",
      "interation: 128 | Loss (A): 0.5135447166197911 | Loss (C): 0.5457194545683856\n",
      "interation: 144 | Loss (A): 0.2285268857214407 | Loss (C): 0.24351468276658672\n",
      "interation: 160 | Loss (A): 0.031416885430973214 | Loss (C): 0.030916226555632267\n"
     ]
    }
   ],
   "source": [
    "rank = 75\n",
    "\n",
    "A = np.random.random((serial_tensors[0].shape[1], rank)) #node\n",
    "B = np.random.random((serial_tensors[0].shape[2], rank)) #feature\n",
    "C = np.random.random((serial_tensors[0].shape[0], rank)) #time\n",
    "A_array = []\n",
    "C_array = []\n",
    "Ct_B =0\n",
    "B_At =0\n",
    "alpha = 0.05\n",
    "beta = 0.05\n",
    "T_interval = len(serial_tensors)\n",
    "\n",
    "for t in range(T_interval):\n",
    "    Xt = serial_tensors[t]\n",
    "    \n",
    "  # optimiza A\n",
    "    Ct_B = khatri_rao([C, B])\n",
    "    Xt_mode1_transpose = tl.unfold(Xt, mode=1).T\n",
    "    X = np.concatenate((Xt_mode1_transpose, np.sqrt(alpha)*A.T), axis=0)\n",
    "    I = np.identity(A.shape[1])\n",
    "    F = np.concatenate((Ct_B, np.sqrt(alpha)*I), axis=0)\n",
    "    A = np.linalg.lstsq(F,X, rcond=None)[0].T\n",
    "    A_array.append(A)\n",
    "\n",
    "    # optimize C\n",
    "    B_At = khatri_rao([B, A])\n",
    "    Xt_mode3_transpose = tl.unfold(Xt, mode=0).T\n",
    "    X = np.concatenate((Xt_mode3_transpose, np.sqrt(beta)*C.T), axis=0)\n",
    "    I = np.identity(C.shape[1])\n",
    "    F = np.concatenate((B_At, np.sqrt(beta)*I), axis=0)\n",
    "    C = np.linalg.lstsq(F,X, rcond=None)[0].T\n",
    "    C_array.append(C)\n",
    "\n",
    "    if t % int(T_interval * .1) == 0:\n",
    "        res_a = np.square(Ct_B.dot(A.T) - Xt_mode1_transpose)\n",
    "        res_c = np.square(B_At.dot(C.T) - Xt_mode3_transpose)\n",
    "        print(\"interation:\", t, \"| Loss (A):\", res_a.mean(), \"| Loss (C):\", res_c.mean())"
   ]
  },
  {
   "cell_type": "code",
   "execution_count": 110,
   "metadata": {},
   "outputs": [],
   "source": [
    "# optimize B\n",
    "# X = np.concatenate(, axis=0)\n",
    "X_concat = tl.unfold(serial_tensors[0], mode=2).T\n",
    "for x in range(len(serial_tensors)):\n",
    "    if x>0:\n",
    "        XtT_unfold = tl.unfold(serial_tensors[x], mode=2).T\n",
    "        X_concat = np.concatenate((X_concat, XtT_unfold))\n",
    "\n",
    "F_concat = khatri_rao([C_array[0], A_array[0]])\n",
    "for i in range(len(C_array)):\n",
    "    if i >0:\n",
    "        F_concat = np.concatenate((F_concat, khatri_rao([C_array[i], A_array[i]])))\n",
    "        \n",
    "B = np.linalg.lstsq(F_concat,X_concat, rcond=None)[0].T"
   ]
  },
  {
   "cell_type": "code",
   "execution_count": 186,
   "metadata": {},
   "outputs": [
    {
     "name": "stdout",
     "output_type": "stream",
     "text": [
      "0.24391406319086115 0.2499248461376963\n",
      "0.01719596347335426 0.24391406319086115 0.029726210627989826\n"
     ]
    }
   ],
   "source": [
    "# Error comparision \n",
    "\n",
    "res_b_array=[]\n",
    "res_rand_b_array=[]\n",
    "for i in range(len(serial_tensors)):\n",
    "    Xt = serial_tensors[i]\n",
    "    Xt_mode2_transpose = tl.unfold(Xt, mode=2).T\n",
    "    res_b = np.square(khatri_rao([A,C]).dot(B.T) - Xt_mode2_transpose)\n",
    "    res_b_array.append(res_b.mean())\n",
    "    rB = np.random.random((serial_tensors[0].shape[2], rank))\n",
    "    rand_res_b = np.square(khatri_rao([A,C]).dot(rB.T) - Xt_mode2_transpose)\n",
    "    res_rand_b_array.append(rand_res_b.mean())\n",
    "#     print(res_b.mean(), rand_res_b.mean())\n",
    "\n",
    "res_a = np.square(khatri_rao([C, B]).dot(A.T) - Xt_mode1_transpose)\n",
    "\n",
    "res_c = np.square(khatri_rao([B, A]).dot(C.T) - Xt_mode3_transpose)\n",
    "print(np.mean(res_b_array[10:]), np.mean(res_rand_b_array[10:]))\n",
    "print(res_a.mean(), np.mean(res_b_array[10:]), res_c.mean())"
   ]
  }
 ],
 "metadata": {
  "kernelspec": {
   "display_name": "Python 3",
   "language": "python",
   "name": "python3"
  },
  "language_info": {
   "codemirror_mode": {
    "name": "ipython",
    "version": 3
   },
   "file_extension": ".py",
   "mimetype": "text/x-python",
   "name": "python",
   "nbconvert_exporter": "python",
   "pygments_lexer": "ipython3",
   "version": "3.7.4"
  }
 },
 "nbformat": 4,
 "nbformat_minor": 2
}
